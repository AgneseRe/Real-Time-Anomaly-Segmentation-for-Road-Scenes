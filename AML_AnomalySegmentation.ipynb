{
  "nbformat": 4,
  "nbformat_minor": 0,
  "metadata": {
    "colab": {
      "provenance": [],
      "gpuType": "T4",
      "include_colab_link": true
    },
    "kernelspec": {
      "name": "python3",
      "display_name": "Python 3"
    },
    "language_info": {
      "name": "python"
    },
    "accelerator": "GPU"
  },
  "cells": [
    {
      "cell_type": "markdown",
      "metadata": {
        "id": "view-in-github",
        "colab_type": "text"
      },
      "source": [
        "<a href=\"https://colab.research.google.com/github/AgneseRe/Real-Time-Anomaly-Segmentation-for-Road-Scenes/blob/main/AML_AnomalySegmentation.ipynb\" target=\"_parent\"><img src=\"https://colab.research.google.com/assets/colab-badge.svg\" alt=\"Open In Colab\"/></a>"
      ]
    },
    {
      "cell_type": "code",
      "source": [
        "!rm -r sample_data/"
      ],
      "metadata": {
        "id": "SM0tK1_6axvI"
      },
      "execution_count": 2,
      "outputs": []
    },
    {
      "cell_type": "code",
      "execution_count": null,
      "metadata": {
        "id": "iKs5NUFH8FWA"
      },
      "outputs": [],
      "source": [
        "# clone the github repo and move all files to the current working directory\n",
        "!git clone https://github.com/AgneseRe/Real-Time-Anomaly-Segmentation-for-Road-Scenes.git\n",
        "!mv Real-Time-Anomaly-Segmentation-for-Road-Scenes/* .\n",
        "!rm -r Real-Time-Anomaly-Segmentation-for-Road-Scenes/"
      ]
    },
    {
      "cell_type": "code",
      "source": [
        "# download required packages\n",
        "!pip3 install --quiet cityscapesscripts\n",
        "!pip3 install --quiet gdown\n",
        "!pip3 install --quiet numpy\n",
        "!pip3 install --quiet matplotlib\n",
        "!pip3 install --quiet Pillow\n",
        "!pip3 install --quiet torchvision\n",
        "!pip3 install --quiet visdom\n",
        "!pip3 install --quiet ood_metrics"
      ],
      "metadata": {
        "id": "TODE_lyvVXCq"
      },
      "execution_count": null,
      "outputs": []
    },
    {
      "cell_type": "code",
      "source": [
        "# download and unzip validation dataset\n",
        "!gdown 'https://drive.google.com/uc?id=12YJq48XkCxQHjN3CmLc-zM5dThSak4Ta'\n",
        "!file 'Validation_Dataset.zip'\n",
        "!ls -lh Validation_Dataset.zip\n",
        "!unzip -q 'Validation_Dataset.zip'\n",
        "!mkdir validation_dataset && cp -pR Validation_Dataset/* validation_dataset/ && rm -R Validation_Dataset/\n",
        "!unzip -l 'Validation_Dataset.zip'"
      ],
      "metadata": {
        "id": "Y_Bl3WGlWfon"
      },
      "execution_count": null,
      "outputs": []
    },
    {
      "cell_type": "code",
      "source": [
        "# download datasets for training and testing\n",
        "!csDownload leftImg8bit_trainvaltest.zip\n",
        "!csDownload gtFine_trainvaltest.zip\n",
        "\n",
        "# unzip the datasets\n",
        "!unzip -q 'leftImg8bit_trainvaltest.zip' -d 'cityscapes'\n",
        "!unzip -o -q 'gtFine_trainvaltest.zip' -d 'cityscapes'\n",
        "\n",
        "# generate trainIds from labelIds\n",
        "!CITYSCAPES_DATASET='cityscapes/' csCreateTrainIdLabelImgs"
      ],
      "metadata": {
        "id": "YbJb_dYD8N-j"
      },
      "execution_count": null,
      "outputs": []
    },
    {
      "cell_type": "markdown",
      "source": [
        "## Evaluation"
      ],
      "metadata": {
        "id": "_czbWkaraAdh"
      }
    },
    {
      "cell_type": "code",
      "source": [
        "%cd eval"
      ],
      "metadata": {
        "colab": {
          "base_uri": "https://localhost:8080/"
        },
        "id": "W9ewyGcSZ__2",
        "outputId": "8f311b94-e7eb-40ad-85d1-cb6d42057a18"
      },
      "execution_count": 5,
      "outputs": [
        {
          "output_type": "stream",
          "name": "stdout",
          "text": [
            "[Errno 2] No such file or directory: 'eval'\n",
            "/content/eval\n"
          ]
        }
      ]
    },
    {
      "cell_type": "code",
      "source": [
        "import os"
      ],
      "metadata": {
        "id": "NqmizO-Knp6g"
      },
      "execution_count": 6,
      "outputs": []
    },
    {
      "cell_type": "code",
      "source": [
        "!file ../validation_dataset/RoadAnomaly/images/*.* | grep -i 'image' | cut -d: -f2 | sort | uniq -c"
      ],
      "metadata": {
        "id": "ROK5sm8Vf_of"
      },
      "execution_count": null,
      "outputs": []
    },
    {
      "cell_type": "code",
      "source": [
        "methods_list = [\"msp\", \"maxlogit\", \"maxentropy\"]\n",
        "datasets_list = os.listdir(\"../validation_dataset\")\n",
        "# for d in datasets_list:\n",
        "%run evalAnomaly.py --input=\"../validation_dataset/RoadAnomaly/images/*.jpg\" --method=\"msp\""
      ],
      "metadata": {
        "id": "5CoH7P5ukYN8"
      },
      "execution_count": null,
      "outputs": []
    },
    {
      "cell_type": "code",
      "source": [
        "%run evalAnomaly.py --input=\"../validation_dataset/RoadAnomaly/images/*.jpg\" --method=\"msp\""
      ],
      "metadata": {
        "id": "ugTB2V9yaUg9"
      },
      "execution_count": null,
      "outputs": []
    }
  ]
}