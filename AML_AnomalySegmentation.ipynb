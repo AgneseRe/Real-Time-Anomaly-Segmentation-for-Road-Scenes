{
  "cells": [
    {
      "cell_type": "markdown",
      "metadata": {
        "id": "view-in-github",
        "colab_type": "text"
      },
      "source": [
        "<a href=\"https://colab.research.google.com/github/AgneseRe/Real-Time-Anomaly-Segmentation-for-Road-Scenes/blob/main/AML_AnomalySegmentation.ipynb\" target=\"_parent\"><img src=\"https://colab.research.google.com/assets/colab-badge.svg\" alt=\"Open In Colab\"/></a>"
      ]
    },
    {
      "cell_type": "markdown",
      "metadata": {
        "id": "xjyXaByVOtbd"
      },
      "source": [
        "# **Real-time Anomaly Segmentation for Road Scenes**"
      ]
    },
    {
      "cell_type": "markdown",
      "metadata": {
        "id": "XpweY-zTOyvF"
      },
      "source": [
        "Existing deep neural networks, when deployed in open-world settings, perform poorly on unknown, anomaly, out-of-distribution (OoD) objects that were not present during the training. The goal of this project is to build tiny anomaly segmentation models to segment anomaly patterns. Models must be able to fit in small devices, which represents a realistic memory constraint for an edge application."
      ]
    },
    {
      "cell_type": "markdown",
      "metadata": {
        "id": "XxuFk3f4uqwU"
      },
      "source": [
        "## Preparation"
      ]
    },
    {
      "cell_type": "code",
      "execution_count": null,
      "metadata": {
        "id": "SOBJKZAfEwAZ"
      },
      "outputs": [],
      "source": [
        "!rm -r sample_data/"
      ]
    },
    {
      "cell_type": "code",
      "execution_count": null,
      "metadata": {
        "colab": {
          "base_uri": "https://localhost:8080/"
        },
        "id": "Wed7tVmrP222",
        "outputId": "cad74ca7-0d56-42e7-eb03-266ea742070d"
      },
      "outputs": [
        {
          "name": "stdout",
          "output_type": "stream",
          "text": [
            "\u001b[?25l     \u001b[90m━━━━━━━━━━━━━━━━━━━━━━━━━━━━━━━━━━━━━━━━\u001b[0m \u001b[32m0.0/78.6 kB\u001b[0m \u001b[31m?\u001b[0m eta \u001b[36m-:--:--\u001b[0m\r\u001b[2K     \u001b[90m━━━━━━━━━━━━━━━━━━━━━━━━━━━━━━━━━━━━━━━━\u001b[0m \u001b[32m78.6/78.6 kB\u001b[0m \u001b[31m6.0 MB/s\u001b[0m eta \u001b[36m0:00:00\u001b[0m\n",
            "\u001b[?25h  Preparing metadata (setup.py) ... \u001b[?25l\u001b[?25hdone\n",
            "\u001b[2K   \u001b[90m━━━━━━━━━━━━━━━━━━━━━━━━━━━━━━━━━━━━━━━━\u001b[0m \u001b[32m473.6/473.6 kB\u001b[0m \u001b[31m29.6 MB/s\u001b[0m eta \u001b[36m0:00:00\u001b[0m\n",
            "\u001b[2K   \u001b[90m━━━━━━━━━━━━━━━━━━━━━━━━━━━━━━━━━━━━━━━━\u001b[0m \u001b[32m46.0/46.0 kB\u001b[0m \u001b[31m3.9 MB/s\u001b[0m eta \u001b[36m0:00:00\u001b[0m\n",
            "\u001b[2K   \u001b[90m━━━━━━━━━━━━━━━━━━━━━━━━━━━━━━━━━━━━━━━━\u001b[0m \u001b[32m86.8/86.8 kB\u001b[0m \u001b[31m9.1 MB/s\u001b[0m eta \u001b[36m0:00:00\u001b[0m\n",
            "\u001b[?25h  Building wheel for typing (setup.py) ... \u001b[?25l\u001b[?25hdone\n",
            "\u001b[2K     \u001b[90m━━━━━━━━━━━━━━━━━━━━━━━━━━━━━━━━━━━━━━━━\u001b[0m \u001b[32m1.4/1.4 MB\u001b[0m \u001b[31m51.1 MB/s\u001b[0m eta \u001b[36m0:00:00\u001b[0m\n",
            "\u001b[?25h  Preparing metadata (setup.py) ... \u001b[?25l\u001b[?25hdone\n",
            "  Building wheel for visdom (setup.py) ... \u001b[?25l\u001b[?25hdone\n"
          ]
        }
      ],
      "source": [
        "# download required packages and import useful modules\n",
        "!pip3 install --quiet numpy\n",
        "!pip3 install --quiet Pillow\n",
        "\n",
        "!pip3 install --quiet matplotlib\n",
        "!pip3 install --quiet visdom\n",
        "\n",
        "!pip3 install --quiet gdown\n",
        "!pip3 install --quiet torchvision\n",
        "!pip3 install --quiet ood_metrics\n",
        "!pip3 install --quiet cityscapesscripts\n",
        "\n",
        "import os, sys, subprocess"
      ]
    },
    {
      "cell_type": "markdown",
      "metadata": {
        "id": "aha0ydTyO4IR"
      },
      "source": [
        "The following function is implemented to download the *Cityscapes* dataset in two different ways: via Google Drive (using `gdown`) or directly from the Cityscapes official website (using `csDownload`). Although the first option is preferable as it is definitely faster, direct download from the website is provided as an alternative. `gdown` may in fact raise the error *Failed to retrieve the file url* if the file we are attempting to download is exceptionally large (*e.g.* 11G), there are numerous users simultaneously trying to download it programmatically or we download it many times in a limited time. Regardless of the method used, use the conversor (available [here](https://github.com/mcordts/cityscapesScripts/blob/master/cityscapesscripts/preparation/createTrainIdLabelImgs.py)) to generate labelTrainIds from labelIds."
      ]
    },
    {
      "cell_type": "code",
      "execution_count": null,
      "metadata": {
        "id": "-cQRn0hfGLlV"
      },
      "outputs": [],
      "source": [
        "def download_cityscapes():\n",
        "\n",
        "    if not os.path.isdir('/content/Real-Time-Anomaly-Segmentation-for-Road-Scenes/cityscapes'):\n",
        "        print(\"Attempting to download cityscapes dataset using gdown...\")\n",
        "\n",
        "        try:\n",
        "            # If check is true, and the process exits with a non-zero exit code, a CalledProcessError exception will be raised.\n",
        "            subprocess.run([\"gdown\", \"https://drive.google.com/uc?id=11gSQ9UcLCnIqmY7srG2S6EVwV3paOMEq\"], check=True)\n",
        "            print(\"Dataset downloaded successfully using gdown. Unzipping...\")\n",
        "            subprocess.run([\"unzip\", \"-q\", \"cityscapes.zip\"], check=True)\n",
        "            # Use the conversor to generate labelTrainIds from labelIds\n",
        "            print(\"Generating trainIds from labelIds...\")\n",
        "            !CITYSCAPES_DATASET='cityscapes/' csCreateTrainIdLabelImgs\n",
        "\n",
        "        except subprocess.CalledProcessError as e:\n",
        "            print(\"gdown failed. Attempting to download cityscapes dataset from the official website...\")\n",
        "            try:\n",
        "              # Cityscapes credentials: (agnesere, FCSBwcVMi-u9-Zn)\n",
        "              !csDownload leftImg8bit_trainvaltest.zip\n",
        "              !csDownload gtFine_trainvaltest.zip\n",
        "\n",
        "              print(\"Dataset downloaded successfully from the official website. Unzipping...\")\n",
        "              !unzip -q 'leftImg8bit_trainvaltest.zip' -d 'cityscapes'\n",
        "              !unzip -o -q 'gtFine_trainvaltest.zip' -d 'cityscapes'\n",
        "\n",
        "              print(\"Generating trainIds from labelIds...\")\n",
        "              !CITYSCAPES_DATASET='cityscapes/' csCreateTrainIdLabelImgs\n",
        "\n",
        "              print(\"Cityscapes dataset ready\")\n",
        "\n",
        "            except Exception as e2:\n",
        "                print(\"Failed to download the dataset using both methods.\")"
      ]
    },
    {
      "cell_type": "markdown",
      "metadata": {
        "id": "NFHf3bXySHFf"
      },
      "source": [
        "Download and unzip the validation dataset (*FS_LostFound_full*, *RoadAnomaly*, *RoadAnomaly21*, *RoadObsticle21*, *fs_static*), clone or update the GitHub repository (*Real-Time-Anomaly-Segmentation-for-Road-Scenes*) and download the *Cityscapes* dataset."
      ]
    },
    {
      "cell_type": "code",
      "execution_count": null,
      "metadata": {
        "colab": {
          "base_uri": "https://localhost:8080/"
        },
        "id": "Y_Bl3WGlWfon",
        "outputId": "26405320-9c04-4bd0-c232-a8558f7cf4a2"
      },
      "outputs": [
        {
          "name": "stdout",
          "output_type": "stream",
          "text": [
            "Downloading...\n",
            "From (original): https://drive.google.com/uc?id=12YJq48XkCxQHjN3CmLc-zM5dThSak4Ta\n",
            "From (redirected): https://drive.google.com/uc?id=12YJq48XkCxQHjN3CmLc-zM5dThSak4Ta&confirm=t&uuid=9ea071cf-431c-4a8d-a2b6-4d372f1b02a7\n",
            "To: /content/Validation_Dataset.zip\n",
            "100% 329M/329M [00:07<00:00, 43.4MB/s]\n",
            "Cloning into 'Real-Time-Anomaly-Segmentation-for-Road-Scenes'...\n",
            "remote: Enumerating objects: 383, done.\u001b[K\n",
            "remote: Counting objects: 100% (95/95), done.\u001b[K\n",
            "remote: Compressing objects: 100% (70/70), done.\u001b[K\n",
            "remote: Total 383 (delta 55), reused 50 (delta 23), pack-reused 288 (from 1)\u001b[K\n",
            "Receiving objects: 100% (383/383), 25.49 MiB | 16.10 MiB/s, done.\n",
            "Resolving deltas: 100% (214/214), done.\n",
            "/content/Real-Time-Anomaly-Segmentation-for-Road-Scenes\n"
          ]
        }
      ],
      "source": [
        "# download and unzip validation dataset\n",
        "if not os.path.isdir('/content/validation_dataset'):\n",
        "  !gdown 'https://drive.google.com/uc?id=12YJq48XkCxQHjN3CmLc-zM5dThSak4Ta'\n",
        "  !unzip -q 'Validation_Dataset.zip'\n",
        "  !mkdir validation_dataset && cp -pR Validation_Dataset/* validation_dataset/ && rm -R Validation_Dataset/\n",
        "  !rm 'Validation_Dataset.zip'\n",
        "\n",
        "# clone the github repo and pull command\n",
        "if not os.path.isdir('content/Real-Time-Anomaly-Segmentation-for-Road-Scenes'):\n",
        "  !git clone https://github.com/AgneseRe/Real-Time-Anomaly-Segmentation-for-Road-Scenes.git\n",
        "else: # if folder already present\n",
        "  !git pull\n",
        "\n",
        "%cd Real-Time-Anomaly-Segmentation-for-Road-Scenes"
      ]
    },
    {
      "cell_type": "code",
      "execution_count": null,
      "metadata": {
        "colab": {
          "base_uri": "https://localhost:8080/"
        },
        "id": "AtojfyyxIpaw",
        "outputId": "6d247534-4bb9-44b7-9fa7-88180feadaa7"
      },
      "outputs": [
        {
          "name": "stdout",
          "output_type": "stream",
          "text": [
            "Attempting to download cityscapes dataset using gdown...\n",
            "gdown failed. Attempting to download cityscapes dataset from the official website...\n",
            "Cityscapes username or email address: agnesere\n",
            "Cityscapes password: \n",
            "Store credentials unencrypted in '/root/.local/share/cityscapesscripts/credentials.json' [y/N]: N\n",
            "Downloading cityscapes package 'leftImg8bit_trainvaltest.zip' to './leftImg8bit_trainvaltest.zip'\n",
            "Download progress:  98% 10.8G/11.0G [09:41<00:10, 19.9MB/s]\n",
            "Cityscapes username or email address: agnesere\n",
            "Cityscapes password: \n",
            "Store credentials unencrypted in '/root/.local/share/cityscapesscripts/credentials.json' [y/N]: N\n",
            "Downloading cityscapes package 'gtFine_trainvaltest.zip' to './gtFine_trainvaltest.zip'\n",
            "Download progress: 100% 241M/241M [00:38<00:00, 6.61MB/s]\n",
            "Dataset downloaded successfully from the official website. Unzipping...\n",
            "Generating trainIds from labelIds...\n",
            "Processing 5000 annotation files\n",
            "Progress: 100.0 % Cityscapes dataset ready\n"
          ]
        }
      ],
      "source": [
        "# download cityscapes dataset\n",
        "download_cityscapes()"
      ]
    },
    {
      "cell_type": "markdown",
      "metadata": {
        "id": "_czbWkaraAdh"
      },
      "source": [
        "## Evaluation"
      ]
    },
    {
      "cell_type": "markdown",
      "metadata": {
        "id": "smRtjvZQu0R4"
      },
      "source": [
        "### Step 2A - Compute AuPRC & FPR95TPR"
      ]
    },
    {
      "cell_type": "code",
      "execution_count": null,
      "metadata": {
        "colab": {
          "base_uri": "https://localhost:8080/"
        },
        "id": "W9ewyGcSZ__2",
        "outputId": "0d5ca852-7b32-4879-a419-2c7613c068ce"
      },
      "outputs": [
        {
          "name": "stdout",
          "output_type": "stream",
          "text": [
            "/content/Real-Time-Anomaly-Segmentation-for-Road-Scenes/eval\n"
          ]
        }
      ],
      "source": [
        "%cd eval"
      ]
    },
    {
      "cell_type": "markdown",
      "metadata": {
        "id": "MUOPyLTmNxhR"
      },
      "source": [
        "Perform various anomaly inferences using the pre-trained **ErfNet** model and anomaly segmentation test dataset provided. Different techniques are used (MSP, MaxLogit and MaxEntropy)."
      ]
    },
    {
      "cell_type": "code",
      "execution_count": null,
      "metadata": {
        "colab": {
          "base_uri": "https://localhost:8080/"
        },
        "id": "5CoH7P5ukYN8",
        "outputId": "e9101f64-7985-4dc8-c64d-503955a04802"
      },
      "outputs": [
        {
          "name": "stdout",
          "output_type": "stream",
          "text": [
            "RoadObsticle21 dataset\n",
            "\t- msp\n",
            "\t\tAUPRC score: 2.712\n",
            "\t\tFPR@TPR95: 64.974\n",
            "\t- maxlogit\n",
            "\t\tAUPRC score: 4.627\n",
            "\t\tFPR@TPR95: 48.443\n",
            "\t- maxentropy\n",
            "\t\tAUPRC score: 3.052\n",
            "\t\tFPR@TPR95: 65.600\n",
            "----------------------\n",
            "RoadAnomaly21 dataset\n",
            "\t- msp\n",
            "\t\tAUPRC score: 29.100\n",
            "\t\tFPR@TPR95: 62.511\n",
            "\t- maxlogit\n",
            "\t\tAUPRC score: 38.320\n",
            "\t\tFPR@TPR95: 59.337\n",
            "\t- maxentropy\n",
            "\t\tAUPRC score: 31.005\n",
            "\t\tFPR@TPR95: 62.593\n",
            "----------------------\n",
            "RoadAnomaly dataset\n",
            "\t- msp\n",
            "\t\tAUPRC score: 12.426\n",
            "\t\tFPR@TPR95: 82.492\n",
            "\t- maxlogit\n",
            "\t\tAUPRC score: 15.582\n",
            "\t\tFPR@TPR95: 73.248\n",
            "\t- maxentropy\n",
            "\t\tAUPRC score: 12.678\n",
            "\t\tFPR@TPR95: 82.632\n",
            "----------------------\n",
            "fs_static dataset\n",
            "\t- msp\n",
            "\t\tAUPRC score: 7.470\n",
            "\t\tFPR@TPR95: 41.823\n",
            "\t- maxlogit\n",
            "\t\tAUPRC score: 9.499\n",
            "\t\tFPR@TPR95: 40.300\n",
            "\t- maxentropy\n",
            "\t\tAUPRC score: 8.826\n",
            "\t\tFPR@TPR95: 41.523\n",
            "----------------------\n",
            "FS_LostFound_full dataset\n",
            "\t- msp\n",
            "\t\tAUPRC score: 1.748\n",
            "\t\tFPR@TPR95: 50.763\n",
            "\t- maxlogit\n",
            "\t\tAUPRC score: 3.301\n",
            "\t\tFPR@TPR95: 45.495\n",
            "\t- maxentropy\n",
            "\t\tAUPRC score: 2.582\n",
            "\t\tFPR@TPR95: 50.368\n",
            "----------------------\n"
          ]
        }
      ],
      "source": [
        "methods_list = [\"MSP\", \"MaxLogit\", \"MaxEntropy\"]\n",
        "datasets_list = sorted(os.listdir(\"../../validation_dataset\"))\n",
        "\n",
        "for dataset in datasets_list:\n",
        "  print(f\"Dataset {dataset}\")\n",
        "  for method in methods_list:\n",
        "    print(f\" - {method}\")\n",
        "    input_path = f\"../../validation_dataset/{dataset}/images/*.*\"\n",
        "    !python evalAnomaly.py --input={input_path} --method={method}\n",
        "  print(\"=\" * 40)"
      ]
    },
    {
      "cell_type": "markdown",
      "metadata": {
        "id": "JJodGToyvAwX"
      },
      "source": [
        "### Step 2B - Compute AuPRC & FPR95TPR with temperature scaling"
      ]
    },
    {
      "cell_type": "code",
      "execution_count": null,
      "metadata": {
        "id": "WNonHsRaG9Qs"
      },
      "outputs": [],
      "source": [
        "datasets_list = os.listdir(\"../../validation_dataset\")\n"
      ]
    },
    {
      "cell_type": "code",
      "execution_count": null,
      "metadata": {
        "colab": {
          "base_uri": "https://localhost:8080/"
        },
        "id": "t5oNs1EqDL6B",
        "outputId": "ea571002-28f7-4c01-9807-551deecd12a4"
      },
      "outputs": [
        {
          "name": "stdout",
          "output_type": "stream",
          "text": [
            "RoadAnomaly21\n",
            "\t- 0.5\n",
            "\t\tAUPRC score: 27.061\n",
            "\t\tFPR@TPR95: 62.731\n",
            "\t- 0.75\n",
            "\t\tAUPRC score: 28.156\n",
            "\t\tFPR@TPR95: 62.479\n",
            "\t- 1.0\n",
            "\t\tAUPRC score: 29.100\n",
            "\t\tFPR@TPR95: 62.511\n",
            "\t- 1.1\n",
            "\t\tAUPRC score: 29.410\n",
            "\t\tFPR@TPR95: 62.590\n",
            "\t- 1.2\n",
            "\t\tAUPRC score: 29.678\n",
            "\t\tFPR@TPR95: 62.724\n",
            "\t- 1.5\n",
            "\t\tAUPRC score: 30.258\n",
            "\t\tFPR@TPR95: 63.318\n",
            "\t- 2.0\n",
            "\t\tAUPRC score: 30.679\n",
            "\t\tFPR@TPR95: 64.721\n",
            "\t- 3.0\n",
            "\t\tAUPRC score: 30.674\n",
            "\t\tFPR@TPR95: 67.682\n",
            "\t- 5.0\n",
            "\t\tAUPRC score: 30.196\n",
            "\t\tFPR@TPR95: 71.594\n",
            "\t- 10.0\n",
            "\t\tAUPRC score: 29.526\n",
            "\t\tFPR@TPR95: 75.757\n",
            "\t- 50.0\n",
            "\t\tAUPRC score: 28.804\n",
            "\t\tFPR@TPR95: 80.014\n",
            "FS_LostFound_full\n",
            "\t- 0.5\n",
            "\t\tAUPRC score: 1.280\n",
            "\t\tFPR@TPR95: 66.737\n",
            "\t- 0.75\n",
            "\t\tAUPRC score: 1.493\n",
            "\t\tFPR@TPR95: 51.848\n",
            "\t- 1.0\n",
            "\t\tAUPRC score: 1.748\n",
            "\t\tFPR@TPR95: 50.763\n",
            "\t- 1.1\n",
            "\t\tAUPRC score: 1.860\n",
            "\t\tFPR@TPR95: 50.387\n",
            "\t- 1.2\n",
            "\t\tAUPRC score: 1.972\n",
            "\t\tFPR@TPR95: 50.150\n",
            "\t- 1.5\n",
            "\t\tAUPRC score: 2.286\n",
            "\t\tFPR@TPR95: 49.456\n",
            "\t- 2.0\n",
            "\t\tAUPRC score: 2.677\n",
            "\t\tFPR@TPR95: 48.324\n",
            "\t- 3.0\n",
            "\t\tAUPRC score: 3.048\n",
            "\t\tFPR@TPR95: 46.893\n",
            "\t- 5.0\n",
            "\t\tAUPRC score: 3.252\n",
            "\t\tFPR@TPR95: 45.396\n",
            "\t- 10.0\n",
            "\t\tAUPRC score: 3.344\n",
            "\t\tFPR@TPR95: 44.121\n",
            "\t- 50.0\n",
            "\t\tAUPRC score: 3.388\n",
            "\t\tFPR@TPR95: 43.361\n",
            "fs_static\n",
            "\t- 0.5\n",
            "\t\tAUPRC score: 6.601\n",
            "\t\tFPR@TPR95: 43.476\n",
            "\t- 0.75\n",
            "\t\tAUPRC score: 6.991\n",
            "\t\tFPR@TPR95: 42.493\n",
            "\t- 1.0\n",
            "\t\tAUPRC score: 7.470\n",
            "\t\tFPR@TPR95: 41.823\n",
            "\t- 1.1\n",
            "\t\tAUPRC score: 7.687\n",
            "\t\tFPR@TPR95: 41.587\n",
            "\t- 1.2\n",
            "\t\tAUPRC score: 7.910\n",
            "\t\tFPR@TPR95: 41.406\n",
            "\t- 1.5\n",
            "\t\tAUPRC score: 8.580\n",
            "\t\tFPR@TPR95: 41.096\n",
            "\t- 2.0\n",
            "\t\tAUPRC score: 9.508\n",
            "\t\tFPR@TPR95: 41.018\n",
            "\t- 3.0\n",
            "\t\tAUPRC score: 10.529\n",
            "\t\tFPR@TPR95: 42.180\n",
            "\t- 5.0\n",
            "\t\tAUPRC score: 11.175\n",
            "\t\tFPR@TPR95: 45.514\n",
            "\t- 10.0\n",
            "\t\tAUPRC score: 11.462\n",
            "\t\tFPR@TPR95: 51.164\n",
            "\t- 50.0\n",
            "\t\tAUPRC score: 11.546\n",
            "\t\tFPR@TPR95: 58.587\n",
            "RoadObsticle21\n",
            "\t- 0.5\n",
            "\t\tAUPRC score: 2.420\n",
            "\t\tFPR@TPR95: 63.225\n",
            "\t- 0.75\n",
            "\t\tAUPRC score: 2.567\n",
            "\t\tFPR@TPR95: 64.053\n",
            "\t- 1.0\n",
            "\t\tAUPRC score: 2.712\n",
            "\t\tFPR@TPR95: 64.974\n",
            "\t- 1.1\n",
            "\t\tAUPRC score: 2.766\n",
            "\t\tFPR@TPR95: 65.524\n",
            "\t- 1.2\n",
            "\t\tAUPRC score: 2.816\n",
            "\t\tFPR@TPR95: 66.033\n",
            "\t- 1.5\n",
            "\t\tAUPRC score: 2.937\n",
            "\t\tFPR@TPR95: 67.928\n",
            "\t- 2.0\n",
            "\t\tAUPRC score: 3.026\n",
            "\t\tFPR@TPR95: 71.459\n",
            "\t- 3.0\n",
            "\t\tAUPRC score: 2.998\n",
            "\t\tFPR@TPR95: 76.800\n",
            "\t- 5.0\n",
            "\t\tAUPRC score: 2.841\n",
            "\t\tFPR@TPR95: 83.111\n",
            "\t- 10.0\n",
            "\t\tAUPRC score: 2.644\n",
            "\t\tFPR@TPR95: 88.146\n",
            "\t- 50.0\n",
            "\t\tAUPRC score: 2.448\n",
            "\t\tFPR@TPR95: 92.080\n",
            "RoadAnomaly\n",
            "\t- 0.5\n",
            "\t\tAUPRC score: 12.188\n",
            "\t\tFPR@TPR95: 82.022\n",
            "\t- 0.75\n",
            "\t\tAUPRC score: 12.319\n",
            "\t\tFPR@TPR95: 82.285\n",
            "\t- 1.0\n",
            "\t\tAUPRC score: 12.426\n",
            "\t\tFPR@TPR95: 82.492\n",
            "\t- 1.1\n",
            "\t\tAUPRC score: 12.466\n",
            "\t\tFPR@TPR95: 82.621\n",
            "\t- 1.2\n",
            "\t\tAUPRC score: 12.502\n",
            "\t\tFPR@TPR95: 82.757\n",
            "\t- 1.5\n",
            "\t\tAUPRC score: 12.591\n",
            "\t\tFPR@TPR95: 83.244\n",
            "\t- 2.0\n",
            "\t\tAUPRC score: 12.676\n",
            "\t\tFPR@TPR95: 84.150\n",
            "\t- 3.0\n",
            "\t\tAUPRC score: 12.715\n",
            "\t\tFPR@TPR95: 85.776\n",
            "\t- 5.0\n",
            "\t\tAUPRC score: 12.672\n",
            "\t\tFPR@TPR95: 87.713\n",
            "\t- 10.0\n",
            "\t\tAUPRC score: 12.575\n",
            "\t\tFPR@TPR95: 89.477\n",
            "\t- 50.0\n",
            "\t\tAUPRC score: 12.451\n",
            "\t\tFPR@TPR95: 91.006\n"
          ]
        }
      ],
      "source": [
        "temperature_list = [0.5, 0.75, 1.0, 1.1, 1.2, 1.5, 2.0, 3.0, 5.0, 10.0, 50.0]\n",
        "\n",
        "for dataset in datasets_list:\n",
        "  print(f\"{dataset} dataset\")\n",
        "  for t in temperature_list:\n",
        "    print(f\"\\t- {t}\")\n",
        "    input_path = f\"../../validation_dataset/{dataset}/images/*.*\"\n",
        "    !python evalAnomaly.py --input={input_path} --method=\"msp\" --temperature={t}\n",
        "  print(\"---------------------------------\")"
      ]
    },
    {
      "cell_type": "markdown",
      "metadata": {
        "id": "6ylMHF05vI-a"
      },
      "source": [
        "### Step 3 - Train models with void classifier"
      ]
    },
    {
      "cell_type": "code",
      "execution_count": null,
      "metadata": {
        "id": "s0NUiBGp9WDM"
      },
      "outputs": [],
      "source": [
        "#TODO: Trainare enet(giorgio), bisenet(agnese);"
      ]
    },
    {
      "cell_type": "code",
      "execution_count": null,
      "metadata": {
        "id": "uvJ8DqNPGxg3"
      },
      "outputs": [],
      "source": [
        "models = [\"erfnet\", \"enet\", \"bisenet\"]\n"
      ]
    },
    {
      "cell_type": "code",
      "execution_count": null,
      "metadata": {
        "colab": {
          "base_uri": "https://localhost:8080/"
        },
        "id": "lxoP9g7BF45G",
        "outputId": "a444f729-0911-42ea-b068-54627c63d367"
      },
      "outputs": [
        {
          "name": "stderr",
          "output_type": "stream",
          "text": [
            "Impossibile trovare il percorso specificato.\n"
          ]
        }
      ],
      "source": [
        "\n",
        "savedirs = [\"erfnet_training_void\", \"enet_training_void\", \"bisenet_training_void\"]\n",
        "pretrained_weights = [\"erfnet_pretrained.pth\", \"enet_pretrained.pth\", \"bisenetv1_pretrained.pth\"]\n",
        "epochs = 20\n",
        "\n",
        "# Base directory of the project\n",
        "base_dir = \"../train\"\n",
        "# Dataset directory\n",
        "data_dir = \"../cityscapes\"\n",
        "\n",
        "!cd {base_dir} && python main_v2.py --savedir \"bisenet_training_void\" --datadir {data_dir} --model \"bisenet\" --cuda --num-epochs=20 --epochs-save=1 --batch-size=6\n",
        "#lanciare come python main_v2.py --savedir \"nomerete_trainig_void\" --datadir {data_dir} --model \"nomemodello\" --cuda --num-epochs=20 --epochs-save=1 --batch-size=6\n",
        "#rilanciare con parametro per pesi pretrainati\n",
        "\n",
        "#todo: eventualmente modificare augumentation (una per rete)\n"
      ]
    },
    {
      "cell_type": "markdown",
      "metadata": {
        "id": "E8ATRy0qGNmA"
      },
      "source": [
        "**Evaluation**"
      ]
    },
    {
      "cell_type": "code",
      "execution_count": null,
      "metadata": {
        "id": "hmjgpr8lGQ78"
      },
      "outputs": [],
      "source": [
        "import torch\n",
        "\n",
        "no_execute = False\n",
        "just_once = False\n",
        "\n",
        "for model in models:\n",
        "  print(\"----------------------------\")\n",
        "  for dataset_dir in datasets_list:\n",
        "\n",
        "    if no_execute:\n",
        "      break\n",
        "\n",
        "    load_dir = f'content/Real-Time-Anomaly-Segmentation-for-Road-Scenes/save/{net}_training_void'\n",
        "    weights = f'/model_best.pth'\n",
        "    format_file = os.listdir(f'/content/validation_dataset/{dataset_dir}/images')[0].split(\".\")[1]\n",
        "    input =f'/content/validation_dataset/{dataset_dir}/images/\\*.{format_file}'\n",
        "    print(f\"\\nDataset: {dataset_dir} net: {net}\")\n",
        "\n",
        "    if torch.cuda.is_available():\n",
        "      !python  content/Real-Time-Anomaly-Segmentation-for-Road-Scenes/eval/evalAnomaly.py --input {input} --void --model {net} --loadDir {load_dir} --loadWeights {weights} | tail -n 2\n",
        "    else:\n",
        "      !python  content/Real-Time-Anomaly-Segmentation-for-Road-Scenes/eval/evalAnomaly.py --input {input} --void --model {net} --loadDir {load_dir} --loadWeights {weights} --cpu | tail -n 2\n",
        "\n",
        "    if just_once:\n",
        "      no_execute = True\n",
        "      just_once = False\n"
      ]
    },
    {
      "cell_type": "markdown",
      "metadata": {
        "id": "5TJKUFjWIbQh"
      },
      "source": [
        "**mIoU Void Classification**"
      ]
    },
    {
      "cell_type": "code",
      "execution_count": null,
      "metadata": {
        "id": "6tiSQNBxIl3r"
      },
      "outputs": [],
      "source": [
        "import torch\n",
        "no_execute = False\n",
        "just_once = False\n",
        "\n",
        "for model in models:\n",
        "  print(\"----------------------------\")\n",
        "\n",
        "  if no_execute:\n",
        "      break\n",
        "  print(f\"-----------{model}-------------\")\n",
        "  loadDir = f'content/Real-Time-Anomaly-Segmentation-for-Road-Scenes/save/{model}_training_void'\n",
        "  weights = f'/model_best.pth'\n",
        "  if torch.cuda.is_available():\n",
        "    !python  content/Real-Time-Anomaly-Segmentation-for-Road-Scenes/eval/eval_iou.py --loadDir {loadDir} --loadWeights {weights} --datadir /content/cityscapes/ --model {model} | tail -n 25\n",
        "  else:\n",
        "    !python  content/Real-Time-Anomaly-Segmentation-for-Road-Scenes/eval/eval_iou.py  --loadDir {loadDir} --loadWeights {weights} --datadir /content/cityscapes/  --model {model}  --cpu | tail -n 25\n",
        "\n",
        "\n",
        "  if just_once:\n",
        "    no_execute = True\n",
        "    just_once = False"
      ]
    },
    {
      "cell_type": "markdown",
      "metadata": {
        "id": "8n2SPIAyvU5g"
      },
      "source": [
        "### Step 4 - Analyze the Effect of Training Loss function"
      ]
    },
    {
      "cell_type": "markdown",
      "metadata": {
        "id": "dkwRPEbyVkKW"
      },
      "source": [
        "Analyze the effect of the training model along with losses that are specifically made for anomaly detection."
      ]
    },
    {
      "cell_type": "markdown",
      "metadata": {
        "id": "PEaQplsFKGqJ"
      },
      "source": [
        "**Losses**"
      ]
    },
    {
      "cell_type": "markdown",
      "metadata": {
        "id": "ACEmk07kKSzF"
      },
      "source": [
        "**Fine-tuning**"
      ]
    },
    {
      "cell_type": "code",
      "execution_count": null,
      "metadata": {
        "id": "1eM-3aNyKYrS"
      },
      "outputs": [],
      "source": [
        "# Fine tune ERFNET with different losses\n",
        "\"\"\"\n",
        "Training:\n",
        "1. Focal loss\n",
        "2. LogitNorm+CrossEntropy loss\n",
        "3. IsoMaxPlus+CrossEntropy loss\n",
        "4. LogitNorm+Focal loss\n",
        "5. IsoMaxPlus+Focal loss\n",
        "\"\"\"\n",
        "titles = [\"Focal\", \"LogitNorm+CrossEntropy\", \"IsoMaxPlus+CrossEntropy\", \"LogitNorm+Focal\", \"IsoMaxPlus+Focal\"]\n",
        "losses = [\"Focal\", \"CrossEntropy\", \"CrossEntropy\", \"Focal\", \"Focal\"]\n",
        "models = [\"erfnet\", \"erfnet\", \"erfnet_isomaxplus\", \"erfnet\", \"erfnet_isomaxplus\"]\n",
        "savedirs = [\"erfnet_training_focal_loss\", \"erfnet_training_logitnorm_cross_entropy_loss\", \"erfnet_training_isomaxplus_cross_entropy_loss\", \"erfnet_training_logitnorm_focal_loss\", \"erfnet_training_isomaxplus_focal_loss\"]\n",
        "logit_normalization_flags = [False, True, False, True, False]\n",
        "epochs = 20\n",
        "\n",
        "# Base directory of the project\n",
        "base_dir = \"/content/Real-Time-Anomaly-Segmentation-for-Road-Scenes/train\"\n",
        "# Dataset directory\n",
        "data_dir = \"/content/cityscapes\"\n",
        "pretrained_weights = \"erfnet_pretrained.pth\"\n",
        "\n",
        "# Loop to execute fine-tuning\n",
        "for title, loss, model, savedir, logit_normalization_flag in zip(titles, losses, models, savedirs, logit_normalization_flags):\n",
        "    print(f\"\\n\\n----- Fine-tuning with {title} loss -----\")\n",
        "    !cd {base_dir} && python -W ignore main.py --savedir {savedir} --loss {loss} --logit_normalization {logit_normalization_flag} --datadir {data_dir} --model {model} --cuda --num-epochs=20 --epochs-save=1 --FineTune --decoder --loadWeights={pretrained_weights}\n",
        "    print(f\"Model saved in /content/Real-Time-Anomaly-Segmentation-for-Road-Scenes/save/{savedir}\")\n",
        "    # zip folder\n",
        "    !zip -r save_{savedir}.zip /content/Real-Time-Anomaly-Segmentation-for-Road-Scenes/save/{savedir}"
      ]
    },
    {
      "cell_type": "markdown",
      "metadata": {
        "id": "1zIp0mbgKafh"
      },
      "source": [
        "**Extension Evaluation**"
      ]
    },
    {
      "cell_type": "code",
      "execution_count": null,
      "metadata": {
        "id": "eopXW5mKKeR9"
      },
      "outputs": [],
      "source": [
        "import torch\n",
        "\n",
        "no_execute = False\n",
        "just_once = False\n",
        "\n",
        "losses = [\"CrossEntropy\", \"Focal\", \"LogitNorm+CrossEntropy\", \"IsoMaxPlus+CrossEntropy\", \"LogitNorm+FocalLoss\", \"IsoMaxPlus+FocalLoss\"]\n",
        "models = [\"erfnet\", \"erfnet\", \"erfnet\", \"erfnet_isomaxplus\", \"erfnet\", \"erfnet_isomaxplus\"]\n",
        "load_dirs = [\"/content/Real-Time-Anomaly-Segmentation-for-Road-Scenes/trained_models/\", \"/content/Real-Time-Anomaly-Segmentation-for-Road-Scenes/save/erfnet_training_focal_loss/\", \"/content/Real-Time-Anomaly-Segmentation-for-Road-Scenes/save/erfnet_training_logitnorm_cross_entropy_loss/\", \"/content/Real-Time-Anomaly-Segmentation-for-Road-Scenes/save/erfnet_training_isomaxplus_cross_entropy_loss/\", \"/content/Real-Time-Anomaly-Segmentation-for-Road-Scenes/save/erfnet_training_logitnorm_focal_loss/\", \"/content/Real-Time-Anomaly-Segmentation-for-Road-Scenes/save/erfnet_training_isomaxplus_focal_loss/\"]\n",
        "weights = [\"erfnet_pretrained.pth\", \"model_best.pth\", \"model_best.pth\", \"model_best.pth\", \"model_best.pth\", \"model_best.pth\"]\n",
        "\n",
        "for loss, model, load_dir, weight in zip(losses, models, load_dirs, weights):\n",
        "  print(f\"------ Evaluating loss: {loss} ------\\n\")\n",
        "  for dataset_dir in ['RoadAnomaly21', 'RoadObsticle21', 'FS_LostFound_full', 'fs_static', 'RoadAnomaly']:\n",
        "    for method in [\"MSP\", \"MaxLogit\", \"MaxEntropy\", \"Mahalanobis\"]:\n",
        "\n",
        "      if no_execute:\n",
        "        break\n",
        "\n",
        "      format_file = os.listdir(f'/content/Validation_Dataset/{dataset_dir}/images')[0].split(\".\")[1]\n",
        "      input =f'/content/Validation_Dataset/{dataset_dir}/images/\\*.{format_file}'\n",
        "\n",
        "      print(f\"\\nDataset: {dataset_dir} method: {method} loss: {loss}\")\n",
        "\n",
        "      if torch.cuda.is_available():\n",
        "        !python  /content/Real-Time-Anomaly-Segmentation-for-Road-Scenes/eval/evalAnomaly.py --input {input} --method  {method} --model {model} --loadDir {load_dir} --loadWeights {weight} | tail -n 2\n",
        "      else:\n",
        "        !python  /content/Real-Time-Anomaly-Segmentation-for-Road-Scenes/eval/evalAnomaly.py --input {input} --method {method}  --model {model} --loadDir {load_dir} --loadWeights {weight} --cpu | tail -n 2\n",
        "\n",
        "      print(\"----------------------------\")\n",
        "      if just_once:\n",
        "        no_execute = True\n",
        "        just_once = False\n",
        "    print(\"----------------------------\\n\\n\")"
      ]
    },
    {
      "cell_type": "markdown",
      "metadata": {
        "id": "O1JdbXZnKfyH"
      },
      "source": [
        "##Plot"
      ]
    },
    {
      "cell_type": "code",
      "execution_count": null,
      "metadata": {
        "id": "kh4XfFbnKkuk"
      },
      "outputs": [],
      "source": [
        "import torch\n",
        "\n",
        "# Example image to color\n",
        "# Nice images: RoadAnomaly/images/28, RoadAnomaly/images/58\n",
        "input = '/content/Validation_Dataset/RoadAnomaly/images/58.jpg'\n",
        "\n",
        "### Baseline models ###\n",
        "for method in [\"MSP\", \"MaxLogit\", \"MaxEntropy\", \"Mahalanobis\"]:\n",
        "  print(f\"Method: {method}\")\n",
        "  save_image_path = f'/content/Real-Time-Anomaly-Segmentation-for-Road-Scenes/visualization/baseline/{method}'\n",
        "\n",
        "  if torch.cuda.is_available():\n",
        "    !python  /content/Real-Time-Anomaly-Segmentation-for-Road-Scenes/eval/evalAnomaly.py --input {input} --method  {method} --save-colored {save_image_path}  | tail -n 2\n",
        "  else:\n",
        "    !python  /content/Real-Time-Anomaly-Segmentation-for-Road-Scenes/eval/evalAnomaly.py --input {input} --method {method} --save-colored {save_image_path} --cpu | tail -n 2\n",
        "\n",
        "!python /content/Real-Time-Anomaly-Segmentation-for-Road-Scenes/eval/visualization.py --name_dir=\"/ccontent/Real-Time-Anomaly-Segmentation-for-Road-Scenes/visualization/baseline\" --name_output=\"/content/Real-Time-Anomaly-Segmentation-for-Road-Scenes/visualization/baseline_visualization.png\"\n",
        "\n",
        "### Temperature scaling ###\n",
        "for t in [0.5, 0.75, 1.1]:\n",
        "  print(f\"Method: MSP, Temperature: {t}\")\n",
        "  save_image_path = f'/content/Real-Time-Anomaly-Segmentation-for-Road-Scenes/visualization/temperature/t={t}'\n",
        "\n",
        "  if torch.cuda.is_available():\n",
        "    !python  /content/Real-Time-Anomaly-Segmentation-for-Road-Scenes/eval/evalAnomaly.py --input {input} --method 'MSP' --temperature {t} --save-colored {save_image_path} | tail -n 2\n",
        "  else:\n",
        "    !python  /content/Real-Time-Anomaly-Segmentation-for-Road-Scenes/eval/evalAnomaly.py --input {input} --method 'MSP' --cpu --temperature {t} --save-colored {save_image_path} | tail -n 2\n",
        "\n",
        "!python /content/Real-Time-Anomaly-Segmentation-for-Road-Scenes/eval/visualization.py --name_dir=\"/content/Real-Time-Anomaly-Segmentation-for-Road-Scenes/visualization/temperature\" --name_output=\"/content/Real-Time-Anomaly-Segmentation-for-Road-Scenes/visualization/temperature_visualization.png\"\n",
        "\n",
        "### Finetuned models with void ###\n",
        "for net in [\"erfnet\", \"enet\", \"bisenet\"]:\n",
        "  save_image_path = f'/content/Real-Time-Anomaly-Segmentation-for-Road-Scenes/visualization/void/{net}'\n",
        "  load_dir = f'/content/Real-Time-Anomaly-Segmentation-for-Road-Scenes/save/{net}_training_void'\n",
        "  weights = f'/model_best.pth'\n",
        "  print(f\"Finetuned network: {net}\")\n",
        "  if torch.cuda.is_available():\n",
        "    !python  /content/Real-Time-Anomaly-Segmentation-for-Road-Scenes/eval/evalAnomaly.py --input {input} --void --model {net} --loadDir {load_dir} --loadWeights {weights} --save-colored {save_image_path} | tail -n 2\n",
        "  else:\n",
        "    !python  /content/Real-Time-Anomaly-Segmentation-for-Road-Scenes/eval/evalAnomaly.py --input {input} --void --model {net} --loadDir {load_dir} --loadWeights {weights} --cpu --save-colored {save_image_path} | tail -n 2\n",
        "\n",
        "!python /content/Real-Time-Anomaly-Segmentation-for-Road-Scenes/eval/visualization.py --name_dir=\"/content/Real-Time-Anomaly-Segmentation-for-Road-Scenes/visualization/void\" --name_output=\"/content/Real-Time-Anomaly-Segmentation-for-Road-Scenes/visualization/void_visualization.png\"\n",
        "\n",
        "### Losses ###\n",
        "losses = [\"CrossEntropy\", \"Focal\", \"LogitNorm\", \"IsoMaxPlus\"]\n",
        "models = [\"erfnet\", \"erfnet\", \"erfnet\", \"erfnet_isomaxplus\"]\n",
        "load_dirs = [\"/content/Real-Time-Anomaly-Segmentation-for-Road-Scenes/trained_models/\", \"/content/Real-Time-Anomaly-Segmentation-for-Road-Scenes/save/erfnet_training_focal_loss/\", \"/content/Real-Time-Anomaly-Segmentation-for-Road-Scenes/save/erfnet_training_logitnorm_loss/\", \"/content/Real-Time-Anomaly-Segmentation-for-Road-Scenes/save/erfnet_training_isomaxplus_loss/\"]\n",
        "weights = [\"erfnet_pretrained.pth\", \"model_best.pth\", \"model_best.pth\", \"model_best.pth\"]\n",
        "for loss, model, load_dir, weight in zip(losses, models, load_dirs, weights):\n",
        "  for method in [\"MSP\", \"MaxLogit\", \"MaxEntropy\", \"Mahalanobis\"]:\n",
        "    save_image_path = f'/content/Real-Time-Anomaly-Segmentation-for-Road-Scenes/visualization/losses/{loss}/{method}'\n",
        "    print(f\"Method: {method}, loss: {loss}\")\n",
        "    if torch.cuda.is_available():\n",
        "      !python  /content/Real-Time-Anomaly-Segmentation-for-Road-Scenes/eval/evalAnomaly.py --input {input} --method  {method} --model {model} --loadDir {load_dir} --loadWeights {weight} --save-colored {save_image_path} | tail -n 2\n",
        "    else:\n",
        "      !python  /content/Real-Time-Anomaly-Segmentation-for-Road-Scenes/eval/evalAnomaly.py --input {input} --method {method}  --model {model} --loadDir {load_dir} --loadWeights {weight} --save-colored {save_image_path} --cpu | tail -n 2\n",
        "\n",
        "!python /content/Real-Time-Anomaly-Segmentation-for-Road-Scenes/eval/visualization.py --name_dir=\"/content/Real-Time-Anomaly-Segmentation-for-Road-Scenes/visualization/losses/CrossEntropy\" --name_output=\"/content/Real-Time-Anomaly-Segmentation-for-Road-Scenes/visualization/losses_CrossEntropy_visualization.png\"\n",
        "!python /content/Real-Time-Anomaly-Segmentation-for-Road-Scenes/eval/visualization.py --name_dir=\"/content/Real-Time-Anomaly-Segmentation-for-Road-Scenes/visualization/losses/Focal\" --name_output=\"/content/Real-Time-Anomaly-Segmentation-for-Road-Scenes/visualization/losses_Focal_visualization.png\"\n",
        "!python /content/Real-Time-Anomaly-Segmentation-for-Road-Scenes/eval/visualization.py --name_dir=\"/content/Real-Time-Anomaly-Segmentation-for-Road-Scenes/visualization/losses/LogitNorm\" --name_output=\"/content/Real-Time-Anomaly-Segmentation-for-Road-Scenes/visualization/losses_LogitNorm_visualization.png\"\n",
        "!python /ccontent/Real-Time-Anomaly-Segmentation-for-Road-Scenes/eval/visualization.py --name_dir=\"/content/Real-Time-Anomaly-Segmentation-for-Road-Scenes/visualization/losses/IsoMaxPlus\" --name_output=\"/content/Real-Time-Anomaly-Segmentation-for-Road-Scenes/visualization/losses_IsoMaxPlus_visualization.png\"\n",
        "\n",
        "# Zip the images\n",
        "!zip -r colored_anomalies.zip /content/Real-Time-Anomaly-Segmentation-for-Road-Scenes/visualization"
      ]
    }
  ],
  "metadata": {
    "colab": {
      "provenance": [],
      "include_colab_link": true
    },
    "kernelspec": {
      "display_name": "Python 3",
      "name": "python3"
    },
    "language_info": {
      "codemirror_mode": {
        "name": "ipython",
        "version": 3
      },
      "file_extension": ".py",
      "mimetype": "text/x-python",
      "name": "python",
      "nbconvert_exporter": "python",
      "pygments_lexer": "ipython3",
      "version": "3.12.7"
    }
  },
  "nbformat": 4,
  "nbformat_minor": 0
}