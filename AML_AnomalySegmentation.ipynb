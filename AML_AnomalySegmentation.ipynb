{
  "cells": [
    {
      "cell_type": "markdown",
      "metadata": {
        "id": "view-in-github",
        "colab_type": "text"
      },
      "source": [
        "<a href=\"https://colab.research.google.com/github/AgneseRe/Real-Time-Anomaly-Segmentation-for-Road-Scenes/blob/main/AML_AnomalySegmentation.ipynb\" target=\"_parent\"><img src=\"https://colab.research.google.com/assets/colab-badge.svg\" alt=\"Open In Colab\"/></a>"
      ]
    },
    {
      "cell_type": "markdown",
      "metadata": {
        "id": "xjyXaByVOtbd"
      },
      "source": [
        "# **Real-time Anomaly Segmentation for Road Scenes**"
      ]
    },
    {
      "cell_type": "markdown",
      "metadata": {
        "id": "XpweY-zTOyvF"
      },
      "source": [
        "Existing deep neural networks, when deployed in open-world settings, perform poorly on unknown, anomaly, out-of-distribution (OoD) objects that were not present during the training. The goal of this project is to build tiny anomaly segmentation models to segment anomaly patterns. Models must be able to fit in small devices, which represents a realistic memory constraint for an edge application."
      ]
    },
    {
      "cell_type": "markdown",
      "metadata": {
        "id": "XxuFk3f4uqwU"
      },
      "source": [
        "## Preparation"
      ]
    },
    {
      "cell_type": "code",
      "execution_count": 1,
      "metadata": {
        "id": "SOBJKZAfEwAZ"
      },
      "outputs": [],
      "source": [
        "!rm -r sample_data/"
      ]
    },
    {
      "cell_type": "code",
      "execution_count": 2,
      "metadata": {
        "id": "Wed7tVmrP222",
        "outputId": "1bb4f6a0-57a7-44ed-bcc8-96f182fd0c77",
        "colab": {
          "base_uri": "https://localhost:8080/"
        }
      },
      "outputs": [
        {
          "output_type": "stream",
          "name": "stdout",
          "text": [
            "\u001b[2K   \u001b[90m━━━━━━━━━━━━━━━━━━━━━━━━━━━━━━━━━━━━━━━━\u001b[0m \u001b[32m363.4/363.4 MB\u001b[0m \u001b[31m3.9 MB/s\u001b[0m eta \u001b[36m0:00:00\u001b[0m\n",
            "\u001b[2K   \u001b[90m━━━━━━━━━━━━━━━━━━━━━━━━━━━━━━━━━━━━━━━━\u001b[0m \u001b[32m13.8/13.8 MB\u001b[0m \u001b[31m123.2 MB/s\u001b[0m eta \u001b[36m0:00:00\u001b[0m\n",
            "\u001b[2K   \u001b[90m━━━━━━━━━━━━━━━━━━━━━━━━━━━━━━━━━━━━━━━━\u001b[0m \u001b[32m24.6/24.6 MB\u001b[0m \u001b[31m93.9 MB/s\u001b[0m eta \u001b[36m0:00:00\u001b[0m\n",
            "\u001b[2K   \u001b[90m━━━━━━━━━━━━━━━━━━━━━━━━━━━━━━━━━━━━━━━━\u001b[0m \u001b[32m883.7/883.7 kB\u001b[0m \u001b[31m47.7 MB/s\u001b[0m eta \u001b[36m0:00:00\u001b[0m\n",
            "\u001b[2K   \u001b[90m━━━━━━━━━━━━━━━━━━━━━━━━━━━━━━━━━━━━━━━━\u001b[0m \u001b[32m664.8/664.8 MB\u001b[0m \u001b[31m2.2 MB/s\u001b[0m eta \u001b[36m0:00:00\u001b[0m\n",
            "\u001b[2K   \u001b[90m━━━━━━━━━━━━━━━━━━━━━━━━━━━━━━━━━━━━━━━━\u001b[0m \u001b[32m211.5/211.5 MB\u001b[0m \u001b[31m5.1 MB/s\u001b[0m eta \u001b[36m0:00:00\u001b[0m\n",
            "\u001b[2K   \u001b[90m━━━━━━━━━━━━━━━━━━━━━━━━━━━━━━━━━━━━━━━━\u001b[0m \u001b[32m56.3/56.3 MB\u001b[0m \u001b[31m13.3 MB/s\u001b[0m eta \u001b[36m0:00:00\u001b[0m\n",
            "\u001b[2K   \u001b[90m━━━━━━━━━━━━━━━━━━━━━━━━━━━━━━━━━━━━━━━━\u001b[0m \u001b[32m127.9/127.9 MB\u001b[0m \u001b[31m7.6 MB/s\u001b[0m eta \u001b[36m0:00:00\u001b[0m\n",
            "\u001b[2K   \u001b[90m━━━━━━━━━━━━━━━━━━━━━━━━━━━━━━━━━━━━━━━━\u001b[0m \u001b[32m207.5/207.5 MB\u001b[0m \u001b[31m5.3 MB/s\u001b[0m eta \u001b[36m0:00:00\u001b[0m\n",
            "\u001b[2K   \u001b[90m━━━━━━━━━━━━━━━━━━━━━━━━━━━━━━━━━━━━━━━━\u001b[0m \u001b[32m21.1/21.1 MB\u001b[0m \u001b[31m108.3 MB/s\u001b[0m eta \u001b[36m0:00:00\u001b[0m\n",
            "\u001b[2K     \u001b[90m━━━━━━━━━━━━━━━━━━━━━━━━━━━━━━━━━━━━━━━━\u001b[0m \u001b[32m61.0/61.0 kB\u001b[0m \u001b[31m5.2 MB/s\u001b[0m eta \u001b[36m0:00:00\u001b[0m\n",
            "\u001b[2K   \u001b[90m━━━━━━━━━━━━━━━━━━━━━━━━━━━━━━━━━━━━━━━━\u001b[0m \u001b[32m18.3/18.3 MB\u001b[0m \u001b[31m111.5 MB/s\u001b[0m eta \u001b[36m0:00:00\u001b[0m\n",
            "\u001b[?25h\u001b[31mERROR: pip's dependency resolver does not currently take into account all the packages that are installed. This behaviour is the source of the following dependency conflicts.\n",
            "thinc 8.3.6 requires numpy<3.0.0,>=2.0.0, but you have numpy 1.26.4 which is incompatible.\u001b[0m\u001b[31m\n",
            "\u001b[2K     \u001b[90m━━━━━━━━━━━━━━━━━━━━━━━━━━━━━━━━━━━━━━━━\u001b[0m \u001b[32m78.6/78.6 kB\u001b[0m \u001b[31m8.7 MB/s\u001b[0m eta \u001b[36m0:00:00\u001b[0m\n",
            "\u001b[?25h  Preparing metadata (setup.py) ... \u001b[?25l\u001b[?25hdone\n",
            "\u001b[2K   \u001b[90m━━━━━━━━━━━━━━━━━━━━━━━━━━━━━━━━━━━━━━━━\u001b[0m \u001b[32m473.6/473.6 kB\u001b[0m \u001b[31m41.8 MB/s\u001b[0m eta \u001b[36m0:00:00\u001b[0m\n",
            "\u001b[2K   \u001b[90m━━━━━━━━━━━━━━━━━━━━━━━━━━━━━━━━━━━━━━━━\u001b[0m \u001b[32m46.0/46.0 kB\u001b[0m \u001b[31m4.8 MB/s\u001b[0m eta \u001b[36m0:00:00\u001b[0m\n",
            "\u001b[2K   \u001b[90m━━━━━━━━━━━━━━━━━━━━━━━━━━━━━━━━━━━━━━━━\u001b[0m \u001b[32m86.8/86.8 kB\u001b[0m \u001b[31m7.9 MB/s\u001b[0m eta \u001b[36m0:00:00\u001b[0m\n",
            "\u001b[?25h  Building wheel for typing (setup.py) ... \u001b[?25l\u001b[?25hdone\n",
            "\u001b[2K     \u001b[90m━━━━━━━━━━━━━━━━━━━━━━━━━━━━━━━━━━━━━━━━\u001b[0m \u001b[32m1.4/1.4 MB\u001b[0m \u001b[31m54.6 MB/s\u001b[0m eta \u001b[36m0:00:00\u001b[0m\n",
            "\u001b[?25h  Preparing metadata (setup.py) ... \u001b[?25l\u001b[?25hdone\n",
            "  Building wheel for visdom (setup.py) ... \u001b[?25l\u001b[?25hdone\n"
          ]
        }
      ],
      "source": [
        "# download required packages and import useful modules\n",
        "!pip3 install --quiet numpy\n",
        "!pip3 install --quiet Pillow\n",
        "\n",
        "!pip3 install --quiet gdown\n",
        "!pip3 install --quiet torchvision\n",
        "!pip3 install --quiet ood_metrics\n",
        "!pip3 install --quiet cityscapesscripts\n",
        "\n",
        "!pip3 install --quiet matplotlib\n",
        "!pip3 install --quiet visdom\n",
        "\n",
        "import os, sys, subprocess, torch"
      ]
    },
    {
      "cell_type": "markdown",
      "metadata": {
        "id": "aha0ydTyO4IR"
      },
      "source": [
        "The following function is implemented to download the *Cityscapes* dataset in two different ways: via Google Drive (using `gdown`) or directly from the Cityscapes official website (using `csDownload`). Although the first option is preferable as it is definitely faster, direct download from the website is provided as an alternative. `gdown` may in fact raise the error *Failed to retrieve the file url* if the file we are attempting to download is exceptionally large (*e.g.* 11G), there are numerous users simultaneously trying to download it programmatically or we download it many times in a limited time. Regardless of the method used, use the conversor (available [here](https://github.com/mcordts/cityscapesScripts/blob/master/cityscapesscripts/preparation/createTrainIdLabelImgs.py)) to generate labelTrainIds from labelIds."
      ]
    },
    {
      "cell_type": "code",
      "execution_count": 3,
      "metadata": {
        "id": "-cQRn0hfGLlV"
      },
      "outputs": [],
      "source": [
        "def download_cityscapes():\n",
        "\n",
        "    if not os.path.isdir('/content/Real-Time-Anomaly-Segmentation-for-Road-Scenes/cityscapes'):\n",
        "        print(\"Attempting to download cityscapes dataset using gdown...\")\n",
        "\n",
        "        try:\n",
        "            # If check is true, and the process exits with a non-zero exit code, a CalledProcessError exception will be raised.\n",
        "            subprocess.run([\"gdown\", \"https://drive.google.com/uc?id=11gSQ9UcLCnIqmY7srG2S6EVwV3paOMEq\"], check=True)\n",
        "            print(\"Dataset downloaded successfully using gdown. Unzipping...\")\n",
        "            subprocess.run([\"unzip\", \"-q\", \"cityscapes.zip\"], check=True)\n",
        "            # Use the conversor to generate labelTrainIds from labelIds\n",
        "            print(\"Generating trainIds from labelIds...\")\n",
        "            !CITYSCAPES_DATASET='cityscapes/' csCreateTrainIdLabelImgs\n",
        "\n",
        "        except subprocess.CalledProcessError as e:\n",
        "            print(\"gdown failed. Attempting to download cityscapes dataset from the official website...\")\n",
        "            try:\n",
        "              !csDownload leftImg8bit_trainvaltest.zip\n",
        "              !csDownload gtFine_trainvaltest.zip\n",
        "\n",
        "              print(\"Dataset downloaded successfully from the official website. Unzipping...\")\n",
        "              !unzip -q 'leftImg8bit_trainvaltest.zip' -d 'cityscapes'\n",
        "              !unzip -o -q 'gtFine_trainvaltest.zip' -d 'cityscapes'\n",
        "\n",
        "              print(\"Generating trainIds from labelIds...\")\n",
        "              !CITYSCAPES_DATASET='cityscapes/' csCreateTrainIdLabelImgs\n",
        "\n",
        "              print(\"Cityscapes dataset ready\")\n",
        "\n",
        "            except Exception as e2:\n",
        "                print(\"Failed to download the dataset using both methods.\")"
      ]
    },
    {
      "cell_type": "markdown",
      "metadata": {
        "id": "NFHf3bXySHFf"
      },
      "source": [
        "Download and unzip the validation dataset (*FS_LostFound_full*, *RoadAnomaly*, *RoadAnomaly21*, *RoadObsticle21*, *fs_static*), clone or update the GitHub repository (*Real-Time-Anomaly-Segmentation-for-Road-Scenes*) and download the *Cityscapes* dataset."
      ]
    },
    {
      "cell_type": "code",
      "execution_count": 4,
      "metadata": {
        "colab": {
          "base_uri": "https://localhost:8080/"
        },
        "id": "Y_Bl3WGlWfon",
        "outputId": "900618e2-b8fa-47d0-abbf-60f0ae6f10d0"
      },
      "outputs": [
        {
          "output_type": "stream",
          "name": "stdout",
          "text": [
            "Downloading...\n",
            "From (original): https://drive.google.com/uc?id=12YJq48XkCxQHjN3CmLc-zM5dThSak4Ta\n",
            "From (redirected): https://drive.google.com/uc?id=12YJq48XkCxQHjN3CmLc-zM5dThSak4Ta&confirm=t&uuid=0672d251-7057-48c5-807b-442723fb61db\n",
            "To: /content/Validation_Dataset.zip\n",
            "100% 329M/329M [00:09<00:00, 33.7MB/s]\n",
            "Cloning into 'Real-Time-Anomaly-Segmentation-for-Road-Scenes'...\n",
            "remote: Enumerating objects: 1054, done.\u001b[K\n",
            "remote: Counting objects: 100% (77/77), done.\u001b[K\n",
            "remote: Compressing objects: 100% (37/37), done.\u001b[K\n",
            "remote: Total 1054 (delta 51), reused 54 (delta 40), pack-reused 977 (from 3)\u001b[K\n",
            "Receiving objects: 100% (1054/1054), 423.13 MiB | 13.82 MiB/s, done.\n",
            "Resolving deltas: 100% (600/600), done.\n",
            "Updating files: 100% (136/136), done.\n",
            "/content/Real-Time-Anomaly-Segmentation-for-Road-Scenes\n"
          ]
        }
      ],
      "source": [
        "# download and unzip validation dataset\n",
        "if not os.path.isdir('/content/validation_dataset'):\n",
        "  !gdown 'https://drive.google.com/uc?id=12YJq48XkCxQHjN3CmLc-zM5dThSak4Ta'\n",
        "  !unzip -q 'Validation_Dataset.zip'\n",
        "  !mkdir validation_dataset && cp -pR Validation_Dataset/* validation_dataset/ && rm -R Validation_Dataset/\n",
        "  !rm 'Validation_Dataset.zip'\n",
        "\n",
        "# clone the github repo and pull command\n",
        "if not os.path.isdir('content/Real-Time-Anomaly-Segmentation-for-Road-Scenes'):\n",
        "  !git clone https://github.com/AgneseRe/Real-Time-Anomaly-Segmentation-for-Road-Scenes.git\n",
        "else: # if folder already present\n",
        "  !git pull\n",
        "\n",
        "%cd Real-Time-Anomaly-Segmentation-for-Road-Scenes"
      ]
    },
    {
      "cell_type": "code",
      "execution_count": 5,
      "metadata": {
        "colab": {
          "base_uri": "https://localhost:8080/"
        },
        "id": "AtojfyyxIpaw",
        "outputId": "6b38f73d-9d47-4d67-9625-2528cd504a3b"
      },
      "outputs": [
        {
          "output_type": "stream",
          "name": "stdout",
          "text": [
            "Attempting to download cityscapes dataset using gdown...\n",
            "Dataset downloaded successfully using gdown. Unzipping...\n",
            "Generating trainIds from labelIds...\n",
            "Processing 5000 annotation files\n",
            "Progress: 100.0 % "
          ]
        }
      ],
      "source": [
        "# download cityscapes dataset\n",
        "# if from cityscapes website use credentials (agnesere, FCSBwcVMi-u9-Zn)\n",
        "download_cityscapes()"
      ]
    },
    {
      "cell_type": "markdown",
      "metadata": {
        "id": "_czbWkaraAdh"
      },
      "source": [
        "## Evaluation"
      ]
    },
    {
      "cell_type": "markdown",
      "metadata": {
        "id": "smRtjvZQu0R4"
      },
      "source": [
        "### Step 2A\n",
        "### Compute AuPRC & FPR95TPR"
      ]
    },
    {
      "cell_type": "code",
      "execution_count": 6,
      "metadata": {
        "colab": {
          "base_uri": "https://localhost:8080/"
        },
        "id": "W9ewyGcSZ__2",
        "outputId": "0dd1077d-6a14-4d1c-9fa2-b8405ba9d914"
      },
      "outputs": [
        {
          "output_type": "stream",
          "name": "stdout",
          "text": [
            "/content/Real-Time-Anomaly-Segmentation-for-Road-Scenes/eval\n"
          ]
        }
      ],
      "source": [
        "%cd eval"
      ]
    },
    {
      "cell_type": "code",
      "execution_count": 7,
      "metadata": {
        "id": "MdLxJaGP1FyY"
      },
      "outputs": [],
      "source": [
        "# datasets = os.listdir(\"../../validation_dataset\")\n",
        "datasets = {\n",
        "    \"SMIYC RA-21\": \"RoadAnomaly21\",\n",
        "    \"SMIYC RO-21\": \"RoadObsticle21\",\n",
        "    \"FS L&F\": \"FS_LostFound_full\",\n",
        "    \" FS Static\": \"fs_static\",\n",
        "    \"Road Anomaly\": \"RoadAnomaly\"\n",
        "    }"
      ]
    },
    {
      "cell_type": "markdown",
      "metadata": {
        "id": "MUOPyLTmNxhR"
      },
      "source": [
        "Perform various anomaly inferences using the pre-trained **ErfNet** model and anomaly segmentation test dataset provided. Different techniques are used (MSP, MaxLogit and MaxEntropy)."
      ]
    },
    {
      "cell_type": "code",
      "execution_count": null,
      "metadata": {
        "colab": {
          "base_uri": "https://localhost:8080/"
        },
        "id": "5CoH7P5ukYN8",
        "outputId": "aae1ced0-7f6a-48d8-8a62-5614bfcfaa84"
      },
      "outputs": [
        {
          "name": "stdout",
          "output_type": "stream",
          "text": [
            "Dataset SMIYC RA-21\n",
            " - MSP        | AUPRC score: 29.100 | FPR@TPR95: 62.511\n",
            " - MaxLogit   | AUPRC score: 38.320 | FPR@TPR95: 59.337\n",
            " - MaxEntropy | AUPRC score: 31.005 | FPR@TPR95: 62.593\n",
            "=======================================================\n",
            "Dataset SMIYC RO-21\n",
            " - MSP        | AUPRC score: 2.712 | FPR@TPR95: 64.974\n",
            " - MaxLogit   | AUPRC score: 4.627 | FPR@TPR95: 48.443\n",
            " - MaxEntropy | AUPRC score: 3.052 | FPR@TPR95: 65.600\n",
            "=======================================================\n",
            "Dataset FS L&F\n",
            " - MSP        | AUPRC score: 1.748 | FPR@TPR95: 50.763\n",
            " - MaxLogit   | AUPRC score: 3.301 | FPR@TPR95: 45.495\n",
            " - MaxEntropy | AUPRC score: 2.582 | FPR@TPR95: 50.368\n",
            "=======================================================\n",
            "Dataset  FS Static\n",
            " - MSP        | AUPRC score: 7.470 | FPR@TPR95: 41.823\n",
            " - MaxLogit   | AUPRC score: 9.499 | FPR@TPR95: 40.300\n",
            " - MaxEntropy | AUPRC score: 8.826 | FPR@TPR95: 41.523\n",
            "=======================================================\n",
            "Dataset Road Anomaly\n",
            " - MSP        | AUPRC score: 12.426 | FPR@TPR95: 82.492\n",
            " - MaxLogit   | AUPRC score: 15.582 | FPR@TPR95: 73.248\n",
            " - MaxEntropy | AUPRC score: 12.678 | FPR@TPR95: 82.632\n",
            "=======================================================\n"
          ]
        }
      ],
      "source": [
        "methods = [\"MSP\", \"MaxLogit\", \"MaxEntropy\"]\n",
        "\n",
        "for dataset, folder in datasets.items():\n",
        "  print(f\"Dataset {dataset}\")\n",
        "\n",
        "  for method in methods:\n",
        "    print(f\" - {method:<10} \", end = \"\")\n",
        "    input_path = f\"../../validation_dataset/{folder}/images/*.*\"\n",
        "    plot_dir_path = f\"../plots/baselines/{folder}_{method}\"\n",
        "    if torch.cuda.is_available():\n",
        "      !python evalAnomaly.py --input={input_path} --method={method} --plotdir={plot_dir_path}\n",
        "    else:\n",
        "      !python evalAnomaly.py --input={input_path} --method={method} --plotdir={plot_dir_path} --cpu\n",
        "\n",
        "  print(\"=\" * 55, end = \"\\n\")"
      ]
    },
    {
      "cell_type": "markdown",
      "metadata": {
        "id": "9vXNPPsR8YtJ"
      },
      "source": [
        "If you want to save the baselines folder in your local machine, create a ZIP file with the following command and then download it."
      ]
    },
    {
      "cell_type": "code",
      "execution_count": null,
      "metadata": {
        "id": "QDemCzdK8WJh"
      },
      "outputs": [],
      "source": [
        " # !zip -r baselines.zip baselines/"
      ]
    },
    {
      "cell_type": "markdown",
      "metadata": {
        "id": "8UaIqk89NPw3"
      },
      "source": [
        "### Compute mIoU"
      ]
    },
    {
      "cell_type": "code",
      "execution_count": null,
      "metadata": {
        "colab": {
          "base_uri": "https://localhost:8080/"
        },
        "id": "o1AKrBWFNc_Y",
        "outputId": "019224a8-d724-420a-9d97-bf4950ce81bc"
      },
      "outputs": [
        {
          "output_type": "stream",
          "name": "stdout",
          "text": [
            "Loading model: ../trained_models/erfnet.py\n",
            "Loading weights: ../trained_models/erfnet_pretrained.pth\n",
            "Model and weights LOADED successfully\n",
            "/content/Real-Time-Anomaly-Segmentation-for-Road-Scenes/cityscapes/leftImg8bit/val /content/Real-Time-Anomaly-Segmentation-for-Road-Scenes/cityscapes/gtFine/val\n",
            "---------------------------------------\n",
            "Took  78.16403198242188 seconds\n",
            "=======================================\n",
            "Per-Class IoU:\n",
            "\u001b[0m97.62\u001b[0m Road\n",
            "\u001b[0m81.37\u001b[0m sidewalk\n",
            "\u001b[0m90.77\u001b[0m building\n",
            "\u001b[0m49.43\u001b[0m wall\n",
            "\u001b[0m54.93\u001b[0m fence\n",
            "\u001b[0m60.81\u001b[0m pole\n",
            "\u001b[0m62.60\u001b[0m traffic light\n",
            "\u001b[0m72.31\u001b[0m traffic sign\n",
            "\u001b[0m91.35\u001b[0m vegetation\n",
            "\u001b[0m60.96\u001b[0m terrain\n",
            "\u001b[0m93.38\u001b[0m sky\n",
            "\u001b[0m76.11\u001b[0m person\n",
            "\u001b[0m53.45\u001b[0m rider\n",
            "\u001b[0m92.91\u001b[0m car\n",
            "\u001b[0m72.78\u001b[0m truck\n",
            "\u001b[0m78.87\u001b[0m bus\n",
            "\u001b[0m63.86\u001b[0m train\n",
            "\u001b[0m46.40\u001b[0m motorcycle\n",
            "\u001b[0m71.89\u001b[0m bicycle\n",
            "=======================================\n",
            "MEAN IoU:  \u001b[0m72.20\u001b[0m %\n"
          ]
        }
      ],
      "source": [
        "if torch.cuda.is_available():\n",
        "  !python eval_iou.py --loadDir ../trained_models/ --datadir /content/Real-Time-Anomaly-Segmentation-for-Road-Scenes/cityscapes\n",
        "else:\n",
        "  !python eval_iou.py --loadDir ../trained_models/ --datadir /content/Real-Time-Anomaly-Segmentation-for-Road-Scenes/cityscapes --cpu"
      ]
    },
    {
      "cell_type": "markdown",
      "metadata": {
        "id": "JJodGToyvAwX"
      },
      "source": [
        "### Step 2B - Compute AuPRC & FPR95TPR with temperature scaling"
      ]
    },
    {
      "cell_type": "code",
      "execution_count": null,
      "metadata": {
        "id": "t5oNs1EqDL6B",
        "outputId": "a81273d6-0076-4cbc-9198-3af1b3b3ba4e",
        "colab": {
          "base_uri": "https://localhost:8080/"
        }
      },
      "outputs": [
        {
          "output_type": "stream",
          "name": "stdout",
          "text": [
            "Dataset SMIYC RA-21\n",
            " - 0.5        | AUPRC score: 27.061 | FPR@TPR95: 62.731\n",
            " - 0.75       | AUPRC score: 28.156 | FPR@TPR95: 62.479\n",
            " - 1.0        | AUPRC score: 29.100 | FPR@TPR95: 62.511\n",
            " - 1.1        | AUPRC score: 29.410 | FPR@TPR95: 62.590\n",
            " - 1.2        | AUPRC score: 29.678 | FPR@TPR95: 62.724\n",
            " - 1.5        | AUPRC score: 30.258 | FPR@TPR95: 63.318\n",
            " - 2.0        | AUPRC score: 30.679 | FPR@TPR95: 64.721\n",
            " - 5.0        | AUPRC score: 30.196 | FPR@TPR95: 71.594\n",
            " - 10.0       | AUPRC score: 29.526 | FPR@TPR95: 75.757\n",
            "=======================================================\n",
            "Dataset SMIYC RO-21\n",
            " - 0.5        | AUPRC score: 2.420 | FPR@TPR95: 63.225\n",
            " - 0.75       | AUPRC score: 2.567 | FPR@TPR95: 64.053\n",
            " - 1.0        | AUPRC score: 2.712 | FPR@TPR95: 64.974\n",
            " - 1.1        | AUPRC score: 2.766 | FPR@TPR95: 65.524\n",
            " - 1.2        | AUPRC score: 2.816 | FPR@TPR95: 66.033\n",
            " - 1.5        | AUPRC score: 2.937 | FPR@TPR95: 67.928\n",
            " - 2.0        | AUPRC score: 3.026 | FPR@TPR95: 71.459\n",
            " - 5.0        | AUPRC score: 2.841 | FPR@TPR95: 83.111\n",
            " - 10.0       | AUPRC score: 2.644 | FPR@TPR95: 88.146\n",
            "=======================================================\n",
            "Dataset FS L&F\n",
            " - 0.5        | AUPRC score: 1.280 | FPR@TPR95: 66.737\n",
            " - 0.75       | AUPRC score: 1.493 | FPR@TPR95: 51.848\n",
            " - 1.0        | AUPRC score: 1.748 | FPR@TPR95: 50.763\n",
            " - 1.1        | AUPRC score: 1.860 | FPR@TPR95: 50.387\n",
            " - 1.2        | AUPRC score: 1.972 | FPR@TPR95: 50.150\n",
            " - 1.5        | AUPRC score: 2.286 | FPR@TPR95: 49.456\n",
            " - 2.0        | AUPRC score: 2.677 | FPR@TPR95: 48.324\n",
            " - 5.0        | AUPRC score: 3.252 | FPR@TPR95: 45.396\n",
            " - 10.0       | AUPRC score: 3.344 | FPR@TPR95: 44.121\n",
            "=======================================================\n",
            "Dataset  FS Static\n",
            " - 0.5        | AUPRC score: 6.601 | FPR@TPR95: 43.476\n",
            " - 0.75       | AUPRC score: 6.991 | FPR@TPR95: 42.493\n",
            " - 1.0        | AUPRC score: 7.470 | FPR@TPR95: 41.823\n",
            " - 1.1        | AUPRC score: 7.687 | FPR@TPR95: 41.587\n",
            " - 1.2        | AUPRC score: 7.910 | FPR@TPR95: 41.406\n",
            " - 1.5        | AUPRC score: 8.580 | FPR@TPR95: 41.096\n",
            " - 2.0        | AUPRC score: 9.508 | FPR@TPR95: 41.018\n",
            " - 5.0        | AUPRC score: 11.175 | FPR@TPR95: 45.514\n",
            " - 10.0       | AUPRC score: 11.462 | FPR@TPR95: 51.164\n",
            "=======================================================\n",
            "Dataset Road Anomaly\n",
            " - 0.5        | AUPRC score: 12.188 | FPR@TPR95: 82.022\n",
            " - 0.75       | AUPRC score: 12.319 | FPR@TPR95: 82.285\n",
            " - 1.0        | AUPRC score: 12.426 | FPR@TPR95: 82.492\n",
            " - 1.1        | AUPRC score: 12.466 | FPR@TPR95: 82.621\n",
            " - 1.2        | AUPRC score: 12.502 | FPR@TPR95: 82.757\n",
            " - 1.5        | AUPRC score: 12.591 | FPR@TPR95: 83.244\n",
            " - 2.0        | AUPRC score: 12.676 | FPR@TPR95: 84.150\n",
            " - 5.0        | AUPRC score: 12.672 | FPR@TPR95: 87.713\n",
            " - 10.0       | AUPRC score: 12.575 | FPR@TPR95: 89.477\n",
            "=======================================================\n"
          ]
        }
      ],
      "source": [
        "temperatures = [0.5, 0.75, 1.0, 1.1, 1.2, 1.5, 2.0, 5.0, 10.0]\n",
        "\n",
        "for dataset, folder in datasets.items():\n",
        "  print(f\"Dataset {dataset}\")\n",
        "\n",
        "  for temperature in temperatures:\n",
        "    print(f\" - {temperature:<10} \", end = \"\")\n",
        "    input_path = f\"../../validation_dataset/{folder}/images/*.*\"\n",
        "    # plot_dir_path = f\"../plots/temperature/{folder}_MSP\"\n",
        "    if torch.cuda.is_available():\n",
        "      !python evalAnomaly.py --input={input_path} --method=\"MSP\" --temperature={temperature}\n",
        "    else:\n",
        "      !python evalAnomaly.py --input={input_path} --method=\"MSP\" --temperature={temperature} --cpu\n",
        "\n",
        "  print(\"=\" * 55, end = \"\\n\")"
      ]
    },
    {
      "cell_type": "markdown",
      "metadata": {
        "id": "6ylMHF05vI-a"
      },
      "source": [
        "### Step 3 - Train models with void classifier"
      ]
    },
    {
      "cell_type": "code",
      "source": [
        "base_dir = \"../train\"\n",
        "data_dir = \"../cityscapes\""
      ],
      "metadata": {
        "id": "xx43qM7vVoGk"
      },
      "execution_count": 15,
      "outputs": []
    },
    {
      "cell_type": "code",
      "execution_count": 16,
      "metadata": {
        "id": "uvJ8DqNPGxg3"
      },
      "outputs": [],
      "source": [
        "def train_model(model: str, num_epochs: int, batch_size: int, stop_epoch: int = 20, pretrained: bool = False, resume: bool = False, fineTune: bool = False) -> None:\n",
        "\n",
        "  state_flag = f\"--state ../trained_models/{model}_pretrained.pth\" if pretrained else \"\"\n",
        "  resume_flag = \"--resume\" if resume else \"\"\n",
        "  finetune_flag = f\"--FineTune --loadWeights ../trained_models/{model}_pretrained.pth\" if fineTune else \"\"\n",
        "\n",
        "  # if model == \"bisenet\":\n",
        "  #     !gdown \"https://drive.usercontent.google.com/download?id=1Gj4eZrmdygA5c_y7N0KrmSRThoYjfjk-\" -O \"checkpoint.pth.tar\"\n",
        "  # dict_keys(['epoch', 'arch', 'state_dict', 'best_acc', 'optimizer'])\n",
        "\n",
        "  !cd {base_dir} && python -W ignore main_v2.py \\\n",
        "    --savedir {model}_training_void_ft \\\n",
        "    --datadir {data_dir} \\\n",
        "    --model {model} \\\n",
        "    --cuda \\\n",
        "    --num-epochs={num_epochs} \\\n",
        "    --epochs-save=1 \\\n",
        "    --batch-size={batch_size} \\\n",
        "    --stop-epoch={stop_epoch} \\\n",
        "    {finetune_flag} \\\n",
        "    {state_flag} \\\n",
        "    {resume_flag}"
      ]
    },
    {
      "cell_type": "code",
      "source": [
        "train_model(\"bisenet\", 20, 6) # BiSeNet 20 epoch 6 batch_size\n",
        "train_model(\"bisenet\", 20, 6, pretrained=True) # BiSeNet 20 epoch 6 batch_size with pretrained weights\n",
        "train_model(\"bisenet\", 20, 6, resume=True) # BiSeNet 20 epoch 6 batch_size with resume training\n",
        "train_model(\"bisenet\", 20, 6, pretrained=True, resume=True) # BiSeNet 20 epoch 6 batch_size with pretrained weights and resume training"
      ],
      "metadata": {
        "id": "SyIIKcbuV0Kd"
      },
      "execution_count": null,
      "outputs": []
    },
    {
      "cell_type": "code",
      "execution_count": null,
      "metadata": {
        "id": "lxoP9g7BF45G"
      },
      "outputs": [],
      "source": [
        "!cd {base_dir} && python -W ignore main_v2.py --savedir \"bisenet_training_void_1\" --datadir {data_dir} --model \"bisenet\" --cuda --num-epochs=20 --epochs-save=1 --batch-size=6\n"
      ]
    },
    {
      "cell_type": "markdown",
      "source": [
        "### ERFNet Fine-tuning"
      ],
      "metadata": {
        "id": "jMpBXEAotIdH"
      }
    },
    {
      "cell_type": "code",
      "source": [
        "!cd {base_dir} && python -W ignore main_v2.py --savedir \"erfnet_training_void\" --datadir {data_dir} --model \"erfnet\" --cuda --num-epochs=20 --epochs-save=1 --FineTune --decoder --loadWeights=\"erfnet_pretrained.pth\""
      ],
      "metadata": {
        "id": "kSucMOVKQmBN",
        "outputId": "5467e1b3-a665-4c5e-f9f2-f604fc9c2d06",
        "colab": {
          "base_uri": "https://localhost:8080/"
        }
      },
      "execution_count": null,
      "outputs": [
        {
          "output_type": "stream",
          "name": "stdout",
          "text": [
            "Import Model erfnet with weights erfnet_pretrained.pth to FineTune\n",
            "========== TRAINING ===========\n",
            "../cityscapes/leftImg8bit/train\n",
            "../cityscapes/leftImg8bit/val\n",
            "ERFNet criterion: <class 'utils.losses.ce_loss.CrossEntropyLoss2d'>\n",
            "----- TRAINING - EPOCH 1 -----\n",
            "LEARNING RATE:  5e-05\n",
            "loss: 0.3277 (epoch: 1, step: 0) // Avg time/img: 0.1345 s\n",
            "loss: 0.3739 (epoch: 1, step: 50) // Avg time/img: 0.0380 s\n",
            "loss: 0.3833 (epoch: 1, step: 100) // Avg time/img: 0.0370 s\n",
            "loss: 0.3838 (epoch: 1, step: 150) // Avg time/img: 0.0369 s\n",
            "loss: 0.3784 (epoch: 1, step: 200) // Avg time/img: 0.0372 s\n",
            "loss: 0.3808 (epoch: 1, step: 250) // Avg time/img: 0.0374 s\n",
            "loss: 0.3803 (epoch: 1, step: 300) // Avg time/img: 0.0374 s\n",
            "loss: 0.3776 (epoch: 1, step: 350) // Avg time/img: 0.0374 s\n",
            "loss: 0.3748 (epoch: 1, step: 400) // Avg time/img: 0.0374 s\n",
            "loss: 0.3732 (epoch: 1, step: 450) // Avg time/img: 0.0375 s\n",
            "----- VALIDATING - EPOCH 1 -----\n",
            "VAL loss: 0.4784 (epoch: 1, step: 0) // Avg time/img: 0.0324 s\n",
            "VAL loss: 0.5761 (epoch: 1, step: 50) // Avg time/img: 0.0337 s\n",
            "EPOCH IoU on VAL set:  \u001b[0m71.82\u001b[0m %\n",
            "Saving model as best\n",
            "save: ../save/erfnet_training_void/model-001.pth (epoch: 1)\n",
            "save: ../save/erfnet_training_void/model_best.pth (epoch: 1)\n",
            "----- TRAINING - EPOCH 2 -----\n",
            "LEARNING RATE:  4.774426908107499e-05\n",
            "loss: 0.4813 (epoch: 2, step: 0) // Avg time/img: 0.0455 s\n",
            "loss: 0.355 (epoch: 2, step: 50) // Avg time/img: 0.0376 s\n",
            "loss: 0.3503 (epoch: 2, step: 100) // Avg time/img: 0.0377 s\n",
            "loss: 0.3499 (epoch: 2, step: 150) // Avg time/img: 0.0376 s\n",
            "loss: 0.3419 (epoch: 2, step: 200) // Avg time/img: 0.0375 s\n",
            "loss: 0.3443 (epoch: 2, step: 250) // Avg time/img: 0.0376 s\n",
            "loss: 0.3406 (epoch: 2, step: 300) // Avg time/img: 0.0376 s\n",
            "loss: 0.3371 (epoch: 2, step: 350) // Avg time/img: 0.0376 s\n",
            "loss: 0.3337 (epoch: 2, step: 400) // Avg time/img: 0.0376 s\n",
            "loss: 0.3311 (epoch: 2, step: 450) // Avg time/img: 0.0376 s\n",
            "----- VALIDATING - EPOCH 2 -----\n",
            "VAL loss: 0.4423 (epoch: 2, step: 0) // Avg time/img: 0.0346 s\n",
            "VAL loss: 0.5238 (epoch: 2, step: 50) // Avg time/img: 0.0338 s\n",
            "EPOCH IoU on VAL set:  \u001b[0m71.75\u001b[0m %\n",
            "save: ../save/erfnet_training_void/model-002.pth (epoch: 2)\n",
            "----- TRAINING - EPOCH 3 -----\n",
            "LEARNING RATE:  4.547662880414811e-05\n",
            "loss: 0.435 (epoch: 3, step: 0) // Avg time/img: 0.0394 s\n",
            "loss: 0.3073 (epoch: 3, step: 50) // Avg time/img: 0.0380 s\n",
            "loss: 0.3006 (epoch: 3, step: 100) // Avg time/img: 0.0378 s\n",
            "loss: 0.3004 (epoch: 3, step: 150) // Avg time/img: 0.0378 s\n",
            "loss: 0.2987 (epoch: 3, step: 200) // Avg time/img: 0.0379 s\n",
            "loss: 0.3011 (epoch: 3, step: 250) // Avg time/img: 0.0378 s\n",
            "loss: 0.2969 (epoch: 3, step: 300) // Avg time/img: 0.0378 s\n",
            "loss: 0.2954 (epoch: 3, step: 350) // Avg time/img: 0.0377 s\n",
            "loss: 0.2941 (epoch: 3, step: 400) // Avg time/img: 0.0377 s\n",
            "loss: 0.2913 (epoch: 3, step: 450) // Avg time/img: 0.0378 s\n",
            "----- VALIDATING - EPOCH 3 -----\n",
            "VAL loss: 0.4015 (epoch: 3, step: 0) // Avg time/img: 0.0347 s\n",
            "VAL loss: 0.4804 (epoch: 3, step: 50) // Avg time/img: 0.0337 s\n",
            "EPOCH IoU on VAL set:  \u001b[0m71.48\u001b[0m %\n",
            "save: ../save/erfnet_training_void/model-003.pth (epoch: 3)\n",
            "----- TRAINING - EPOCH 4 -----\n",
            "LEARNING RATE:  4.319634861514096e-05\n",
            "loss: 0.2747 (epoch: 4, step: 0) // Avg time/img: 0.0432 s\n",
            "loss: 0.2677 (epoch: 4, step: 50) // Avg time/img: 0.0380 s\n",
            "loss: 0.2657 (epoch: 4, step: 100) // Avg time/img: 0.0380 s\n",
            "loss: 0.2683 (epoch: 4, step: 150) // Avg time/img: 0.0379 s\n",
            "loss: 0.2687 (epoch: 4, step: 200) // Avg time/img: 0.0378 s\n",
            "loss: 0.2652 (epoch: 4, step: 250) // Avg time/img: 0.0379 s\n",
            "loss: 0.2644 (epoch: 4, step: 300) // Avg time/img: 0.0378 s\n",
            "loss: 0.2618 (epoch: 4, step: 350) // Avg time/img: 0.0378 s\n",
            "loss: 0.2589 (epoch: 4, step: 400) // Avg time/img: 0.0378 s\n",
            "loss: 0.2588 (epoch: 4, step: 450) // Avg time/img: 0.0378 s\n",
            "----- VALIDATING - EPOCH 4 -----\n",
            "VAL loss: 0.3684 (epoch: 4, step: 0) // Avg time/img: 0.0454 s\n",
            "VAL loss: 0.4525 (epoch: 4, step: 50) // Avg time/img: 0.0339 s\n",
            "EPOCH IoU on VAL set:  \u001b[0m71.51\u001b[0m %\n",
            "save: ../save/erfnet_training_void/model-004.pth (epoch: 4)\n",
            "----- TRAINING - EPOCH 5 -----\n",
            "LEARNING RATE:  4.090260730254292e-05\n",
            "loss: 0.2267 (epoch: 5, step: 0) // Avg time/img: 0.0374 s\n",
            "loss: 0.2425 (epoch: 5, step: 50) // Avg time/img: 0.0383 s\n",
            "loss: 0.2433 (epoch: 5, step: 100) // Avg time/img: 0.0381 s\n",
            "loss: 0.2429 (epoch: 5, step: 150) // Avg time/img: 0.0380 s\n",
            "loss: 0.2431 (epoch: 5, step: 200) // Avg time/img: 0.0378 s\n",
            "loss: 0.2424 (epoch: 5, step: 250) // Avg time/img: 0.0379 s\n",
            "loss: 0.2408 (epoch: 5, step: 300) // Avg time/img: 0.0379 s\n",
            "loss: 0.2428 (epoch: 5, step: 350) // Avg time/img: 0.0379 s\n",
            "loss: 0.244 (epoch: 5, step: 400) // Avg time/img: 0.0379 s\n",
            "loss: 0.2423 (epoch: 5, step: 450) // Avg time/img: 0.0378 s\n",
            "----- VALIDATING - EPOCH 5 -----\n",
            "VAL loss: 0.352 (epoch: 5, step: 0) // Avg time/img: 0.0316 s\n",
            "VAL loss: 0.4335 (epoch: 5, step: 50) // Avg time/img: 0.0338 s\n",
            "EPOCH IoU on VAL set:  \u001b[0m71.60\u001b[0m %\n",
            "save: ../save/erfnet_training_void/model-005.pth (epoch: 5)\n",
            "----- TRAINING - EPOCH 6 -----\n",
            "LEARNING RATE:  3.859447533617852e-05\n",
            "loss: 0.2844 (epoch: 6, step: 0) // Avg time/img: 0.0477 s\n",
            "loss: 0.2347 (epoch: 6, step: 50) // Avg time/img: 0.0377 s\n",
            "loss: 0.235 (epoch: 6, step: 100) // Avg time/img: 0.0376 s\n",
            "loss: 0.2303 (epoch: 6, step: 150) // Avg time/img: 0.0378 s\n",
            "loss: 0.2329 (epoch: 6, step: 200) // Avg time/img: 0.0377 s\n",
            "loss: 0.2326 (epoch: 6, step: 250) // Avg time/img: 0.0378 s\n",
            "loss: 0.232 (epoch: 6, step: 300) // Avg time/img: 0.0377 s\n",
            "loss: 0.232 (epoch: 6, step: 350) // Avg time/img: 0.0376 s\n",
            "loss: 0.2309 (epoch: 6, step: 400) // Avg time/img: 0.0376 s\n",
            "loss: 0.2312 (epoch: 6, step: 450) // Avg time/img: 0.0376 s\n",
            "----- VALIDATING - EPOCH 6 -----\n",
            "VAL loss: 0.3293 (epoch: 6, step: 0) // Avg time/img: 0.0355 s\n",
            "VAL loss: 0.427 (epoch: 6, step: 50) // Avg time/img: 0.0336 s\n",
            "EPOCH IoU on VAL set:  \u001b[0m71.38\u001b[0m %\n",
            "save: ../save/erfnet_training_void/model-006.pth (epoch: 6)\n",
            "----- TRAINING - EPOCH 7 -----\n",
            "LEARNING RATE:  3.6270892346861e-05\n",
            "loss: 0.206 (epoch: 7, step: 0) // Avg time/img: 0.0528 s\n",
            "loss: 0.2233 (epoch: 7, step: 50) // Avg time/img: 0.0386 s\n",
            "loss: 0.2282 (epoch: 7, step: 100) // Avg time/img: 0.0382 s\n",
            "loss: 0.2281 (epoch: 7, step: 150) // Avg time/img: 0.0382 s\n",
            "loss: 0.2276 (epoch: 7, step: 200) // Avg time/img: 0.0380 s\n",
            "loss: 0.2275 (epoch: 7, step: 250) // Avg time/img: 0.0380 s\n",
            "loss: 0.2274 (epoch: 7, step: 300) // Avg time/img: 0.0379 s\n",
            "loss: 0.2272 (epoch: 7, step: 350) // Avg time/img: 0.0379 s\n",
            "loss: 0.2274 (epoch: 7, step: 400) // Avg time/img: 0.0378 s\n",
            "loss: 0.2263 (epoch: 7, step: 450) // Avg time/img: 0.0378 s\n",
            "----- VALIDATING - EPOCH 7 -----\n",
            "VAL loss: 0.3464 (epoch: 7, step: 0) // Avg time/img: 0.0346 s\n",
            "VAL loss: 0.4162 (epoch: 7, step: 50) // Avg time/img: 0.0341 s\n",
            "EPOCH IoU on VAL set:  \u001b[0m71.59\u001b[0m %\n",
            "save: ../save/erfnet_training_void/model-007.pth (epoch: 7)\n",
            "----- TRAINING - EPOCH 8 -----\n",
            "LEARNING RATE:  3.393063796290625e-05\n",
            "loss: 0.2091 (epoch: 8, step: 0) // Avg time/img: 0.0460 s\n",
            "loss: 0.2252 (epoch: 8, step: 50) // Avg time/img: 0.0386 s\n",
            "loss: 0.2217 (epoch: 8, step: 100) // Avg time/img: 0.0381 s\n",
            "loss: 0.2197 (epoch: 8, step: 150) // Avg time/img: 0.0379 s\n",
            "loss: 0.2211 (epoch: 8, step: 200) // Avg time/img: 0.0378 s\n",
            "loss: 0.2231 (epoch: 8, step: 250) // Avg time/img: 0.0378 s\n",
            "loss: 0.2235 (epoch: 8, step: 300) // Avg time/img: 0.0378 s\n",
            "loss: 0.2225 (epoch: 8, step: 350) // Avg time/img: 0.0378 s\n",
            "loss: 0.2218 (epoch: 8, step: 400) // Avg time/img: 0.0378 s\n",
            "loss: 0.2226 (epoch: 8, step: 450) // Avg time/img: 0.0378 s\n",
            "----- VALIDATING - EPOCH 8 -----\n",
            "VAL loss: 0.3086 (epoch: 8, step: 0) // Avg time/img: 0.0313 s\n",
            "VAL loss: 0.4065 (epoch: 8, step: 50) // Avg time/img: 0.0340 s\n",
            "EPOCH IoU on VAL set:  \u001b[0m71.19\u001b[0m %\n",
            "save: ../save/erfnet_training_void/model-008.pth (epoch: 8)\n",
            "----- TRAINING - EPOCH 9 -----\n",
            "LEARNING RATE:  3.157229337446777e-05\n",
            "loss: 0.1442 (epoch: 9, step: 0) // Avg time/img: 0.0461 s\n",
            "loss: 0.2164 (epoch: 9, step: 50) // Avg time/img: 0.0376 s\n",
            "loss: 0.22 (epoch: 9, step: 100) // Avg time/img: 0.0374 s\n",
            "loss: 0.2211 (epoch: 9, step: 150) // Avg time/img: 0.0375 s\n",
            "loss: 0.222 (epoch: 9, step: 200) // Avg time/img: 0.0375 s\n",
            "loss: 0.222 (epoch: 9, step: 250) // Avg time/img: 0.0374 s\n",
            "loss: 0.2213 (epoch: 9, step: 300) // Avg time/img: 0.0375 s\n",
            "loss: 0.22 (epoch: 9, step: 350) // Avg time/img: 0.0375 s\n",
            "loss: 0.2206 (epoch: 9, step: 400) // Avg time/img: 0.0375 s\n",
            "loss: 0.2199 (epoch: 9, step: 450) // Avg time/img: 0.0376 s\n",
            "----- VALIDATING - EPOCH 9 -----\n",
            "VAL loss: 0.3396 (epoch: 9, step: 0) // Avg time/img: 0.0433 s\n",
            "VAL loss: 0.4066 (epoch: 9, step: 50) // Avg time/img: 0.0342 s\n",
            "EPOCH IoU on VAL set:  \u001b[0m71.78\u001b[0m %\n",
            "save: ../save/erfnet_training_void/model-009.pth (epoch: 9)\n",
            "----- TRAINING - EPOCH 10 -----\n",
            "LEARNING RATE:  2.9194189645999014e-05\n",
            "loss: 0.1874 (epoch: 10, step: 0) // Avg time/img: 0.0387 s\n",
            "loss: 0.2153 (epoch: 10, step: 50) // Avg time/img: 0.0377 s\n",
            "loss: 0.2154 (epoch: 10, step: 100) // Avg time/img: 0.0377 s\n",
            "loss: 0.215 (epoch: 10, step: 150) // Avg time/img: 0.0378 s\n",
            "loss: 0.2151 (epoch: 10, step: 200) // Avg time/img: 0.0379 s\n",
            "loss: 0.2161 (epoch: 10, step: 250) // Avg time/img: 0.0380 s\n",
            "loss: 0.2155 (epoch: 10, step: 300) // Avg time/img: 0.0380 s\n",
            "loss: 0.2158 (epoch: 10, step: 350) // Avg time/img: 0.0380 s\n",
            "loss: 0.2148 (epoch: 10, step: 400) // Avg time/img: 0.0379 s\n",
            "loss: 0.2151 (epoch: 10, step: 450) // Avg time/img: 0.0380 s\n",
            "----- VALIDATING - EPOCH 10 -----\n",
            "VAL loss: 0.3279 (epoch: 10, step: 0) // Avg time/img: 0.0443 s\n",
            "VAL loss: 0.4018 (epoch: 10, step: 50) // Avg time/img: 0.0339 s\n",
            "EPOCH IoU on VAL set:  \u001b[0m71.64\u001b[0m %\n",
            "save: ../save/erfnet_training_void/model-010.pth (epoch: 10)\n",
            "----- TRAINING - EPOCH 11 -----\n",
            "LEARNING RATE:  2.679433656340733e-05\n",
            "loss: 0.185 (epoch: 11, step: 0) // Avg time/img: 0.0386 s\n",
            "loss: 0.2135 (epoch: 11, step: 50) // Avg time/img: 0.0384 s\n",
            "loss: 0.2147 (epoch: 11, step: 100) // Avg time/img: 0.0381 s\n",
            "loss: 0.2139 (epoch: 11, step: 150) // Avg time/img: 0.0380 s\n",
            "loss: 0.2148 (epoch: 11, step: 200) // Avg time/img: 0.0380 s\n",
            "loss: 0.216 (epoch: 11, step: 250) // Avg time/img: 0.0379 s\n",
            "loss: 0.2147 (epoch: 11, step: 300) // Avg time/img: 0.0379 s\n",
            "loss: 0.2147 (epoch: 11, step: 350) // Avg time/img: 0.0378 s\n",
            "loss: 0.2152 (epoch: 11, step: 400) // Avg time/img: 0.0378 s\n",
            "loss: 0.2149 (epoch: 11, step: 450) // Avg time/img: 0.0377 s\n",
            "----- VALIDATING - EPOCH 11 -----\n",
            "VAL loss: 0.3262 (epoch: 11, step: 0) // Avg time/img: 0.0352 s\n",
            "VAL loss: 0.3957 (epoch: 11, step: 50) // Avg time/img: 0.0335 s\n",
            "EPOCH IoU on VAL set:  \u001b[0m71.96\u001b[0m %\n",
            "Saving model as best\n",
            "save: ../save/erfnet_training_void/model-011.pth (epoch: 11)\n",
            "save: ../save/erfnet_training_void/model_best.pth (epoch: 11)\n",
            "----- TRAINING - EPOCH 12 -----\n",
            "LEARNING RATE:  2.437032195894977e-05\n",
            "loss: 0.1922 (epoch: 12, step: 0) // Avg time/img: 0.0453 s\n",
            "loss: 0.2089 (epoch: 12, step: 50) // Avg time/img: 0.0379 s\n",
            "loss: 0.2085 (epoch: 12, step: 100) // Avg time/img: 0.0380 s\n",
            "loss: 0.211 (epoch: 12, step: 150) // Avg time/img: 0.0379 s\n",
            "loss: 0.2115 (epoch: 12, step: 200) // Avg time/img: 0.0379 s\n",
            "loss: 0.2103 (epoch: 12, step: 250) // Avg time/img: 0.0379 s\n",
            "loss: 0.2118 (epoch: 12, step: 300) // Avg time/img: 0.0378 s\n",
            "loss: 0.2121 (epoch: 12, step: 350) // Avg time/img: 0.0377 s\n",
            "loss: 0.212 (epoch: 12, step: 400) // Avg time/img: 0.0377 s\n",
            "loss: 0.2124 (epoch: 12, step: 450) // Avg time/img: 0.0378 s\n",
            "----- VALIDATING - EPOCH 12 -----\n",
            "VAL loss: 0.3124 (epoch: 12, step: 0) // Avg time/img: 0.0363 s\n",
            "VAL loss: 0.4002 (epoch: 12, step: 50) // Avg time/img: 0.0333 s\n",
            "EPOCH IoU on VAL set:  \u001b[0m71.79\u001b[0m %\n",
            "save: ../save/erfnet_training_void/model-012.pth (epoch: 12)\n",
            "----- TRAINING - EPOCH 13 -----\n",
            "LEARNING RATE:  2.191916452770435e-05\n",
            "loss: 0.2475 (epoch: 13, step: 0) // Avg time/img: 0.0482 s\n",
            "loss: 0.2097 (epoch: 13, step: 50) // Avg time/img: 0.0383 s\n",
            "loss: 0.2112 (epoch: 13, step: 100) // Avg time/img: 0.0383 s\n",
            "loss: 0.2114 (epoch: 13, step: 150) // Avg time/img: 0.0380 s\n",
            "loss: 0.2105 (epoch: 13, step: 200) // Avg time/img: 0.0379 s\n",
            "loss: 0.2109 (epoch: 13, step: 250) // Avg time/img: 0.0379 s\n",
            "loss: 0.2113 (epoch: 13, step: 300) // Avg time/img: 0.0378 s\n",
            "loss: 0.212 (epoch: 13, step: 350) // Avg time/img: 0.0378 s\n",
            "loss: 0.2116 (epoch: 13, step: 400) // Avg time/img: 0.0378 s\n",
            "loss: 0.2118 (epoch: 13, step: 450) // Avg time/img: 0.0379 s\n",
            "----- VALIDATING - EPOCH 13 -----\n",
            "VAL loss: 0.3242 (epoch: 13, step: 0) // Avg time/img: 0.0347 s\n",
            "VAL loss: 0.3928 (epoch: 13, step: 50) // Avg time/img: 0.0338 s\n",
            "EPOCH IoU on VAL set:  \u001b[0m71.64\u001b[0m %\n",
            "save: ../save/erfnet_training_void/model-013.pth (epoch: 13)\n",
            "----- TRAINING - EPOCH 14 -----\n",
            "LEARNING RATE:  1.9437089939938174e-05\n",
            "loss: 0.2718 (epoch: 14, step: 0) // Avg time/img: 0.0410 s\n",
            "loss: 0.2124 (epoch: 14, step: 50) // Avg time/img: 0.0381 s\n",
            "loss: 0.2131 (epoch: 14, step: 100) // Avg time/img: 0.0381 s\n",
            "loss: 0.2141 (epoch: 14, step: 150) // Avg time/img: 0.0379 s\n",
            "loss: 0.2125 (epoch: 14, step: 200) // Avg time/img: 0.0379 s\n",
            "loss: 0.2123 (epoch: 14, step: 250) // Avg time/img: 0.0379 s\n",
            "loss: 0.2115 (epoch: 14, step: 300) // Avg time/img: 0.0377 s\n",
            "loss: 0.2116 (epoch: 14, step: 350) // Avg time/img: 0.0378 s\n",
            "loss: 0.2111 (epoch: 14, step: 400) // Avg time/img: 0.0378 s\n",
            "loss: 0.2111 (epoch: 14, step: 450) // Avg time/img: 0.0377 s\n",
            "----- VALIDATING - EPOCH 14 -----\n",
            "VAL loss: 0.3071 (epoch: 14, step: 0) // Avg time/img: 0.0365 s\n",
            "VAL loss: 0.3915 (epoch: 14, step: 50) // Avg time/img: 0.0335 s\n",
            "EPOCH IoU on VAL set:  \u001b[0m71.64\u001b[0m %\n",
            "save: ../save/erfnet_training_void/model-014.pth (epoch: 14)\n",
            "----- TRAINING - EPOCH 15 -----\n",
            "LEARNING RATE:  1.6919173095082493e-05\n",
            "loss: 0.2065 (epoch: 15, step: 0) // Avg time/img: 0.0459 s\n",
            "loss: 0.2157 (epoch: 15, step: 50) // Avg time/img: 0.0380 s\n",
            "loss: 0.213 (epoch: 15, step: 100) // Avg time/img: 0.0379 s\n",
            "loss: 0.2118 (epoch: 15, step: 150) // Avg time/img: 0.0379 s\n",
            "loss: 0.2123 (epoch: 15, step: 200) // Avg time/img: 0.0378 s\n",
            "loss: 0.2118 (epoch: 15, step: 250) // Avg time/img: 0.0377 s\n",
            "loss: 0.2117 (epoch: 15, step: 300) // Avg time/img: 0.0377 s\n",
            "loss: 0.2105 (epoch: 15, step: 350) // Avg time/img: 0.0377 s\n",
            "loss: 0.2107 (epoch: 15, step: 400) // Avg time/img: 0.0378 s\n",
            "loss: 0.2108 (epoch: 15, step: 450) // Avg time/img: 0.0378 s\n",
            "----- VALIDATING - EPOCH 15 -----\n",
            "VAL loss: 0.3213 (epoch: 15, step: 0) // Avg time/img: 0.0359 s\n",
            "VAL loss: 0.394 (epoch: 15, step: 50) // Avg time/img: 0.0336 s\n",
            "EPOCH IoU on VAL set:  \u001b[0m71.65\u001b[0m %\n",
            "save: ../save/erfnet_training_void/model-015.pth (epoch: 15)\n",
            "----- TRAINING - EPOCH 16 -----\n",
            "LEARNING RATE:  1.4358729437462937e-05\n",
            "loss: 0.2148 (epoch: 16, step: 0) // Avg time/img: 0.0374 s\n",
            "loss: 0.2039 (epoch: 16, step: 50) // Avg time/img: 0.0380 s\n",
            "loss: 0.2105 (epoch: 16, step: 100) // Avg time/img: 0.0377 s\n",
            "loss: 0.2086 (epoch: 16, step: 150) // Avg time/img: 0.0379 s\n",
            "loss: 0.2085 (epoch: 16, step: 200) // Avg time/img: 0.0378 s\n",
            "loss: 0.207 (epoch: 16, step: 250) // Avg time/img: 0.0379 s\n",
            "loss: 0.2071 (epoch: 16, step: 300) // Avg time/img: 0.0378 s\n",
            "loss: 0.2082 (epoch: 16, step: 350) // Avg time/img: 0.0378 s\n",
            "loss: 0.2088 (epoch: 16, step: 400) // Avg time/img: 0.0378 s\n",
            "loss: 0.2094 (epoch: 16, step: 450) // Avg time/img: 0.0378 s\n",
            "----- VALIDATING - EPOCH 16 -----\n",
            "VAL loss: 0.3094 (epoch: 16, step: 0) // Avg time/img: 0.0340 s\n",
            "VAL loss: 0.3902 (epoch: 16, step: 50) // Avg time/img: 0.0337 s\n",
            "EPOCH IoU on VAL set:  \u001b[0m71.38\u001b[0m %\n",
            "save: ../save/erfnet_training_void/model-016.pth (epoch: 16)\n",
            "----- TRAINING - EPOCH 17 -----\n",
            "LEARNING RATE:  1.1746189430880188e-05\n",
            "loss: 0.15 (epoch: 17, step: 0) // Avg time/img: 0.0397 s\n",
            "loss: 0.2115 (epoch: 17, step: 50) // Avg time/img: 0.0378 s\n",
            "loss: 0.2124 (epoch: 17, step: 100) // Avg time/img: 0.0379 s\n",
            "loss: 0.2104 (epoch: 17, step: 150) // Avg time/img: 0.0378 s\n",
            "loss: 0.2101 (epoch: 17, step: 200) // Avg time/img: 0.0377 s\n",
            "loss: 0.2099 (epoch: 17, step: 250) // Avg time/img: 0.0377 s\n",
            "loss: 0.2093 (epoch: 17, step: 300) // Avg time/img: 0.0376 s\n",
            "loss: 0.2088 (epoch: 17, step: 350) // Avg time/img: 0.0377 s\n",
            "loss: 0.2084 (epoch: 17, step: 400) // Avg time/img: 0.0377 s\n",
            "loss: 0.2094 (epoch: 17, step: 450) // Avg time/img: 0.0377 s\n",
            "----- VALIDATING - EPOCH 17 -----\n",
            "VAL loss: 0.2986 (epoch: 17, step: 0) // Avg time/img: 0.0354 s\n",
            "VAL loss: 0.3868 (epoch: 17, step: 50) // Avg time/img: 0.0341 s\n",
            "EPOCH IoU on VAL set:  \u001b[0m71.58\u001b[0m %\n",
            "save: ../save/erfnet_training_void/model-017.pth (epoch: 17)\n",
            "----- TRAINING - EPOCH 18 -----\n",
            "LEARNING RATE:  9.066760365683729e-06\n",
            "loss: 0.2023 (epoch: 18, step: 0) // Avg time/img: 0.0360 s\n",
            "loss: 0.215 (epoch: 18, step: 50) // Avg time/img: 0.0378 s\n",
            "loss: 0.2116 (epoch: 18, step: 100) // Avg time/img: 0.0377 s\n",
            "loss: 0.2116 (epoch: 18, step: 150) // Avg time/img: 0.0379 s\n",
            "loss: 0.2108 (epoch: 18, step: 200) // Avg time/img: 0.0379 s\n",
            "loss: 0.2112 (epoch: 18, step: 250) // Avg time/img: 0.0378 s\n",
            "loss: 0.2101 (epoch: 18, step: 300) // Avg time/img: 0.0377 s\n",
            "loss: 0.2102 (epoch: 18, step: 350) // Avg time/img: 0.0378 s\n",
            "loss: 0.2093 (epoch: 18, step: 400) // Avg time/img: 0.0377 s\n",
            "loss: 0.2096 (epoch: 18, step: 450) // Avg time/img: 0.0377 s\n",
            "----- VALIDATING - EPOCH 18 -----\n",
            "VAL loss: 0.3004 (epoch: 18, step: 0) // Avg time/img: 0.0350 s\n",
            "VAL loss: 0.3911 (epoch: 18, step: 50) // Avg time/img: 0.0340 s\n",
            "EPOCH IoU on VAL set:  \u001b[0m71.68\u001b[0m %\n",
            "save: ../save/erfnet_training_void/model-018.pth (epoch: 18)\n",
            "----- TRAINING - EPOCH 19 -----\n",
            "LEARNING RATE:  6.294627058970836e-06\n",
            "loss: 0.1953 (epoch: 19, step: 0) // Avg time/img: 0.0451 s\n",
            "loss: 0.2037 (epoch: 19, step: 50) // Avg time/img: 0.0383 s\n",
            "loss: 0.2064 (epoch: 19, step: 100) // Avg time/img: 0.0380 s\n",
            "loss: 0.2048 (epoch: 19, step: 150) // Avg time/img: 0.0379 s\n",
            "loss: 0.2058 (epoch: 19, step: 200) // Avg time/img: 0.0378 s\n",
            "loss: 0.2058 (epoch: 19, step: 250) // Avg time/img: 0.0378 s\n",
            "loss: 0.206 (epoch: 19, step: 300) // Avg time/img: 0.0378 s\n",
            "loss: 0.2066 (epoch: 19, step: 350) // Avg time/img: 0.0379 s\n",
            "loss: 0.2077 (epoch: 19, step: 400) // Avg time/img: 0.0378 s\n",
            "loss: 0.2075 (epoch: 19, step: 450) // Avg time/img: 0.0378 s\n",
            "----- VALIDATING - EPOCH 19 -----\n",
            "VAL loss: 0.3189 (epoch: 19, step: 0) // Avg time/img: 0.0357 s\n",
            "VAL loss: 0.3891 (epoch: 19, step: 50) // Avg time/img: 0.0344 s\n",
            "EPOCH IoU on VAL set:  \u001b[0m71.79\u001b[0m %\n",
            "save: ../save/erfnet_training_void/model-019.pth (epoch: 19)\n",
            "----- TRAINING - EPOCH 20 -----\n",
            "LEARNING RATE:  3.373207119183911e-06\n",
            "loss: 0.1774 (epoch: 20, step: 0) // Avg time/img: 0.0398 s\n",
            "loss: 0.2024 (epoch: 20, step: 50) // Avg time/img: 0.0381 s\n",
            "loss: 0.209 (epoch: 20, step: 100) // Avg time/img: 0.0377 s\n",
            "loss: 0.2087 (epoch: 20, step: 150) // Avg time/img: 0.0377 s\n",
            "loss: 0.2094 (epoch: 20, step: 200) // Avg time/img: 0.0377 s\n",
            "loss: 0.2076 (epoch: 20, step: 250) // Avg time/img: 0.0377 s\n",
            "loss: 0.2068 (epoch: 20, step: 300) // Avg time/img: 0.0377 s\n",
            "loss: 0.207 (epoch: 20, step: 350) // Avg time/img: 0.0378 s\n",
            "loss: 0.2072 (epoch: 20, step: 400) // Avg time/img: 0.0378 s\n",
            "loss: 0.2077 (epoch: 20, step: 450) // Avg time/img: 0.0377 s\n",
            "----- VALIDATING - EPOCH 20 -----\n",
            "VAL loss: 0.3113 (epoch: 20, step: 0) // Avg time/img: 0.0343 s\n",
            "VAL loss: 0.3884 (epoch: 20, step: 50) // Avg time/img: 0.0338 s\n",
            "EPOCH IoU on VAL set:  \u001b[0m71.84\u001b[0m %\n",
            "save: ../save/erfnet_training_void/model-020.pth (epoch: 20)\n",
            "========== TRAINING FINISHED ===========\n"
          ]
        }
      ]
    },
    {
      "cell_type": "code",
      "source": [
        "print(os.getcwd())"
      ],
      "metadata": {
        "id": "Z9wFyUaR1ANs",
        "outputId": "e49a2264-1f03-4bdc-d483-ded193d91aaa",
        "colab": {
          "base_uri": "https://localhost:8080/"
        }
      },
      "execution_count": null,
      "outputs": [
        {
          "output_type": "stream",
          "name": "stdout",
          "text": [
            "/content/Real-Time-Anomaly-Segmentation-for-Road-Scenes/eval\n"
          ]
        }
      ]
    },
    {
      "cell_type": "code",
      "source": [
        "%cd ../save"
      ],
      "metadata": {
        "id": "sCWGOj8H1D55",
        "outputId": "56e92f76-1ffa-4d39-b47d-e85bfa0ebdc7",
        "colab": {
          "base_uri": "https://localhost:8080/"
        }
      },
      "execution_count": null,
      "outputs": [
        {
          "output_type": "stream",
          "name": "stdout",
          "text": [
            "/content/Real-Time-Anomaly-Segmentation-for-Road-Scenes/save\n"
          ]
        }
      ]
    },
    {
      "cell_type": "code",
      "source": [
        "!zip -r bisenet_training_void.zip bisenet_training_void_1/"
      ],
      "metadata": {
        "id": "LeSYcbj0UK2s",
        "outputId": "41298891-5a7a-4736-bd68-91a49b25eda2",
        "colab": {
          "base_uri": "https://localhost:8080/"
        }
      },
      "execution_count": null,
      "outputs": [
        {
          "output_type": "stream",
          "name": "stdout",
          "text": [
            "  adding: bisenet_training_void_1/ (stored 0%)\n",
            "  adding: bisenet_training_void_1/model-020.pth (deflated 7%)\n",
            "  adding: bisenet_training_void_1/model-005.pth (deflated 7%)\n",
            "  adding: bisenet_training_void_1/model-002.pth (deflated 7%)\n",
            "  adding: bisenet_training_void_1/model-014.pth (deflated 7%)\n",
            "  adding: bisenet_training_void_1/model-004.pth (deflated 7%)\n",
            "  adding: bisenet_training_void_1/opts.txt (deflated 38%)\n",
            "  adding: bisenet_training_void_1/model-008.pth (deflated 7%)\n",
            "  adding: bisenet_training_void_1/model_best.pth.tar (deflated 7%)\n",
            "  adding: bisenet_training_void_1/model-003.pth (deflated 7%)\n",
            "  adding: bisenet_training_void_1/model-012.pth (deflated 7%)\n",
            "  adding: bisenet_training_void_1/model.txt (deflated 91%)\n",
            "  adding: bisenet_training_void_1/model-011.pth (deflated 7%)\n",
            "  adding: bisenet_training_void_1/checkpoint.pth.tar (deflated 7%)\n",
            "  adding: bisenet_training_void_1/automated_log.txt (deflated 59%)\n",
            "  adding: bisenet_training_void_1/model-017.pth (deflated 7%)\n",
            "  adding: bisenet_training_void_1/model-015.pth (deflated 7%)\n",
            "  adding: bisenet_training_void_1/model-013.pth (deflated 7%)\n",
            "  adding: bisenet_training_void_1/model_best.pth (deflated 7%)\n",
            "  adding: bisenet_training_void_1/model-006.pth (deflated 7%)\n",
            "  adding: bisenet_training_void_1/model-016.pth (deflated 7%)\n",
            "  adding: bisenet_training_void_1/best.txt (stored 0%)\n",
            "  adding: bisenet_training_void_1/model-010.pth (deflated 7%)\n",
            "  adding: bisenet_training_void_1/bisenet.py (deflated 82%)\n",
            "  adding: bisenet_training_void_1/model-019.pth (deflated 7%)\n",
            "  adding: bisenet_training_void_1/model-009.pth (deflated 7%)\n",
            "  adding: bisenet_training_void_1/model-018.pth (deflated 7%)\n",
            "  adding: bisenet_training_void_1/model-007.pth (deflated 7%)\n",
            "  adding: bisenet_training_void_1/model-001.pth (deflated 7%)\n"
          ]
        }
      ]
    },
    {
      "cell_type": "markdown",
      "source": [
        "### BiSeNet Training"
      ],
      "metadata": {
        "id": "rTIaOpXWEYV-"
      }
    },
    {
      "cell_type": "markdown",
      "source": [
        "Start training BiSeNet for a total of 40 epochs. In the first run, due to GPU time limitations on Google Colab, the training is intentionally interrupted after 20 epochs by setting the parameter `stop_epoch` equal to 20. Remember to set `num_epochs` to 40 from the beginning to ensure that the learning rate scheduler behaves correctly across the full training process. The process is then resumed in the following run from epoch 21 using the `--resume` flag."
      ],
      "metadata": {
        "id": "R-5bPbOzoCpa"
      }
    },
    {
      "cell_type": "code",
      "source": [
        "!rm -r \"../save/bisenet_training_void\""
      ],
      "metadata": {
        "id": "GkAhszC1GPPW"
      },
      "execution_count": null,
      "outputs": []
    },
    {
      "cell_type": "code",
      "source": [
        "train_model(\"bisenet\", num_epochs=40, batch_size=6, stop_epoch=20)"
      ],
      "metadata": {
        "id": "sR7HHfo0lKpX",
        "outputId": "468e0bf3-882b-4026-ccb1-2d29a81b2103",
        "colab": {
          "base_uri": "https://localhost:8080/"
        }
      },
      "execution_count": null,
      "outputs": [
        {
          "output_type": "stream",
          "name": "stdout",
          "text": [
            "Downloading: \"https://download.pytorch.org/models/resnet18-5c106cde.pth\" to /root/.cache/torch/hub/checkpoints/resnet18-5c106cde.pth\n",
            "100% 44.7M/44.7M [00:00<00:00, 301MB/s]\n",
            "========== TRAINING ===========\n",
            "../cityscapes/leftImg8bit/train\n",
            "../cityscapes/leftImg8bit/val\n",
            "----- TRAINING - EPOCH 1 -----\n",
            "LEARNING RATE:  0.025\n",
            "loss: 5.835 (epoch: 1, step: 0) // Avg time/img: 0.4772 s\n",
            "loss: 3.602 (epoch: 1, step: 50) // Avg time/img: 0.0502 s\n",
            "loss: 3.355 (epoch: 1, step: 100) // Avg time/img: 0.0460 s\n",
            "loss: 3.206 (epoch: 1, step: 150) // Avg time/img: 0.0446 s\n",
            "loss: 3.098 (epoch: 1, step: 200) // Avg time/img: 0.0440 s\n",
            "loss: 3.043 (epoch: 1, step: 250) // Avg time/img: 0.0438 s\n",
            "loss: 2.982 (epoch: 1, step: 300) // Avg time/img: 0.0437 s\n",
            "loss: 2.926 (epoch: 1, step: 350) // Avg time/img: 0.0436 s\n",
            "loss: 2.897 (epoch: 1, step: 400) // Avg time/img: 0.0435 s\n",
            "loss: 2.871 (epoch: 1, step: 450) // Avg time/img: 0.0434 s\n",
            "----- VALIDATING - EPOCH 1 -----\n",
            "VAL loss: 2.136 (epoch: 1, step: 0) // Avg time/img: 0.0375 s\n",
            "VAL loss: 2.807 (epoch: 1, step: 50) // Avg time/img: 0.0257 s\n",
            "EPOCH IoU on VAL set:  \u001b[0m23.95\u001b[0m %\n",
            "Saving model as best\n",
            "save: ../save/bisenet_training_void_2/model-001.pth (epoch: 1)\n",
            "save: ../save/bisenet_training_void_2/model_best.pth (epoch: 1)\n",
            "----- TRAINING - EPOCH 2 -----\n",
            "LEARNING RATE:  0.02443679034375874\n",
            "loss: 2.322 (epoch: 2, step: 0) // Avg time/img: 0.0623 s\n",
            "loss: 2.606 (epoch: 2, step: 50) // Avg time/img: 0.0436 s\n",
            "loss: 2.599 (epoch: 2, step: 100) // Avg time/img: 0.0431 s\n",
            "loss: 2.579 (epoch: 2, step: 150) // Avg time/img: 0.0431 s\n",
            "loss: 2.584 (epoch: 2, step: 200) // Avg time/img: 0.0430 s\n",
            "loss: 2.571 (epoch: 2, step: 250) // Avg time/img: 0.0430 s\n",
            "loss: 2.566 (epoch: 2, step: 300) // Avg time/img: 0.0430 s\n",
            "loss: 2.555 (epoch: 2, step: 350) // Avg time/img: 0.0429 s\n",
            "loss: 2.553 (epoch: 2, step: 400) // Avg time/img: 0.0429 s\n",
            "loss: 2.556 (epoch: 2, step: 450) // Avg time/img: 0.0428 s\n",
            "----- VALIDATING - EPOCH 2 -----\n",
            "VAL loss: 1.781 (epoch: 2, step: 0) // Avg time/img: 0.0251 s\n",
            "VAL loss: 2.231 (epoch: 2, step: 50) // Avg time/img: 0.0244 s\n",
            "EPOCH IoU on VAL set:  \u001b[0m30.13\u001b[0m %\n",
            "Saving model as best\n",
            "save: ../save/bisenet_training_void_2/model-002.pth (epoch: 2)\n",
            "save: ../save/bisenet_training_void_2/model_best.pth (epoch: 2)\n",
            "----- TRAINING - EPOCH 3 -----\n",
            "LEARNING RATE:  0.023872134540537493\n",
            "loss: 2.361 (epoch: 3, step: 0) // Avg time/img: 0.0592 s\n",
            "loss: 2.4 (epoch: 3, step: 50) // Avg time/img: 0.0431 s\n",
            "loss: 2.436 (epoch: 3, step: 100) // Avg time/img: 0.0429 s\n",
            "loss: 2.426 (epoch: 3, step: 150) // Avg time/img: 0.0429 s\n",
            "loss: 2.433 (epoch: 3, step: 200) // Avg time/img: 0.0428 s\n",
            "loss: 2.436 (epoch: 3, step: 250) // Avg time/img: 0.0428 s\n",
            "loss: 2.432 (epoch: 3, step: 300) // Avg time/img: 0.0427 s\n",
            "loss: 2.437 (epoch: 3, step: 350) // Avg time/img: 0.0427 s\n",
            "loss: 2.427 (epoch: 3, step: 400) // Avg time/img: 0.0428 s\n",
            "loss: 2.427 (epoch: 3, step: 450) // Avg time/img: 0.0428 s\n",
            "----- VALIDATING - EPOCH 3 -----\n",
            "VAL loss: 1.796 (epoch: 3, step: 0) // Avg time/img: 0.0268 s\n",
            "VAL loss: 2.236 (epoch: 3, step: 50) // Avg time/img: 0.0259 s\n",
            "EPOCH IoU on VAL set:  \u001b[0m35.79\u001b[0m %\n",
            "Saving model as best\n",
            "save: ../save/bisenet_training_void_2/model-003.pth (epoch: 3)\n",
            "save: ../save/bisenet_training_void_2/model_best.pth (epoch: 3)\n",
            "----- TRAINING - EPOCH 4 -----\n",
            "LEARNING RATE:  0.02330599066348749\n",
            "loss: 2.744 (epoch: 4, step: 0) // Avg time/img: 0.0581 s\n",
            "loss: 2.391 (epoch: 4, step: 50) // Avg time/img: 0.0432 s\n",
            "loss: 2.376 (epoch: 4, step: 100) // Avg time/img: 0.0430 s\n",
            "loss: 2.385 (epoch: 4, step: 150) // Avg time/img: 0.0427 s\n",
            "loss: 2.383 (epoch: 4, step: 200) // Avg time/img: 0.0427 s\n",
            "loss: 2.38 (epoch: 4, step: 250) // Avg time/img: 0.0426 s\n",
            "loss: 2.371 (epoch: 4, step: 300) // Avg time/img: 0.0426 s\n",
            "loss: 2.37 (epoch: 4, step: 350) // Avg time/img: 0.0425 s\n",
            "loss: 2.372 (epoch: 4, step: 400) // Avg time/img: 0.0426 s\n",
            "loss: 2.371 (epoch: 4, step: 450) // Avg time/img: 0.0427 s\n",
            "----- VALIDATING - EPOCH 4 -----\n",
            "VAL loss: 2.027 (epoch: 4, step: 0) // Avg time/img: 0.0265 s\n",
            "VAL loss: 2.477 (epoch: 4, step: 50) // Avg time/img: 0.0250 s\n",
            "EPOCH IoU on VAL set:  \u001b[0m34.96\u001b[0m %\n",
            "save: ../save/bisenet_training_void_2/model-004.pth (epoch: 4)\n",
            "----- TRAINING - EPOCH 5 -----\n",
            "LEARNING RATE:  0.022738314402074057\n",
            "loss: 2.998 (epoch: 5, step: 0) // Avg time/img: 0.0629 s\n",
            "loss: 2.264 (epoch: 5, step: 50) // Avg time/img: 0.0430 s\n",
            "loss: 2.276 (epoch: 5, step: 100) // Avg time/img: 0.0426 s\n",
            "loss: 2.305 (epoch: 5, step: 150) // Avg time/img: 0.0426 s\n",
            "loss: 2.304 (epoch: 5, step: 200) // Avg time/img: 0.0426 s\n",
            "loss: 2.289 (epoch: 5, step: 250) // Avg time/img: 0.0426 s\n",
            "loss: 2.296 (epoch: 5, step: 300) // Avg time/img: 0.0425 s\n",
            "loss: 2.294 (epoch: 5, step: 350) // Avg time/img: 0.0426 s\n",
            "loss: 2.289 (epoch: 5, step: 400) // Avg time/img: 0.0426 s\n",
            "loss: 2.292 (epoch: 5, step: 450) // Avg time/img: 0.0426 s\n",
            "----- VALIDATING - EPOCH 5 -----\n",
            "VAL loss: 2.032 (epoch: 5, step: 0) // Avg time/img: 0.0253 s\n",
            "VAL loss: 2.403 (epoch: 5, step: 50) // Avg time/img: 0.0255 s\n",
            "EPOCH IoU on VAL set:  \u001b[0m35.72\u001b[0m %\n",
            "save: ../save/bisenet_training_void_2/model-005.pth (epoch: 5)\n",
            "----- TRAINING - EPOCH 6 -----\n",
            "LEARNING RATE:  0.022169058856430182\n",
            "loss: 2.115 (epoch: 6, step: 0) // Avg time/img: 0.0565 s\n",
            "loss: 2.286 (epoch: 6, step: 50) // Avg time/img: 0.0431 s\n",
            "loss: 2.273 (epoch: 6, step: 100) // Avg time/img: 0.0429 s\n",
            "loss: 2.276 (epoch: 6, step: 150) // Avg time/img: 0.0426 s\n",
            "loss: 2.269 (epoch: 6, step: 200) // Avg time/img: 0.0427 s\n",
            "loss: 2.278 (epoch: 6, step: 250) // Avg time/img: 0.0427 s\n",
            "loss: 2.281 (epoch: 6, step: 300) // Avg time/img: 0.0427 s\n",
            "loss: 2.281 (epoch: 6, step: 350) // Avg time/img: 0.0427 s\n",
            "loss: 2.29 (epoch: 6, step: 400) // Avg time/img: 0.0427 s\n",
            "loss: 2.285 (epoch: 6, step: 450) // Avg time/img: 0.0426 s\n",
            "----- VALIDATING - EPOCH 6 -----\n",
            "VAL loss: 1.573 (epoch: 6, step: 0) // Avg time/img: 0.0266 s\n",
            "VAL loss: 2.102 (epoch: 6, step: 50) // Avg time/img: 0.0252 s\n",
            "EPOCH IoU on VAL set:  \u001b[0m40.52\u001b[0m %\n",
            "Saving model as best\n",
            "save: ../save/bisenet_training_void_2/model-006.pth (epoch: 6)\n",
            "save: ../save/bisenet_training_void_2/model_best.pth (epoch: 6)\n",
            "----- TRAINING - EPOCH 7 -----\n",
            "LEARNING RATE:  0.02159817430757048\n",
            "loss: 3.117 (epoch: 7, step: 0) // Avg time/img: 0.0582 s\n",
            "loss: 2.34 (epoch: 7, step: 50) // Avg time/img: 0.0434 s\n",
            "loss: 2.291 (epoch: 7, step: 100) // Avg time/img: 0.0429 s\n",
            "loss: 2.264 (epoch: 7, step: 150) // Avg time/img: 0.0428 s\n",
            "loss: 2.269 (epoch: 7, step: 200) // Avg time/img: 0.0426 s\n",
            "loss: 2.28 (epoch: 7, step: 250) // Avg time/img: 0.0426 s\n",
            "loss: 2.275 (epoch: 7, step: 300) // Avg time/img: 0.0426 s\n",
            "loss: 2.268 (epoch: 7, step: 350) // Avg time/img: 0.0426 s\n",
            "loss: 2.255 (epoch: 7, step: 400) // Avg time/img: 0.0426 s\n",
            "loss: 2.253 (epoch: 7, step: 450) // Avg time/img: 0.0426 s\n",
            "----- VALIDATING - EPOCH 7 -----\n",
            "VAL loss: 2.159 (epoch: 7, step: 0) // Avg time/img: 0.0233 s\n",
            "VAL loss: 2.509 (epoch: 7, step: 50) // Avg time/img: 0.0255 s\n",
            "EPOCH IoU on VAL set:  \u001b[0m38.64\u001b[0m %\n",
            "save: ../save/bisenet_training_void_2/model-007.pth (epoch: 7)\n",
            "----- TRAINING - EPOCH 8 -----\n",
            "LEARNING RATE:  0.021025607959836438\n",
            "loss: 2.765 (epoch: 8, step: 0) // Avg time/img: 0.0585 s\n",
            "loss: 2.22 (epoch: 8, step: 50) // Avg time/img: 0.0433 s\n",
            "loss: 2.209 (epoch: 8, step: 100) // Avg time/img: 0.0432 s\n",
            "loss: 2.222 (epoch: 8, step: 150) // Avg time/img: 0.0431 s\n",
            "loss: 2.224 (epoch: 8, step: 200) // Avg time/img: 0.0430 s\n",
            "loss: 2.204 (epoch: 8, step: 250) // Avg time/img: 0.0429 s\n",
            "loss: 2.217 (epoch: 8, step: 300) // Avg time/img: 0.0428 s\n",
            "loss: 2.223 (epoch: 8, step: 350) // Avg time/img: 0.0427 s\n",
            "loss: 2.22 (epoch: 8, step: 400) // Avg time/img: 0.0426 s\n",
            "loss: 2.209 (epoch: 8, step: 450) // Avg time/img: 0.0426 s\n",
            "----- VALIDATING - EPOCH 8 -----\n",
            "VAL loss: 2.059 (epoch: 8, step: 0) // Avg time/img: 0.0310 s\n",
            "VAL loss: 2.406 (epoch: 8, step: 50) // Avg time/img: 0.0260 s\n",
            "EPOCH IoU on VAL set:  \u001b[0m42.01\u001b[0m %\n",
            "Saving model as best\n",
            "save: ../save/bisenet_training_void_2/model-008.pth (epoch: 8)\n",
            "save: ../save/bisenet_training_void_2/model_best.pth (epoch: 8)\n",
            "----- TRAINING - EPOCH 9 -----\n",
            "LEARNING RATE:  0.02045130365127146\n",
            "loss: 2.192 (epoch: 9, step: 0) // Avg time/img: 0.0572 s\n",
            "loss: 2.163 (epoch: 9, step: 50) // Avg time/img: 0.0429 s\n",
            "loss: 2.178 (epoch: 9, step: 100) // Avg time/img: 0.0424 s\n",
            "loss: 2.187 (epoch: 9, step: 150) // Avg time/img: 0.0424 s\n",
            "loss: 2.196 (epoch: 9, step: 200) // Avg time/img: 0.0424 s\n",
            "loss: 2.192 (epoch: 9, step: 250) // Avg time/img: 0.0424 s\n",
            "loss: 2.19 (epoch: 9, step: 300) // Avg time/img: 0.0425 s\n",
            "loss: 2.199 (epoch: 9, step: 350) // Avg time/img: 0.0424 s\n",
            "loss: 2.199 (epoch: 9, step: 400) // Avg time/img: 0.0424 s\n",
            "loss: 2.201 (epoch: 9, step: 450) // Avg time/img: 0.0424 s\n",
            "----- VALIDATING - EPOCH 9 -----\n",
            "VAL loss: 2.095 (epoch: 9, step: 0) // Avg time/img: 0.0292 s\n",
            "VAL loss: 2.838 (epoch: 9, step: 50) // Avg time/img: 0.0253 s\n",
            "EPOCH IoU on VAL set:  \u001b[0m40.86\u001b[0m %\n",
            "save: ../save/bisenet_training_void_2/model-009.pth (epoch: 9)\n",
            "----- TRAINING - EPOCH 10 -----\n",
            "LEARNING RATE:  0.01987520152680185\n",
            "loss: 2.024 (epoch: 10, step: 0) // Avg time/img: 0.0552 s\n",
            "loss: 2.234 (epoch: 10, step: 50) // Avg time/img: 0.0427 s\n",
            "loss: 2.245 (epoch: 10, step: 100) // Avg time/img: 0.0426 s\n",
            "loss: 2.231 (epoch: 10, step: 150) // Avg time/img: 0.0425 s\n",
            "loss: 2.228 (epoch: 10, step: 200) // Avg time/img: 0.0425 s\n",
            "loss: 2.215 (epoch: 10, step: 250) // Avg time/img: 0.0424 s\n",
            "loss: 2.201 (epoch: 10, step: 300) // Avg time/img: 0.0424 s\n",
            "loss: 2.194 (epoch: 10, step: 350) // Avg time/img: 0.0424 s\n",
            "loss: 2.192 (epoch: 10, step: 400) // Avg time/img: 0.0423 s\n",
            "loss: 2.189 (epoch: 10, step: 450) // Avg time/img: 0.0423 s\n",
            "----- VALIDATING - EPOCH 10 -----\n",
            "VAL loss: 1.945 (epoch: 10, step: 0) // Avg time/img: 0.0241 s\n",
            "VAL loss: 2.417 (epoch: 10, step: 50) // Avg time/img: 0.0249 s\n",
            "EPOCH IoU on VAL set:  \u001b[0m44.16\u001b[0m %\n",
            "Saving model as best\n",
            "save: ../save/bisenet_training_void_2/model-010.pth (epoch: 10)\n",
            "save: ../save/bisenet_training_void_2/model_best.pth (epoch: 10)\n",
            "----- TRAINING - EPOCH 11 -----\n",
            "LEARNING RATE:  0.019297237668089263\n",
            "loss: 2.563 (epoch: 11, step: 0) // Avg time/img: 0.0603 s\n",
            "loss: 2.132 (epoch: 11, step: 50) // Avg time/img: 0.0427 s\n",
            "loss: 2.151 (epoch: 11, step: 100) // Avg time/img: 0.0427 s\n",
            "loss: 2.146 (epoch: 11, step: 150) // Avg time/img: 0.0427 s\n",
            "loss: 2.165 (epoch: 11, step: 200) // Avg time/img: 0.0426 s\n",
            "loss: 2.17 (epoch: 11, step: 250) // Avg time/img: 0.0426 s\n",
            "loss: 2.172 (epoch: 11, step: 300) // Avg time/img: 0.0425 s\n",
            "loss: 2.185 (epoch: 11, step: 350) // Avg time/img: 0.0424 s\n",
            "loss: 2.175 (epoch: 11, step: 400) // Avg time/img: 0.0423 s\n",
            "loss: 2.182 (epoch: 11, step: 450) // Avg time/img: 0.0423 s\n",
            "----- VALIDATING - EPOCH 11 -----\n",
            "VAL loss: 2.008 (epoch: 11, step: 0) // Avg time/img: 0.0368 s\n",
            "VAL loss: 2.267 (epoch: 11, step: 50) // Avg time/img: 0.0258 s\n",
            "EPOCH IoU on VAL set:  \u001b[0m47.57\u001b[0m %\n",
            "Saving model as best\n",
            "save: ../save/bisenet_training_void_2/model-011.pth (epoch: 11)\n",
            "save: ../save/bisenet_training_void_2/model_best.pth (epoch: 11)\n",
            "----- TRAINING - EPOCH 12 -----\n",
            "LEARNING RATE:  0.018717343672668973\n",
            "loss: 2.519 (epoch: 12, step: 0) // Avg time/img: 0.0549 s\n",
            "loss: 2.183 (epoch: 12, step: 50) // Avg time/img: 0.0425 s\n",
            "loss: 2.134 (epoch: 12, step: 100) // Avg time/img: 0.0422 s\n",
            "loss: 2.143 (epoch: 12, step: 150) // Avg time/img: 0.0423 s\n",
            "loss: 2.147 (epoch: 12, step: 200) // Avg time/img: 0.0422 s\n",
            "loss: 2.138 (epoch: 12, step: 250) // Avg time/img: 0.0421 s\n",
            "loss: 2.143 (epoch: 12, step: 300) // Avg time/img: 0.0421 s\n",
            "loss: 2.145 (epoch: 12, step: 350) // Avg time/img: 0.0421 s\n",
            "loss: 2.153 (epoch: 12, step: 400) // Avg time/img: 0.0421 s\n",
            "loss: 2.159 (epoch: 12, step: 450) // Avg time/img: 0.0420 s\n",
            "----- VALIDATING - EPOCH 12 -----\n",
            "VAL loss: 2.062 (epoch: 12, step: 0) // Avg time/img: 0.0245 s\n",
            "VAL loss: 2.446 (epoch: 12, step: 50) // Avg time/img: 0.0251 s\n",
            "EPOCH IoU on VAL set:  \u001b[0m43.89\u001b[0m %\n",
            "save: ../save/bisenet_training_void_2/model-012.pth (epoch: 12)\n",
            "----- TRAINING - EPOCH 13 -----\n",
            "LEARNING RATE:  0.0181354461734305\n",
            "loss: 1.988 (epoch: 13, step: 0) // Avg time/img: 0.0582 s\n",
            "loss: 2.131 (epoch: 13, step: 50) // Avg time/img: 0.0422 s\n",
            "loss: 2.111 (epoch: 13, step: 100) // Avg time/img: 0.0421 s\n",
            "loss: 2.151 (epoch: 13, step: 150) // Avg time/img: 0.0420 s\n",
            "loss: 2.141 (epoch: 13, step: 200) // Avg time/img: 0.0421 s\n",
            "loss: 2.145 (epoch: 13, step: 250) // Avg time/img: 0.0421 s\n",
            "loss: 2.142 (epoch: 13, step: 300) // Avg time/img: 0.0421 s\n",
            "loss: 2.144 (epoch: 13, step: 350) // Avg time/img: 0.0421 s\n",
            "loss: 2.14 (epoch: 13, step: 400) // Avg time/img: 0.0421 s\n",
            "loss: 2.147 (epoch: 13, step: 450) // Avg time/img: 0.0421 s\n",
            "----- VALIDATING - EPOCH 13 -----\n",
            "VAL loss: 1.911 (epoch: 13, step: 0) // Avg time/img: 0.0249 s\n",
            "VAL loss: 2.334 (epoch: 13, step: 50) // Avg time/img: 0.0249 s\n",
            "EPOCH IoU on VAL set:  \u001b[0m47.70\u001b[0m %\n",
            "Saving model as best\n",
            "save: ../save/bisenet_training_void_2/model-013.pth (epoch: 13)\n",
            "save: ../save/bisenet_training_void_2/model_best.pth (epoch: 13)\n",
            "----- TRAINING - EPOCH 14 -----\n",
            "LEARNING RATE:  0.0175514662875424\n",
            "loss: 1.827 (epoch: 14, step: 0) // Avg time/img: 0.0530 s\n",
            "loss: 2.189 (epoch: 14, step: 50) // Avg time/img: 0.0429 s\n",
            "loss: 2.128 (epoch: 14, step: 100) // Avg time/img: 0.0427 s\n",
            "loss: 2.128 (epoch: 14, step: 150) // Avg time/img: 0.0424 s\n",
            "loss: 2.122 (epoch: 14, step: 200) // Avg time/img: 0.0422 s\n",
            "loss: 2.121 (epoch: 14, step: 250) // Avg time/img: 0.0422 s\n",
            "loss: 2.116 (epoch: 14, step: 300) // Avg time/img: 0.0423 s\n",
            "loss: 2.118 (epoch: 14, step: 350) // Avg time/img: 0.0422 s\n",
            "loss: 2.119 (epoch: 14, step: 400) // Avg time/img: 0.0422 s\n",
            "loss: 2.118 (epoch: 14, step: 450) // Avg time/img: 0.0422 s\n",
            "----- VALIDATING - EPOCH 14 -----\n",
            "VAL loss: 1.918 (epoch: 14, step: 0) // Avg time/img: 0.0401 s\n",
            "VAL loss: 2.355 (epoch: 14, step: 50) // Avg time/img: 0.0248 s\n",
            "EPOCH IoU on VAL set:  \u001b[0m49.12\u001b[0m %\n",
            "Saving model as best\n",
            "save: ../save/bisenet_training_void_2/model-014.pth (epoch: 14)\n",
            "save: ../save/bisenet_training_void_2/model_best.pth (epoch: 14)\n",
            "----- TRAINING - EPOCH 15 -----\n",
            "LEARNING RATE:  0.016965318981453127\n",
            "loss: 1.959 (epoch: 15, step: 0) // Avg time/img: 0.0597 s\n",
            "loss: 2.079 (epoch: 15, step: 50) // Avg time/img: 0.0431 s\n",
            "loss: 2.104 (epoch: 15, step: 100) // Avg time/img: 0.0426 s\n",
            "loss: 2.103 (epoch: 15, step: 150) // Avg time/img: 0.0425 s\n",
            "loss: 2.093 (epoch: 15, step: 200) // Avg time/img: 0.0425 s\n",
            "loss: 2.097 (epoch: 15, step: 250) // Avg time/img: 0.0424 s\n",
            "loss: 2.103 (epoch: 15, step: 300) // Avg time/img: 0.0423 s\n",
            "loss: 2.102 (epoch: 15, step: 350) // Avg time/img: 0.0423 s\n",
            "loss: 2.106 (epoch: 15, step: 400) // Avg time/img: 0.0423 s\n",
            "loss: 2.105 (epoch: 15, step: 450) // Avg time/img: 0.0422 s\n",
            "----- VALIDATING - EPOCH 15 -----\n",
            "VAL loss: 1.522 (epoch: 15, step: 0) // Avg time/img: 0.0255 s\n",
            "VAL loss: 1.95 (epoch: 15, step: 50) // Avg time/img: 0.0249 s\n",
            "EPOCH IoU on VAL set:  \u001b[0m51.03\u001b[0m %\n",
            "Saving model as best\n",
            "save: ../save/bisenet_training_void_2/model-015.pth (epoch: 15)\n",
            "save: ../save/bisenet_training_void_2/model_best.pth (epoch: 15)\n",
            "----- TRAINING - EPOCH 16 -----\n",
            "LEARNING RATE:  0.016376912335452465\n",
            "loss: 1.911 (epoch: 16, step: 0) // Avg time/img: 0.0570 s\n",
            "loss: 2.068 (epoch: 16, step: 50) // Avg time/img: 0.0431 s\n",
            "loss: 2.054 (epoch: 16, step: 100) // Avg time/img: 0.0425 s\n",
            "loss: 2.078 (epoch: 16, step: 150) // Avg time/img: 0.0425 s\n",
            "loss: 2.08 (epoch: 16, step: 200) // Avg time/img: 0.0424 s\n",
            "loss: 2.073 (epoch: 16, step: 250) // Avg time/img: 0.0424 s\n",
            "loss: 2.072 (epoch: 16, step: 300) // Avg time/img: 0.0423 s\n",
            "loss: 2.073 (epoch: 16, step: 350) // Avg time/img: 0.0423 s\n",
            "loss: 2.075 (epoch: 16, step: 400) // Avg time/img: 0.0423 s\n",
            "loss: 2.08 (epoch: 16, step: 450) // Avg time/img: 0.0423 s\n",
            "----- VALIDATING - EPOCH 16 -----\n",
            "VAL loss: 2.15 (epoch: 16, step: 0) // Avg time/img: 0.0290 s\n",
            "VAL loss: 2.446 (epoch: 16, step: 50) // Avg time/img: 0.0249 s\n",
            "EPOCH IoU on VAL set:  \u001b[0m47.02\u001b[0m %\n",
            "save: ../save/bisenet_training_void_2/model-016.pth (epoch: 16)\n",
            "----- TRAINING - EPOCH 17 -----\n",
            "LEARNING RATE:  0.015786146687233882\n",
            "loss: 2.237 (epoch: 17, step: 0) // Avg time/img: 0.0599 s\n",
            "loss: 2.059 (epoch: 17, step: 50) // Avg time/img: 0.0429 s\n",
            "loss: 2.066 (epoch: 17, step: 100) // Avg time/img: 0.0425 s\n",
            "loss: 2.077 (epoch: 17, step: 150) // Avg time/img: 0.0424 s\n",
            "loss: 2.063 (epoch: 17, step: 200) // Avg time/img: 0.0423 s\n",
            "loss: 2.073 (epoch: 17, step: 250) // Avg time/img: 0.0423 s\n",
            "loss: 2.08 (epoch: 17, step: 300) // Avg time/img: 0.0422 s\n",
            "loss: 2.077 (epoch: 17, step: 350) // Avg time/img: 0.0422 s\n",
            "loss: 2.076 (epoch: 17, step: 400) // Avg time/img: 0.0422 s\n",
            "loss: 2.074 (epoch: 17, step: 450) // Avg time/img: 0.0422 s\n",
            "----- VALIDATING - EPOCH 17 -----\n",
            "VAL loss: 2.014 (epoch: 17, step: 0) // Avg time/img: 0.0348 s\n",
            "VAL loss: 2.457 (epoch: 17, step: 50) // Avg time/img: 0.0252 s\n",
            "EPOCH IoU on VAL set:  \u001b[0m52.22\u001b[0m %\n",
            "Saving model as best\n",
            "save: ../save/bisenet_training_void_2/model-017.pth (epoch: 17)\n",
            "save: ../save/bisenet_training_void_2/model_best.pth (epoch: 17)\n",
            "----- TRAINING - EPOCH 18 -----\n",
            "LEARNING RATE:  0.01519291362865223\n",
            "loss: 2.303 (epoch: 18, step: 0) // Avg time/img: 0.0585 s\n",
            "loss: 2.038 (epoch: 18, step: 50) // Avg time/img: 0.0426 s\n",
            "loss: 2.054 (epoch: 18, step: 100) // Avg time/img: 0.0424 s\n",
            "loss: 2.061 (epoch: 18, step: 150) // Avg time/img: 0.0423 s\n",
            "loss: 2.064 (epoch: 18, step: 200) // Avg time/img: 0.0422 s\n",
            "loss: 2.055 (epoch: 18, step: 250) // Avg time/img: 0.0421 s\n",
            "loss: 2.061 (epoch: 18, step: 300) // Avg time/img: 0.0421 s\n",
            "loss: 2.064 (epoch: 18, step: 350) // Avg time/img: 0.0421 s\n",
            "loss: 2.067 (epoch: 18, step: 400) // Avg time/img: 0.0421 s\n",
            "loss: 2.064 (epoch: 18, step: 450) // Avg time/img: 0.0421 s\n",
            "----- VALIDATING - EPOCH 18 -----\n",
            "VAL loss: 1.801 (epoch: 18, step: 0) // Avg time/img: 0.0227 s\n",
            "VAL loss: 2.144 (epoch: 18, step: 50) // Avg time/img: 0.0253 s\n",
            "EPOCH IoU on VAL set:  \u001b[0m49.73\u001b[0m %\n",
            "save: ../save/bisenet_training_void_2/model-018.pth (epoch: 18)\n",
            "----- TRAINING - EPOCH 19 -----\n",
            "LEARNING RATE:  0.014597094822999507\n",
            "loss: 2.115 (epoch: 19, step: 0) // Avg time/img: 0.0570 s\n",
            "loss: 2.091 (epoch: 19, step: 50) // Avg time/img: 0.0421 s\n",
            "loss: 2.079 (epoch: 19, step: 100) // Avg time/img: 0.0421 s\n",
            "loss: 2.073 (epoch: 19, step: 150) // Avg time/img: 0.0423 s\n",
            "loss: 2.071 (epoch: 19, step: 200) // Avg time/img: 0.0423 s\n",
            "loss: 2.06 (epoch: 19, step: 250) // Avg time/img: 0.0422 s\n",
            "loss: 2.066 (epoch: 19, step: 300) // Avg time/img: 0.0421 s\n",
            "loss: 2.066 (epoch: 19, step: 350) // Avg time/img: 0.0421 s\n",
            "loss: 2.065 (epoch: 19, step: 400) // Avg time/img: 0.0421 s\n",
            "loss: 2.065 (epoch: 19, step: 450) // Avg time/img: 0.0421 s\n",
            "----- VALIDATING - EPOCH 19 -----\n",
            "VAL loss: 1.647 (epoch: 19, step: 0) // Avg time/img: 0.0273 s\n",
            "VAL loss: 2.097 (epoch: 19, step: 50) // Avg time/img: 0.0257 s\n",
            "EPOCH IoU on VAL set:  \u001b[0m52.89\u001b[0m %\n",
            "Saving model as best\n",
            "save: ../save/bisenet_training_void_2/model-019.pth (epoch: 19)\n",
            "save: ../save/bisenet_training_void_2/model_best.pth (epoch: 19)\n",
            "----- TRAINING - EPOCH 20 -----\n",
            "LEARNING RATE:  0.013998560601021132\n",
            "loss: 1.679 (epoch: 20, step: 0) // Avg time/img: 0.0557 s\n",
            "loss: 2.075 (epoch: 20, step: 50) // Avg time/img: 0.0425 s\n",
            "loss: 2.063 (epoch: 20, step: 100) // Avg time/img: 0.0422 s\n",
            "loss: 2.051 (epoch: 20, step: 150) // Avg time/img: 0.0420 s\n",
            "loss: 2.042 (epoch: 20, step: 200) // Avg time/img: 0.0420 s\n",
            "loss: 2.036 (epoch: 20, step: 250) // Avg time/img: 0.0419 s\n",
            "loss: 2.047 (epoch: 20, step: 300) // Avg time/img: 0.0419 s\n",
            "loss: 2.05 (epoch: 20, step: 350) // Avg time/img: 0.0419 s\n",
            "loss: 2.048 (epoch: 20, step: 400) // Avg time/img: 0.0419 s\n",
            "loss: 2.046 (epoch: 20, step: 450) // Avg time/img: 0.0419 s\n",
            "----- VALIDATING - EPOCH 20 -----\n",
            "VAL loss: 1.983 (epoch: 20, step: 0) // Avg time/img: 0.0256 s\n",
            "VAL loss: 2.442 (epoch: 20, step: 50) // Avg time/img: 0.0250 s\n",
            "EPOCH IoU on VAL set:  \u001b[0m52.45\u001b[0m %\n",
            "save: ../save/bisenet_training_void_2/model-020.pth (epoch: 20)\n",
            "========== TRAINING FINISHED ===========\n"
          ]
        }
      ]
    },
    {
      "cell_type": "code",
      "source": [
        "train_model(\"bisenet\", num_epochs=40, batch_size=6, stop_epoch=40, resume=True)"
      ],
      "metadata": {
        "id": "jqwx8Yat-_eP",
        "colab": {
          "base_uri": "https://localhost:8080/"
        },
        "outputId": "64409bba-24ac-475d-e0ef-8be5e63051da"
      },
      "execution_count": null,
      "outputs": [
        {
          "output_type": "stream",
          "name": "stdout",
          "text": [
            "Downloading: \"https://download.pytorch.org/models/resnet18-5c106cde.pth\" to /root/.cache/torch/hub/checkpoints/resnet18-5c106cde.pth\n",
            "100% 44.7M/44.7M [00:00<00:00, 384MB/s]\n",
            "========== TRAINING ===========\n",
            "../cityscapes/leftImg8bit/train\n",
            "../cityscapes/leftImg8bit/val\n",
            "=> Loaded checkpoint at epoch 21)\n",
            "----- TRAINING - EPOCH 21 -----\n",
            "LEARNING RATE:  0.013397168281703665\n",
            "loss: 2.068 (epoch: 21, step: 0) // Avg time/img: 0.4451 s\n",
            "loss: 2.012 (epoch: 21, step: 50) // Avg time/img: 0.0482 s\n",
            "loss: 2.009 (epoch: 21, step: 100) // Avg time/img: 0.0447 s\n",
            "loss: 2.011 (epoch: 21, step: 150) // Avg time/img: 0.0438 s\n",
            "loss: 2.021 (epoch: 21, step: 200) // Avg time/img: 0.0436 s\n",
            "loss: 2.012 (epoch: 21, step: 250) // Avg time/img: 0.0436 s\n",
            "loss: 2.017 (epoch: 21, step: 300) // Avg time/img: 0.0436 s\n",
            "loss: 2.026 (epoch: 21, step: 350) // Avg time/img: 0.0435 s\n",
            "loss: 2.02 (epoch: 21, step: 400) // Avg time/img: 0.0436 s\n",
            "loss: 2.019 (epoch: 21, step: 450) // Avg time/img: 0.0435 s\n",
            "----- VALIDATING - EPOCH 21 -----\n",
            "VAL loss: 1.843 (epoch: 21, step: 0) // Avg time/img: 0.0292 s\n",
            "VAL loss: 2.257 (epoch: 21, step: 50) // Avg time/img: 0.0261 s\n",
            "EPOCH IoU on VAL set:  \u001b[0m52.88\u001b[0m %\n",
            "save: ../save/bisenet_training_void_2/model-021.pth (epoch: 21)\n",
            "----- TRAINING - EPOCH 22 -----\n",
            "LEARNING RATE:  0.012792760147322056\n",
            "loss: 1.753 (epoch: 22, step: 0) // Avg time/img: 0.0549 s\n",
            "loss: 2.042 (epoch: 22, step: 50) // Avg time/img: 0.0438 s\n",
            "loss: 2.031 (epoch: 22, step: 100) // Avg time/img: 0.0438 s\n",
            "loss: 2.044 (epoch: 22, step: 150) // Avg time/img: 0.0436 s\n",
            "loss: 2.029 (epoch: 22, step: 200) // Avg time/img: 0.0436 s\n",
            "loss: 2.029 (epoch: 22, step: 250) // Avg time/img: 0.0437 s\n",
            "loss: 2.044 (epoch: 22, step: 300) // Avg time/img: 0.0436 s\n",
            "loss: 2.035 (epoch: 22, step: 350) // Avg time/img: 0.0436 s\n",
            "loss: 2.031 (epoch: 22, step: 400) // Avg time/img: 0.0436 s\n",
            "loss: 2.028 (epoch: 22, step: 450) // Avg time/img: 0.0436 s\n",
            "----- VALIDATING - EPOCH 22 -----\n",
            "VAL loss: 1.804 (epoch: 22, step: 0) // Avg time/img: 0.0288 s\n",
            "VAL loss: 2.086 (epoch: 22, step: 50) // Avg time/img: 0.0258 s\n",
            "EPOCH IoU on VAL set:  \u001b[0m43.35\u001b[0m %\n",
            "save: ../save/bisenet_training_void_2/model-022.pth (epoch: 22)\n",
            "----- TRAINING - EPOCH 23 -----\n",
            "LEARNING RATE:  0.012185160979474885\n",
            "loss: 1.874 (epoch: 23, step: 0) // Avg time/img: 0.0587 s\n",
            "loss: 1.98 (epoch: 23, step: 50) // Avg time/img: 0.0436 s\n",
            "loss: 1.972 (epoch: 23, step: 100) // Avg time/img: 0.0434 s\n",
            "loss: 1.989 (epoch: 23, step: 150) // Avg time/img: 0.0433 s\n",
            "loss: 1.986 (epoch: 23, step: 200) // Avg time/img: 0.0433 s\n",
            "loss: 1.998 (epoch: 23, step: 250) // Avg time/img: 0.0433 s\n",
            "loss: 1.994 (epoch: 23, step: 300) // Avg time/img: 0.0434 s\n",
            "loss: 2.004 (epoch: 23, step: 350) // Avg time/img: 0.0434 s\n",
            "loss: 2.01 (epoch: 23, step: 400) // Avg time/img: 0.0434 s\n",
            "loss: 2.014 (epoch: 23, step: 450) // Avg time/img: 0.0434 s\n",
            "----- VALIDATING - EPOCH 23 -----\n",
            "VAL loss: 1.771 (epoch: 23, step: 0) // Avg time/img: 0.0280 s\n",
            "VAL loss: 2.194 (epoch: 23, step: 50) // Avg time/img: 0.0252 s\n",
            "EPOCH IoU on VAL set:  \u001b[0m54.75\u001b[0m %\n",
            "Saving model as best\n",
            "save: ../save/bisenet_training_void_2/model-023.pth (epoch: 23)\n",
            "save: ../save/bisenet_training_void_2/model_best.pth (epoch: 23)\n",
            "----- TRAINING - EPOCH 24 -----\n",
            "LEARNING RATE:  0.011574175031043611\n",
            "loss: 1.952 (epoch: 24, step: 0) // Avg time/img: 0.0576 s\n",
            "loss: 1.988 (epoch: 24, step: 50) // Avg time/img: 0.0441 s\n",
            "loss: 1.988 (epoch: 24, step: 100) // Avg time/img: 0.0434 s\n",
            "loss: 2.007 (epoch: 24, step: 150) // Avg time/img: 0.0435 s\n",
            "loss: 2.0 (epoch: 24, step: 200) // Avg time/img: 0.0435 s\n",
            "loss: 2.007 (epoch: 24, step: 250) // Avg time/img: 0.0435 s\n",
            "loss: 2.008 (epoch: 24, step: 300) // Avg time/img: 0.0436 s\n",
            "loss: 2.004 (epoch: 24, step: 350) // Avg time/img: 0.0435 s\n",
            "loss: 2.009 (epoch: 24, step: 400) // Avg time/img: 0.0435 s\n",
            "loss: 2.01 (epoch: 24, step: 450) // Avg time/img: 0.0435 s\n",
            "----- VALIDATING - EPOCH 24 -----\n",
            "VAL loss: 1.631 (epoch: 24, step: 0) // Avg time/img: 0.0260 s\n",
            "VAL loss: 2.182 (epoch: 24, step: 50) // Avg time/img: 0.0251 s\n",
            "EPOCH IoU on VAL set:  \u001b[0m53.21\u001b[0m %\n",
            "save: ../save/bisenet_training_void_2/model-024.pth (epoch: 24)\n",
            "----- TRAINING - EPOCH 25 -----\n",
            "LEARNING RATE:  0.010959582263852173\n",
            "loss: 2.025 (epoch: 25, step: 0) // Avg time/img: 0.0565 s\n",
            "loss: 2.026 (epoch: 25, step: 50) // Avg time/img: 0.0437 s\n",
            "loss: 1.996 (epoch: 25, step: 100) // Avg time/img: 0.0434 s\n",
            "loss: 1.998 (epoch: 25, step: 150) // Avg time/img: 0.0434 s\n",
            "loss: 2.0 (epoch: 25, step: 200) // Avg time/img: 0.0435 s\n",
            "loss: 1.995 (epoch: 25, step: 250) // Avg time/img: 0.0435 s\n",
            "loss: 1.991 (epoch: 25, step: 300) // Avg time/img: 0.0435 s\n",
            "loss: 1.997 (epoch: 25, step: 350) // Avg time/img: 0.0435 s\n",
            "loss: 2.001 (epoch: 25, step: 400) // Avg time/img: 0.0434 s\n",
            "loss: 2.013 (epoch: 25, step: 450) // Avg time/img: 0.0434 s\n",
            "----- VALIDATING - EPOCH 25 -----\n",
            "VAL loss: 1.708 (epoch: 25, step: 0) // Avg time/img: 0.0263 s\n",
            "VAL loss: 2.151 (epoch: 25, step: 50) // Avg time/img: 0.0253 s\n",
            "EPOCH IoU on VAL set:  \u001b[0m55.05\u001b[0m %\n",
            "Saving model as best\n",
            "save: ../save/bisenet_training_void_2/model-025.pth (epoch: 25)\n",
            "save: ../save/bisenet_training_void_2/model_best.pth (epoch: 25)\n",
            "----- TRAINING - EPOCH 26 -----\n",
            "LEARNING RATE:  0.010341133616456905\n",
            "loss: 2.053 (epoch: 26, step: 0) // Avg time/img: 0.0506 s\n",
            "loss: 1.985 (epoch: 26, step: 50) // Avg time/img: 0.0442 s\n",
            "loss: 1.969 (epoch: 26, step: 100) // Avg time/img: 0.0437 s\n",
            "loss: 1.965 (epoch: 26, step: 150) // Avg time/img: 0.0437 s\n",
            "loss: 1.989 (epoch: 26, step: 200) // Avg time/img: 0.0436 s\n",
            "loss: 1.995 (epoch: 26, step: 250) // Avg time/img: 0.0436 s\n",
            "loss: 1.999 (epoch: 26, step: 300) // Avg time/img: 0.0436 s\n",
            "loss: 1.998 (epoch: 26, step: 350) // Avg time/img: 0.0435 s\n",
            "loss: 1.994 (epoch: 26, step: 400) // Avg time/img: 0.0435 s\n",
            "loss: 1.998 (epoch: 26, step: 450) // Avg time/img: 0.0435 s\n",
            "----- VALIDATING - EPOCH 26 -----\n",
            "VAL loss: 1.741 (epoch: 26, step: 0) // Avg time/img: 0.0342 s\n",
            "VAL loss: 2.084 (epoch: 26, step: 50) // Avg time/img: 0.0259 s\n",
            "EPOCH IoU on VAL set:  \u001b[0m54.39\u001b[0m %\n",
            "save: ../save/bisenet_training_void_2/model-026.pth (epoch: 26)\n",
            "----- TRAINING - EPOCH 27 -----\n",
            "LEARNING RATE:  0.009718544969969087\n",
            "loss: 1.836 (epoch: 27, step: 0) // Avg time/img: 0.0611 s\n",
            "loss: 2.016 (epoch: 27, step: 50) // Avg time/img: 0.0441 s\n",
            "loss: 2.031 (epoch: 27, step: 100) // Avg time/img: 0.0438 s\n",
            "loss: 2.02 (epoch: 27, step: 150) // Avg time/img: 0.0436 s\n",
            "loss: 2.009 (epoch: 27, step: 200) // Avg time/img: 0.0435 s\n",
            "loss: 2.015 (epoch: 27, step: 250) // Avg time/img: 0.0434 s\n",
            "loss: 2.009 (epoch: 27, step: 300) // Avg time/img: 0.0434 s\n",
            "loss: 2.01 (epoch: 27, step: 350) // Avg time/img: 0.0434 s\n",
            "loss: 1.998 (epoch: 27, step: 400) // Avg time/img: 0.0434 s\n",
            "loss: 1.998 (epoch: 27, step: 450) // Avg time/img: 0.0435 s\n",
            "----- VALIDATING - EPOCH 27 -----\n",
            "VAL loss: 1.963 (epoch: 27, step: 0) // Avg time/img: 0.0333 s\n",
            "VAL loss: 2.264 (epoch: 27, step: 50) // Avg time/img: 0.0251 s\n",
            "EPOCH IoU on VAL set:  \u001b[0m54.81\u001b[0m %\n",
            "save: ../save/bisenet_training_void_2/model-027.pth (epoch: 27)\n",
            "----- TRAINING - EPOCH 28 -----\n",
            "LEARNING RATE:  0.009091489333892356\n",
            "loss: 1.94 (epoch: 28, step: 0) // Avg time/img: 0.0539 s\n",
            "loss: 1.986 (epoch: 28, step: 50) // Avg time/img: 0.0444 s\n",
            "loss: 1.982 (epoch: 28, step: 100) // Avg time/img: 0.0438 s\n",
            "loss: 1.969 (epoch: 28, step: 150) // Avg time/img: 0.0436 s\n",
            "loss: 1.962 (epoch: 28, step: 200) // Avg time/img: 0.0436 s\n",
            "loss: 1.958 (epoch: 28, step: 250) // Avg time/img: 0.0435 s\n",
            "loss: 1.966 (epoch: 28, step: 300) // Avg time/img: 0.0436 s\n",
            "loss: 1.964 (epoch: 28, step: 350) // Avg time/img: 0.0436 s\n",
            "loss: 1.963 (epoch: 28, step: 400) // Avg time/img: 0.0436 s\n",
            "loss: 1.959 (epoch: 28, step: 450) // Avg time/img: 0.0436 s\n",
            "----- VALIDATING - EPOCH 28 -----\n",
            "VAL loss: 1.825 (epoch: 28, step: 0) // Avg time/img: 0.0355 s\n",
            "VAL loss: 2.292 (epoch: 28, step: 50) // Avg time/img: 0.0258 s\n",
            "EPOCH IoU on VAL set:  \u001b[0m57.36\u001b[0m %\n",
            "Saving model as best\n",
            "save: ../save/bisenet_training_void_2/model-028.pth (epoch: 28)\n",
            "save: ../save/bisenet_training_void_2/model_best.pth (epoch: 28)\n",
            "----- TRAINING - EPOCH 29 -----\n",
            "LEARNING RATE:  0.008459586547541247\n",
            "loss: 1.939 (epoch: 29, step: 0) // Avg time/img: 0.0554 s\n",
            "loss: 1.972 (epoch: 29, step: 50) // Avg time/img: 0.0440 s\n",
            "loss: 1.956 (epoch: 29, step: 100) // Avg time/img: 0.0436 s\n",
            "loss: 1.966 (epoch: 29, step: 150) // Avg time/img: 0.0435 s\n",
            "loss: 1.962 (epoch: 29, step: 200) // Avg time/img: 0.0434 s\n",
            "loss: 1.971 (epoch: 29, step: 250) // Avg time/img: 0.0434 s\n",
            "loss: 1.963 (epoch: 29, step: 300) // Avg time/img: 0.0433 s\n",
            "loss: 1.966 (epoch: 29, step: 350) // Avg time/img: 0.0434 s\n",
            "loss: 1.964 (epoch: 29, step: 400) // Avg time/img: 0.0434 s\n",
            "loss: 1.961 (epoch: 29, step: 450) // Avg time/img: 0.0433 s\n",
            "----- VALIDATING - EPOCH 29 -----\n",
            "VAL loss: 1.774 (epoch: 29, step: 0) // Avg time/img: 0.0234 s\n",
            "VAL loss: 2.144 (epoch: 29, step: 50) // Avg time/img: 0.0254 s\n",
            "EPOCH IoU on VAL set:  \u001b[0m57.57\u001b[0m %\n",
            "Saving model as best\n",
            "save: ../save/bisenet_training_void_2/model-029.pth (epoch: 29)\n",
            "save: ../save/bisenet_training_void_2/model_best.pth (epoch: 29)\n",
            "----- TRAINING - EPOCH 30 -----\n",
            "LEARNING RATE:  0.007822389430708392\n",
            "loss: 2.179 (epoch: 30, step: 0) // Avg time/img: 0.0573 s\n",
            "loss: 1.98 (epoch: 30, step: 50) // Avg time/img: 0.0444 s\n",
            "loss: 1.957 (epoch: 30, step: 100) // Avg time/img: 0.0438 s\n",
            "loss: 1.955 (epoch: 30, step: 150) // Avg time/img: 0.0436 s\n",
            "loss: 1.949 (epoch: 30, step: 200) // Avg time/img: 0.0437 s\n",
            "loss: 1.956 (epoch: 30, step: 250) // Avg time/img: 0.0435 s\n",
            "loss: 1.954 (epoch: 30, step: 300) // Avg time/img: 0.0434 s\n",
            "loss: 1.954 (epoch: 30, step: 350) // Avg time/img: 0.0434 s\n",
            "loss: 1.95 (epoch: 30, step: 400) // Avg time/img: 0.0435 s\n",
            "loss: 1.951 (epoch: 30, step: 450) // Avg time/img: 0.0434 s\n",
            "----- VALIDATING - EPOCH 30 -----\n",
            "VAL loss: 1.781 (epoch: 30, step: 0) // Avg time/img: 0.0300 s\n",
            "VAL loss: 2.186 (epoch: 30, step: 50) // Avg time/img: 0.0259 s\n",
            "EPOCH IoU on VAL set:  \u001b[0m56.64\u001b[0m %\n",
            "save: ../save/bisenet_training_void_2/model-030.pth (epoch: 30)\n",
            "----- TRAINING - EPOCH 31 -----\n",
            "LEARNING RATE:  0.007179364718731468\n",
            "loss: 2.038 (epoch: 31, step: 0) // Avg time/img: 0.0610 s\n",
            "loss: 1.972 (epoch: 31, step: 50) // Avg time/img: 0.0443 s\n",
            "loss: 1.948 (epoch: 31, step: 100) // Avg time/img: 0.0440 s\n",
            "loss: 1.953 (epoch: 31, step: 150) // Avg time/img: 0.0438 s\n",
            "loss: 1.935 (epoch: 31, step: 200) // Avg time/img: 0.0438 s\n",
            "loss: 1.938 (epoch: 31, step: 250) // Avg time/img: 0.0437 s\n",
            "loss: 1.944 (epoch: 31, step: 300) // Avg time/img: 0.0436 s\n",
            "loss: 1.944 (epoch: 31, step: 350) // Avg time/img: 0.0436 s\n",
            "loss: 1.947 (epoch: 31, step: 400) // Avg time/img: 0.0436 s\n",
            "loss: 1.949 (epoch: 31, step: 450) // Avg time/img: 0.0435 s\n",
            "----- VALIDATING - EPOCH 31 -----\n",
            "VAL loss: 1.77 (epoch: 31, step: 0) // Avg time/img: 0.0250 s\n",
            "VAL loss: 2.204 (epoch: 31, step: 50) // Avg time/img: 0.0254 s\n",
            "EPOCH IoU on VAL set:  \u001b[0m58.92\u001b[0m %\n",
            "Saving model as best\n",
            "save: ../save/bisenet_training_void_2/model-031.pth (epoch: 31)\n",
            "save: ../save/bisenet_training_void_2/model_best.pth (epoch: 31)\n",
            "----- TRAINING - EPOCH 32 -----\n",
            "LEARNING RATE:  0.006529866087266964\n",
            "loss: 1.639 (epoch: 32, step: 0) // Avg time/img: 0.0608 s\n",
            "loss: 1.896 (epoch: 32, step: 50) // Avg time/img: 0.0440 s\n",
            "loss: 1.907 (epoch: 32, step: 100) // Avg time/img: 0.0439 s\n",
            "loss: 1.918 (epoch: 32, step: 150) // Avg time/img: 0.0438 s\n",
            "loss: 1.937 (epoch: 32, step: 200) // Avg time/img: 0.0437 s\n",
            "loss: 1.935 (epoch: 32, step: 250) // Avg time/img: 0.0435 s\n",
            "loss: 1.942 (epoch: 32, step: 300) // Avg time/img: 0.0436 s\n",
            "loss: 1.937 (epoch: 32, step: 350) // Avg time/img: 0.0435 s\n",
            "loss: 1.932 (epoch: 32, step: 400) // Avg time/img: 0.0435 s\n",
            "loss: 1.931 (epoch: 32, step: 450) // Avg time/img: 0.0435 s\n",
            "----- VALIDATING - EPOCH 32 -----\n",
            "VAL loss: 1.941 (epoch: 32, step: 0) // Avg time/img: 0.0261 s\n",
            "VAL loss: 2.397 (epoch: 32, step: 50) // Avg time/img: 0.0256 s\n",
            "EPOCH IoU on VAL set:  \u001b[0m58.49\u001b[0m %\n",
            "save: ../save/bisenet_training_void_2/model-032.pth (epoch: 32)\n",
            "----- TRAINING - EPOCH 33 -----\n",
            "LEARNING RATE:  0.005873094715440094\n",
            "loss: 1.972 (epoch: 33, step: 0) // Avg time/img: 0.0622 s\n",
            "loss: 1.954 (epoch: 33, step: 50) // Avg time/img: 0.0443 s\n",
            "loss: 1.913 (epoch: 33, step: 100) // Avg time/img: 0.0438 s\n",
            "loss: 1.938 (epoch: 33, step: 150) // Avg time/img: 0.0436 s\n",
            "loss: 1.927 (epoch: 33, step: 200) // Avg time/img: 0.0435 s\n",
            "loss: 1.92 (epoch: 33, step: 250) // Avg time/img: 0.0435 s\n",
            "loss: 1.918 (epoch: 33, step: 300) // Avg time/img: 0.0435 s\n",
            "loss: 1.927 (epoch: 33, step: 350) // Avg time/img: 0.0435 s\n",
            "loss: 1.925 (epoch: 33, step: 400) // Avg time/img: 0.0435 s\n",
            "loss: 1.923 (epoch: 33, step: 450) // Avg time/img: 0.0435 s\n",
            "----- VALIDATING - EPOCH 33 -----\n",
            "VAL loss: 1.717 (epoch: 33, step: 0) // Avg time/img: 0.0268 s\n",
            "VAL loss: 2.127 (epoch: 33, step: 50) // Avg time/img: 0.0251 s\n",
            "EPOCH IoU on VAL set:  \u001b[0m58.81\u001b[0m %\n",
            "save: ../save/bisenet_training_void_2/model-033.pth (epoch: 33)\n",
            "----- TRAINING - EPOCH 34 -----\n",
            "LEARNING RATE:  0.005208039296639223\n",
            "loss: 2.014 (epoch: 34, step: 0) // Avg time/img: 0.0571 s\n",
            "loss: 1.933 (epoch: 34, step: 50) // Avg time/img: 0.0442 s\n",
            "loss: 1.935 (epoch: 34, step: 100) // Avg time/img: 0.0439 s\n",
            "loss: 1.925 (epoch: 34, step: 150) // Avg time/img: 0.0437 s\n",
            "loss: 1.926 (epoch: 34, step: 200) // Avg time/img: 0.0437 s\n",
            "loss: 1.936 (epoch: 34, step: 250) // Avg time/img: 0.0437 s\n",
            "loss: 1.933 (epoch: 34, step: 300) // Avg time/img: 0.0436 s\n",
            "loss: 1.937 (epoch: 34, step: 350) // Avg time/img: 0.0435 s\n",
            "loss: 1.929 (epoch: 34, step: 400) // Avg time/img: 0.0435 s\n",
            "loss: 1.934 (epoch: 34, step: 450) // Avg time/img: 0.0434 s\n",
            "----- VALIDATING - EPOCH 34 -----\n",
            "VAL loss: 1.771 (epoch: 34, step: 0) // Avg time/img: 0.0263 s\n",
            "VAL loss: 2.188 (epoch: 34, step: 50) // Avg time/img: 0.0260 s\n",
            "EPOCH IoU on VAL set:  \u001b[0m59.92\u001b[0m %\n",
            "Saving model as best\n",
            "save: ../save/bisenet_training_void_2/model-034.pth (epoch: 34)\n",
            "save: ../save/bisenet_training_void_2/model_best.pth (epoch: 34)\n",
            "----- TRAINING - EPOCH 35 -----\n",
            "LEARNING RATE:  0.004533380182841864\n",
            "loss: 2.172 (epoch: 35, step: 0) // Avg time/img: 0.0547 s\n",
            "loss: 1.904 (epoch: 35, step: 50) // Avg time/img: 0.0441 s\n",
            "loss: 1.9 (epoch: 35, step: 100) // Avg time/img: 0.0438 s\n",
            "loss: 1.904 (epoch: 35, step: 150) // Avg time/img: 0.0438 s\n",
            "loss: 1.906 (epoch: 35, step: 200) // Avg time/img: 0.0437 s\n",
            "loss: 1.891 (epoch: 35, step: 250) // Avg time/img: 0.0436 s\n",
            "loss: 1.898 (epoch: 35, step: 300) // Avg time/img: 0.0435 s\n",
            "loss: 1.901 (epoch: 35, step: 350) // Avg time/img: 0.0435 s\n",
            "loss: 1.898 (epoch: 35, step: 400) // Avg time/img: 0.0434 s\n",
            "loss: 1.903 (epoch: 35, step: 450) // Avg time/img: 0.0435 s\n",
            "----- VALIDATING - EPOCH 35 -----\n",
            "VAL loss: 1.547 (epoch: 35, step: 0) // Avg time/img: 0.0261 s\n",
            "VAL loss: 2.003 (epoch: 35, step: 50) // Avg time/img: 0.0253 s\n",
            "EPOCH IoU on VAL set:  \u001b[0m61.00\u001b[0m %\n",
            "Saving model as best\n",
            "save: ../save/bisenet_training_void_2/model-035.pth (epoch: 35)\n",
            "save: ../save/bisenet_training_void_2/model_best.pth (epoch: 35)\n",
            "----- TRAINING - EPOCH 36 -----\n",
            "LEARNING RATE:  0.0038473262917028636\n",
            "loss: 1.951 (epoch: 36, step: 0) // Avg time/img: 0.0640 s\n",
            "loss: 1.952 (epoch: 36, step: 50) // Avg time/img: 0.0437 s\n",
            "loss: 1.916 (epoch: 36, step: 100) // Avg time/img: 0.0435 s\n",
            "loss: 1.919 (epoch: 36, step: 150) // Avg time/img: 0.0435 s\n",
            "loss: 1.927 (epoch: 36, step: 200) // Avg time/img: 0.0434 s\n",
            "loss: 1.925 (epoch: 36, step: 250) // Avg time/img: 0.0433 s\n",
            "loss: 1.916 (epoch: 36, step: 300) // Avg time/img: 0.0433 s\n",
            "loss: 1.918 (epoch: 36, step: 350) // Avg time/img: 0.0433 s\n",
            "loss: 1.92 (epoch: 36, step: 400) // Avg time/img: 0.0433 s\n",
            "loss: 1.912 (epoch: 36, step: 450) // Avg time/img: 0.0433 s\n",
            "----- VALIDATING - EPOCH 36 -----\n",
            "VAL loss: 1.881 (epoch: 36, step: 0) // Avg time/img: 0.0284 s\n",
            "VAL loss: 2.303 (epoch: 36, step: 50) // Avg time/img: 0.0257 s\n",
            "EPOCH IoU on VAL set:  \u001b[0m61.23\u001b[0m %\n",
            "Saving model as best\n",
            "save: ../save/bisenet_training_void_2/model-036.pth (epoch: 36)\n",
            "save: ../save/bisenet_training_void_2/model_best.pth (epoch: 36)\n",
            "----- TRAINING - EPOCH 37 -----\n",
            "LEARNING RATE:  0.003147313529485418\n",
            "loss: 1.822 (epoch: 37, step: 0) // Avg time/img: 0.0534 s\n",
            "loss: 1.926 (epoch: 37, step: 50) // Avg time/img: 0.0437 s\n",
            "loss: 1.904 (epoch: 37, step: 100) // Avg time/img: 0.0436 s\n",
            "loss: 1.893 (epoch: 37, step: 150) // Avg time/img: 0.0436 s\n",
            "loss: 1.895 (epoch: 37, step: 200) // Avg time/img: 0.0436 s\n",
            "loss: 1.894 (epoch: 37, step: 250) // Avg time/img: 0.0435 s\n",
            "loss: 1.892 (epoch: 37, step: 300) // Avg time/img: 0.0434 s\n",
            "loss: 1.889 (epoch: 37, step: 350) // Avg time/img: 0.0434 s\n",
            "loss: 1.887 (epoch: 37, step: 400) // Avg time/img: 0.0434 s\n",
            "loss: 1.892 (epoch: 37, step: 450) // Avg time/img: 0.0434 s\n",
            "----- VALIDATING - EPOCH 37 -----\n",
            "VAL loss: 1.704 (epoch: 37, step: 0) // Avg time/img: 0.0272 s\n",
            "VAL loss: 2.154 (epoch: 37, step: 50) // Avg time/img: 0.0250 s\n",
            "EPOCH IoU on VAL set:  \u001b[0m61.06\u001b[0m %\n",
            "save: ../save/bisenet_training_void_2/model-037.pth (epoch: 37)\n",
            "----- TRAINING - EPOCH 38 -----\n",
            "LEARNING RATE:  0.0024293782877789177\n",
            "loss: 1.723 (epoch: 38, step: 0) // Avg time/img: 0.0536 s\n",
            "loss: 1.878 (epoch: 38, step: 50) // Avg time/img: 0.0436 s\n",
            "loss: 1.892 (epoch: 38, step: 100) // Avg time/img: 0.0436 s\n",
            "loss: 1.899 (epoch: 38, step: 150) // Avg time/img: 0.0435 s\n",
            "loss: 1.903 (epoch: 38, step: 200) // Avg time/img: 0.0435 s\n",
            "loss: 1.905 (epoch: 38, step: 250) // Avg time/img: 0.0435 s\n",
            "loss: 1.901 (epoch: 38, step: 300) // Avg time/img: 0.0434 s\n",
            "loss: 1.9 (epoch: 38, step: 350) // Avg time/img: 0.0434 s\n",
            "loss: 1.899 (epoch: 38, step: 400) // Avg time/img: 0.0434 s\n",
            "loss: 1.894 (epoch: 38, step: 450) // Avg time/img: 0.0434 s\n",
            "----- VALIDATING - EPOCH 38 -----\n",
            "VAL loss: 1.696 (epoch: 38, step: 0) // Avg time/img: 0.0262 s\n",
            "VAL loss: 2.135 (epoch: 38, step: 50) // Avg time/img: 0.0257 s\n",
            "EPOCH IoU on VAL set:  \u001b[0m60.85\u001b[0m %\n",
            "save: ../save/bisenet_training_void_2/model-038.pth (epoch: 38)\n",
            "----- TRAINING - EPOCH 39 -----\n",
            "LEARNING RATE:  0.0016866035595919555\n",
            "loss: 1.657 (epoch: 39, step: 0) // Avg time/img: 0.0520 s\n",
            "loss: 1.877 (epoch: 39, step: 50) // Avg time/img: 0.0436 s\n",
            "loss: 1.876 (epoch: 39, step: 100) // Avg time/img: 0.0436 s\n",
            "loss: 1.889 (epoch: 39, step: 150) // Avg time/img: 0.0437 s\n",
            "loss: 1.886 (epoch: 39, step: 200) // Avg time/img: 0.0436 s\n",
            "loss: 1.885 (epoch: 39, step: 250) // Avg time/img: 0.0435 s\n",
            "loss: 1.884 (epoch: 39, step: 300) // Avg time/img: 0.0435 s\n",
            "loss: 1.885 (epoch: 39, step: 350) // Avg time/img: 0.0434 s\n",
            "loss: 1.887 (epoch: 39, step: 400) // Avg time/img: 0.0434 s\n",
            "loss: 1.889 (epoch: 39, step: 450) // Avg time/img: 0.0434 s\n",
            "----- VALIDATING - EPOCH 39 -----\n",
            "VAL loss: 1.827 (epoch: 39, step: 0) // Avg time/img: 0.0353 s\n",
            "VAL loss: 2.205 (epoch: 39, step: 50) // Avg time/img: 0.0258 s\n",
            "EPOCH IoU on VAL set:  \u001b[0m61.62\u001b[0m %\n",
            "Saving model as best\n",
            "save: ../save/bisenet_training_void_2/model-039.pth (epoch: 39)\n",
            "save: ../save/bisenet_training_void_2/model_best.pth (epoch: 39)\n",
            "----- TRAINING - EPOCH 40 -----\n",
            "LEARNING RATE:  0.0009038284684949537\n",
            "loss: 2.231 (epoch: 40, step: 0) // Avg time/img: 0.0588 s\n",
            "loss: 1.891 (epoch: 40, step: 50) // Avg time/img: 0.0440 s\n",
            "loss: 1.894 (epoch: 40, step: 100) // Avg time/img: 0.0435 s\n",
            "loss: 1.886 (epoch: 40, step: 150) // Avg time/img: 0.0434 s\n",
            "loss: 1.881 (epoch: 40, step: 200) // Avg time/img: 0.0432 s\n",
            "loss: 1.879 (epoch: 40, step: 250) // Avg time/img: 0.0432 s\n",
            "loss: 1.881 (epoch: 40, step: 300) // Avg time/img: 0.0432 s\n",
            "loss: 1.878 (epoch: 40, step: 350) // Avg time/img: 0.0433 s\n",
            "loss: 1.88 (epoch: 40, step: 400) // Avg time/img: 0.0433 s\n",
            "loss: 1.883 (epoch: 40, step: 450) // Avg time/img: 0.0433 s\n",
            "----- VALIDATING - EPOCH 40 -----\n",
            "VAL loss: 1.81 (epoch: 40, step: 0) // Avg time/img: 0.0242 s\n",
            "VAL loss: 2.19 (epoch: 40, step: 50) // Avg time/img: 0.0252 s\n",
            "EPOCH IoU on VAL set:  \u001b[0m62.20\u001b[0m %\n",
            "Saving model as best\n",
            "save: ../save/bisenet_training_void_2/model-040.pth (epoch: 40)\n",
            "save: ../save/bisenet_training_void_2/model_best.pth (epoch: 40)\n",
            "========== TRAINING FINISHED ===========\n"
          ]
        }
      ]
    },
    {
      "cell_type": "code",
      "source": [
        "train_model(\"bisenet\", num_epochs=20, batch_size=6, fineTune=True)"
      ],
      "metadata": {
        "id": "mm8otlVa_ewP"
      },
      "execution_count": null,
      "outputs": []
    },
    {
      "cell_type": "markdown",
      "metadata": {
        "id": "UozW3CHhS7U9"
      },
      "source": [
        "# REVISE"
      ]
    },
    {
      "cell_type": "code",
      "source": [
        "# models = [\"erfnet\", \"bisenet\", \"enet\"]\n",
        "\n",
        "models = [\"bisenet\"]\n",
        "for model in models:\n",
        "  print(f\"{'#' * 25}\")\n",
        "  print(f\"MODEL: {model.upper()}\")\n",
        "  print(f\"{'#' * 25}\\n\")\n",
        "\n",
        "  for dataset, folder in datasets.items():\n",
        "    print(f\"Dataset {dataset:<15}\", end = \"\")\n",
        "\n",
        "    input_path = f\"../../validation_dataset/{folder}/images/*.*\"\n",
        "    plot_dir_path = f\"../plots/void/{folder}_{model}\"\n",
        "    load_dir = f\"../save/{model}_training_void/\"\n",
        "    load_weights = f\"model_best.pth\"\n",
        "    if torch.cuda.is_available():\n",
        "       !python evalAnomaly.py --input={input_path} --plotdir={plot_dir_path} --loadModel={model} --loadDir={load_dir} --loadWeights={load_weights} --method=\"void\"\n",
        "    else:\n",
        "       !python evalAnomaly.py --input={input_path} --plotdir={plot_dir_path} --loadModel={model} --loadDir={load_dir} --loadWeights={load_weights} --method=\"void\" --cpu\n",
        "\n",
        "  print(\"=\" * 55, end = \"\\n\")"
      ],
      "metadata": {
        "id": "56LpzlPjATsO"
      },
      "execution_count": null,
      "outputs": []
    },
    {
      "cell_type": "markdown",
      "metadata": {
        "id": "E8ATRy0qGNmA"
      },
      "source": [
        "**Evaluation**"
      ]
    },
    {
      "cell_type": "code",
      "execution_count": null,
      "metadata": {
        "id": "hmjgpr8lGQ78"
      },
      "outputs": [],
      "source": [
        "import torch\n",
        "\n",
        "no_execute = False\n",
        "just_once = False\n",
        "\n",
        "for model in models:\n",
        "  print(\"----------------------------\")\n",
        "  for dataset_dir in datasets_list:\n",
        "\n",
        "    if no_execute:\n",
        "      break\n",
        "\n",
        "    load_dir = f'content/Real-Time-Anomaly-Segmentation-for-Road-Scenes/save/{net}_training_void'\n",
        "    weights = f'/model_best.pth'\n",
        "    format_file = os.listdir(f'/content/validation_dataset/{dataset_dir}/images')[0].split(\".\")[1]\n",
        "    input =f'/content/validation_dataset/{dataset_dir}/images/\\*.{format_file}'\n",
        "    print(f\"\\nDataset: {dataset_dir} net: {net}\")\n",
        "\n",
        "    if torch.cuda.is_available():\n",
        "      !python  content/Real-Time-Anomaly-Segmentation-for-Road-Scenes/eval/evalAnomaly.py --input {input} --void --model {net} --loadDir {load_dir} --loadWeights {weights} | tail -n 2\n",
        "    else:\n",
        "      !python  content/Real-Time-Anomaly-Segmentation-for-Road-Scenes/eval/evalAnomaly.py --input {input} --void --model {net} --loadDir {load_dir} --loadWeights {weights} --cpu | tail -n 2\n",
        "\n",
        "    if just_once:\n",
        "      no_execute = True\n",
        "      just_once = False\n"
      ]
    },
    {
      "cell_type": "markdown",
      "metadata": {
        "id": "5TJKUFjWIbQh"
      },
      "source": [
        "**mIoU Void Classification**"
      ]
    },
    {
      "cell_type": "code",
      "execution_count": null,
      "metadata": {
        "id": "6tiSQNBxIl3r"
      },
      "outputs": [],
      "source": [
        "import torch\n",
        "no_execute = False\n",
        "just_once = False\n",
        "\n",
        "for model in models:\n",
        "  print(\"----------------------------\")\n",
        "\n",
        "  if no_execute:\n",
        "      break\n",
        "  print(f\"-----------{model}-------------\")\n",
        "  loadDir = f'content/Real-Time-Anomaly-Segmentation-for-Road-Scenes/save/{model}_training_void'\n",
        "  weights = f'/model_best.pth'\n",
        "  if torch.cuda.is_available():\n",
        "    !python  content/Real-Time-Anomaly-Segmentation-for-Road-Scenes/eval/eval_iou.py --loadDir {loadDir} --loadWeights {weights} --datadir /content/cityscapes/ --model {model} | tail -n 25\n",
        "  else:\n",
        "    !python  content/Real-Time-Anomaly-Segmentation-for-Road-Scenes/eval/eval_iou.py  --loadDir {loadDir} --loadWeights {weights} --datadir /content/cityscapes/  --model {model}  --cpu | tail -n 25\n",
        "\n",
        "\n",
        "  if just_once:\n",
        "    no_execute = True\n",
        "    just_once = False"
      ]
    },
    {
      "cell_type": "markdown",
      "metadata": {
        "id": "8n2SPIAyvU5g"
      },
      "source": [
        "### Step 4 - Analyze the Effect of Training Loss function"
      ]
    },
    {
      "cell_type": "markdown",
      "metadata": {
        "id": "dkwRPEbyVkKW"
      },
      "source": [
        "Analyze the effect of the training model along with losses that are specifically made for anomaly detection."
      ]
    },
    {
      "cell_type": "code",
      "source": [
        "base_dir = \"../train\"\n",
        "data_dir = \"../cityscapes\""
      ],
      "metadata": {
        "id": "gO1sJdu7sKZ1"
      },
      "execution_count": 19,
      "outputs": []
    },
    {
      "cell_type": "code",
      "source": [
        "def train_erfnet_with_loss(num_epochs: int, loss: str, logit_norm: bool = False, iso_max: bool = False) -> None:\n",
        "\n",
        "  model = \"erfnet_isomaxplus\" if iso_max else \"erfnet\"\n",
        "  logit_norm_flag = \"--logit_norm\" if logit_norm else \"\"\n",
        "  pretrained_weights = \"../trained_models/erfnet_pretrained.pth\"\n",
        "\n",
        "  !cd {base_dir} && python -W ignore main_v2.py \\\n",
        "  --savedir {model}_training_{loss} \\\n",
        "  --loss {loss} \\\n",
        "  --datadir {data_dir} \\\n",
        "  --model {model} \\\n",
        "  --cuda \\\n",
        "  --num-epochs={num_epochs} \\\n",
        "  --epochs-save=1 \\\n",
        "  --batch-size={batch_size} \\\n",
        "  {logit_norm_flag} \\\n",
        "  --decoder \\\n",
        "  --FineTune \\\n",
        "  --loadWeights {pretrained_weights}"
      ],
      "metadata": {
        "id": "czCY94okoLWr"
      },
      "execution_count": 22,
      "outputs": []
    },
    {
      "cell_type": "markdown",
      "source": [
        "### Focal Loss"
      ],
      "metadata": {
        "id": "O4y689zwu8Kk"
      }
    },
    {
      "cell_type": "code",
      "source": [
        "train_erfnet_with_loss(20, \"focal\")"
      ],
      "metadata": {
        "id": "usIMDNMxr748"
      },
      "execution_count": null,
      "outputs": []
    },
    {
      "cell_type": "code",
      "source": [
        "# train_erfnet_with_loss(20, \"focal\")\n",
        "# train_erfnet_with_loss(20, \"focal\", logit_norm = True)\n",
        "# train_erfnet_with_loss(20, \"ce\", logit_norm = True)\n",
        "# train_erfnet_with_loss(20, \"focal\", iso_max = True)\n",
        "# train_erfnet_with_loss(20, \"ce\", iso_max = True)\n",
        "# train_erfnet_with_loss(20, \"focal\", logit_norm = True, iso_max = True)\n",
        "# train_erfnet_with_loss(20, \"ce\", logit_norm = True, iso_max = True)"
      ],
      "metadata": {
        "id": "L07-0LnTqZYz"
      },
      "execution_count": null,
      "outputs": []
    },
    {
      "cell_type": "markdown",
      "metadata": {
        "id": "1zIp0mbgKafh"
      },
      "source": [
        "**Extension Evaluation**"
      ]
    },
    {
      "cell_type": "code",
      "execution_count": null,
      "metadata": {
        "id": "eopXW5mKKeR9"
      },
      "outputs": [],
      "source": [
        "import torch\n",
        "\n",
        "no_execute = False\n",
        "just_once = False\n",
        "\n",
        "losses = [\"CrossEntropy\", \"Focal\", \"LogitNorm+CrossEntropy\", \"IsoMaxPlus+CrossEntropy\", \"LogitNorm+FocalLoss\", \"IsoMaxPlus+FocalLoss\"]\n",
        "models = [\"erfnet\", \"erfnet\", \"erfnet\", \"erfnet_isomaxplus\", \"erfnet\", \"erfnet_isomaxplus\"]\n",
        "load_dirs = [\"/content/Real-Time-Anomaly-Segmentation-for-Road-Scenes/trained_models/\", \"/content/Real-Time-Anomaly-Segmentation-for-Road-Scenes/save/erfnet_training_focal_loss/\", \"/content/Real-Time-Anomaly-Segmentation-for-Road-Scenes/save/erfnet_training_logitnorm_cross_entropy_loss/\", \"/content/Real-Time-Anomaly-Segmentation-for-Road-Scenes/save/erfnet_training_isomaxplus_cross_entropy_loss/\", \"/content/Real-Time-Anomaly-Segmentation-for-Road-Scenes/save/erfnet_training_logitnorm_focal_loss/\", \"/content/Real-Time-Anomaly-Segmentation-for-Road-Scenes/save/erfnet_training_isomaxplus_focal_loss/\"]\n",
        "weights = [\"erfnet_pretrained.pth\", \"model_best.pth\", \"model_best.pth\", \"model_best.pth\", \"model_best.pth\", \"model_best.pth\"]\n",
        "\n",
        "for loss, model, load_dir, weight in zip(losses, models, load_dirs, weights):\n",
        "  print(f\"------ Evaluating loss: {loss} ------\\n\")\n",
        "  for dataset_dir in ['RoadAnomaly21', 'RoadObsticle21', 'FS_LostFound_full', 'fs_static', 'RoadAnomaly']:\n",
        "    for method in [\"MSP\", \"MaxLogit\", \"MaxEntropy\", \"Mahalanobis\"]:\n",
        "\n",
        "      if no_execute:\n",
        "        break\n",
        "\n",
        "      format_file = os.listdir(f'/content/Validation_Dataset/{dataset_dir}/images')[0].split(\".\")[1]\n",
        "      input =f'/content/Validation_Dataset/{dataset_dir}/images/\\*.{format_file}'\n",
        "\n",
        "      print(f\"\\nDataset: {dataset_dir} method: {method} loss: {loss}\")\n",
        "\n",
        "      if torch.cuda.is_available():\n",
        "        !python  /content/Real-Time-Anomaly-Segmentation-for-Road-Scenes/eval/evalAnomaly.py --input {input} --method  {method} --model {model} --loadDir {load_dir} --loadWeights {weight} | tail -n 2\n",
        "      else:\n",
        "        !python  /content/Real-Time-Anomaly-Segmentation-for-Road-Scenes/eval/evalAnomaly.py --input {input} --method {method}  --model {model} --loadDir {load_dir} --loadWeights {weight} --cpu | tail -n 2\n",
        "\n",
        "      print(\"----------------------------\")\n",
        "      if just_once:\n",
        "        no_execute = True\n",
        "        just_once = False\n",
        "    print(\"----------------------------\\n\\n\")"
      ]
    },
    {
      "cell_type": "markdown",
      "metadata": {
        "id": "O1JdbXZnKfyH"
      },
      "source": [
        "##Plot"
      ]
    },
    {
      "cell_type": "code",
      "execution_count": null,
      "metadata": {
        "id": "kh4XfFbnKkuk"
      },
      "outputs": [],
      "source": [
        "import torch\n",
        "\n",
        "# Example image to color\n",
        "# Nice images: RoadAnomaly/images/28, RoadAnomaly/images/58\n",
        "input = '/content/Validation_Dataset/RoadAnomaly/images/58.jpg'\n",
        "\n",
        "### Baseline models ###\n",
        "for method in [\"MSP\", \"MaxLogit\", \"MaxEntropy\", \"Mahalanobis\"]:\n",
        "  print(f\"Method: {method}\")\n",
        "  save_image_path = f'/content/Real-Time-Anomaly-Segmentation-for-Road-Scenes/visualization/baseline/{method}'\n",
        "\n",
        "  if torch.cuda.is_available():\n",
        "    !python  /content/Real-Time-Anomaly-Segmentation-for-Road-Scenes/eval/evalAnomaly.py --input {input} --method  {method} --save-colored {save_image_path}  | tail -n 2\n",
        "  else:\n",
        "    !python  /content/Real-Time-Anomaly-Segmentation-for-Road-Scenes/eval/evalAnomaly.py --input {input} --method {method} --save-colored {save_image_path} --cpu | tail -n 2\n",
        "\n",
        "!python /content/Real-Time-Anomaly-Segmentation-for-Road-Scenes/eval/visualization.py --name_dir=\"/ccontent/Real-Time-Anomaly-Segmentation-for-Road-Scenes/visualization/baseline\" --name_output=\"/content/Real-Time-Anomaly-Segmentation-for-Road-Scenes/visualization/baseline_visualization.png\"\n",
        "\n",
        "### Temperature scaling ###\n",
        "for t in [0.5, 0.75, 1.1]:\n",
        "  print(f\"Method: MSP, Temperature: {t}\")\n",
        "  save_image_path = f'/content/Real-Time-Anomaly-Segmentation-for-Road-Scenes/visualization/temperature/t={t}'\n",
        "\n",
        "  if torch.cuda.is_available():\n",
        "    !python  /content/Real-Time-Anomaly-Segmentation-for-Road-Scenes/eval/evalAnomaly.py --input {input} --method 'MSP' --temperature {t} --save-colored {save_image_path} | tail -n 2\n",
        "  else:\n",
        "    !python  /content/Real-Time-Anomaly-Segmentation-for-Road-Scenes/eval/evalAnomaly.py --input {input} --method 'MSP' --cpu --temperature {t} --save-colored {save_image_path} | tail -n 2\n",
        "\n",
        "!python /content/Real-Time-Anomaly-Segmentation-for-Road-Scenes/eval/visualization.py --name_dir=\"/content/Real-Time-Anomaly-Segmentation-for-Road-Scenes/visualization/temperature\" --name_output=\"/content/Real-Time-Anomaly-Segmentation-for-Road-Scenes/visualization/temperature_visualization.png\"\n",
        "\n",
        "### Finetuned models with void ###\n",
        "for net in [\"erfnet\", \"enet\", \"bisenet\"]:\n",
        "  save_image_path = f'/content/Real-Time-Anomaly-Segmentation-for-Road-Scenes/visualization/void/{net}'\n",
        "  load_dir = f'/content/Real-Time-Anomaly-Segmentation-for-Road-Scenes/save/{net}_training_void'\n",
        "  weights = f'/model_best.pth'\n",
        "  print(f\"Finetuned network: {net}\")\n",
        "  if torch.cuda.is_available():\n",
        "    !python  /content/Real-Time-Anomaly-Segmentation-for-Road-Scenes/eval/evalAnomaly.py --input {input} --void --model {net} --loadDir {load_dir} --loadWeights {weights} --save-colored {save_image_path} | tail -n 2\n",
        "  else:\n",
        "    !python  /content/Real-Time-Anomaly-Segmentation-for-Road-Scenes/eval/evalAnomaly.py --input {input} --void --model {net} --loadDir {load_dir} --loadWeights {weights} --cpu --save-colored {save_image_path} | tail -n 2\n",
        "\n",
        "!python /content/Real-Time-Anomaly-Segmentation-for-Road-Scenes/eval/visualization.py --name_dir=\"/content/Real-Time-Anomaly-Segmentation-for-Road-Scenes/visualization/void\" --name_output=\"/content/Real-Time-Anomaly-Segmentation-for-Road-Scenes/visualization/void_visualization.png\"\n",
        "\n",
        "### Losses ###\n",
        "losses = [\"CrossEntropy\", \"Focal\", \"LogitNorm\", \"IsoMaxPlus\"]\n",
        "models = [\"erfnet\", \"erfnet\", \"erfnet\", \"erfnet_isomaxplus\"]\n",
        "load_dirs = [\"/content/Real-Time-Anomaly-Segmentation-for-Road-Scenes/trained_models/\", \"/content/Real-Time-Anomaly-Segmentation-for-Road-Scenes/save/erfnet_training_focal_loss/\", \"/content/Real-Time-Anomaly-Segmentation-for-Road-Scenes/save/erfnet_training_logitnorm_loss/\", \"/content/Real-Time-Anomaly-Segmentation-for-Road-Scenes/save/erfnet_training_isomaxplus_loss/\"]\n",
        "weights = [\"erfnet_pretrained.pth\", \"model_best.pth\", \"model_best.pth\", \"model_best.pth\"]\n",
        "for loss, model, load_dir, weight in zip(losses, models, load_dirs, weights):\n",
        "  for method in [\"MSP\", \"MaxLogit\", \"MaxEntropy\", \"Mahalanobis\"]:\n",
        "    save_image_path = f'/content/Real-Time-Anomaly-Segmentation-for-Road-Scenes/visualization/losses/{loss}/{method}'\n",
        "    print(f\"Method: {method}, loss: {loss}\")\n",
        "    if torch.cuda.is_available():\n",
        "      !python  /content/Real-Time-Anomaly-Segmentation-for-Road-Scenes/eval/evalAnomaly.py --input {input} --method  {method} --model {model} --loadDir {load_dir} --loadWeights {weight} --save-colored {save_image_path} | tail -n 2\n",
        "    else:\n",
        "      !python  /content/Real-Time-Anomaly-Segmentation-for-Road-Scenes/eval/evalAnomaly.py --input {input} --method {method}  --model {model} --loadDir {load_dir} --loadWeights {weight} --save-colored {save_image_path} --cpu | tail -n 2\n",
        "\n",
        "!python /content/Real-Time-Anomaly-Segmentation-for-Road-Scenes/eval/visualization.py --name_dir=\"/content/Real-Time-Anomaly-Segmentation-for-Road-Scenes/visualization/losses/CrossEntropy\" --name_output=\"/content/Real-Time-Anomaly-Segmentation-for-Road-Scenes/visualization/losses_CrossEntropy_visualization.png\"\n",
        "!python /content/Real-Time-Anomaly-Segmentation-for-Road-Scenes/eval/visualization.py --name_dir=\"/content/Real-Time-Anomaly-Segmentation-for-Road-Scenes/visualization/losses/Focal\" --name_output=\"/content/Real-Time-Anomaly-Segmentation-for-Road-Scenes/visualization/losses_Focal_visualization.png\"\n",
        "!python /content/Real-Time-Anomaly-Segmentation-for-Road-Scenes/eval/visualization.py --name_dir=\"/content/Real-Time-Anomaly-Segmentation-for-Road-Scenes/visualization/losses/LogitNorm\" --name_output=\"/content/Real-Time-Anomaly-Segmentation-for-Road-Scenes/visualization/losses_LogitNorm_visualization.png\"\n",
        "!python /ccontent/Real-Time-Anomaly-Segmentation-for-Road-Scenes/eval/visualization.py --name_dir=\"/content/Real-Time-Anomaly-Segmentation-for-Road-Scenes/visualization/losses/IsoMaxPlus\" --name_output=\"/content/Real-Time-Anomaly-Segmentation-for-Road-Scenes/visualization/losses_IsoMaxPlus_visualization.png\"\n",
        "\n",
        "# Zip the images\n",
        "!zip -r colored_anomalies.zip /content/Real-Time-Anomaly-Segmentation-for-Road-Scenes/visualization"
      ]
    },
    {
      "cell_type": "markdown",
      "source": [
        "# Ensemble"
      ],
      "metadata": {
        "id": "qc1jT1Sm2dBf"
      }
    },
    {
      "cell_type": "code",
      "source": [
        "!cd {base_dir} && python -W ignore main_v2.py --datadir {data_dir} --savedir dummy --ensemble"
      ],
      "metadata": {
        "id": "ngOX42Uk2fVA",
        "outputId": "aa2d6b8d-083d-4c32-a57c-357b4397c441",
        "colab": {
          "base_uri": "https://localhost:8080/"
        }
      },
      "execution_count": 59,
      "outputs": [
        {
          "output_type": "stream",
          "name": "stdout",
          "text": [
            "========== ENSEMBLE INFERENCE ===========\n",
            "Loading ensemble models...\n",
            "../cityscapes/leftImg8bit/val\n",
            "Running ensemble inference...\n",
            "\n",
            "==> Ensemble mIoU: 0.6988\n",
            "Per-class IoU:\n",
            "Class 0: 0.9709\n",
            "Class 1: 0.7991\n",
            "Class 2: 0.8994\n",
            "Class 3: 0.4724\n",
            "Class 4: 0.4908\n",
            "Class 5: 0.5313\n",
            "Class 6: 0.5298\n",
            "Class 7: 0.6834\n",
            "Class 8: 0.9085\n",
            "Class 9: 0.6181\n",
            "Class 10: 0.9338\n",
            "Class 11: 0.7303\n",
            "Class 12: 0.4925\n",
            "Class 13: 0.9202\n",
            "Class 14: 0.7179\n",
            "Class 15: 0.7981\n",
            "Class 16: 0.6741\n",
            "Class 17: 0.4148\n",
            "Class 18: 0.6910\n"
          ]
        }
      ]
    }
  ],
  "metadata": {
    "accelerator": "GPU",
    "colab": {
      "gpuType": "T4",
      "provenance": [],
      "include_colab_link": true
    },
    "kernelspec": {
      "display_name": "Python 3",
      "name": "python3"
    },
    "language_info": {
      "codemirror_mode": {
        "name": "ipython",
        "version": 3
      },
      "file_extension": ".py",
      "mimetype": "text/x-python",
      "name": "python",
      "nbconvert_exporter": "python",
      "pygments_lexer": "ipython3",
      "version": "3.12.7"
    }
  },
  "nbformat": 4,
  "nbformat_minor": 0
}