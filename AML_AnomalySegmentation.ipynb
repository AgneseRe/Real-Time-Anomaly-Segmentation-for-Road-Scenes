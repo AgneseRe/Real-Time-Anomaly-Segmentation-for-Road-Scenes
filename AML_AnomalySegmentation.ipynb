{
  "nbformat": 4,
  "nbformat_minor": 0,
  "metadata": {
    "colab": {
      "provenance": [],
      "gpuType": "T4",
      "include_colab_link": true
    },
    "kernelspec": {
      "name": "python3",
      "display_name": "Python 3"
    },
    "language_info": {
      "name": "python"
    },
    "accelerator": "GPU"
  },
  "cells": [
    {
      "cell_type": "markdown",
      "metadata": {
        "id": "view-in-github",
        "colab_type": "text"
      },
      "source": [
        "<a href=\"https://colab.research.google.com/github/AgneseRe/Real-Time-Anomaly-Segmentation-for-Road-Scenes/blob/main/AML_AnomalySegmentation.ipynb\" target=\"_parent\"><img src=\"https://colab.research.google.com/assets/colab-badge.svg\" alt=\"Open In Colab\"/></a>"
      ]
    },
    {
      "cell_type": "markdown",
      "source": [
        "## Preparation"
      ],
      "metadata": {
        "id": "XxuFk3f4uqwU"
      }
    },
    {
      "cell_type": "code",
      "execution_count": null,
      "metadata": {
        "id": "iKs5NUFH8FWA"
      },
      "outputs": [],
      "source": [
        "# clone the github repo and move all files to the current working directory\n",
        "!git clone https://github.com/AgneseRe/Real-Time-Anomaly-Segmentation-for-Road-Scenes.git\n",
        "!mv Real-Time-Anomaly-Segmentation-for-Road-Scenes/* .\n",
        "!rm -r Real-Time-Anomaly-Segmentation-for-Road-Scenes/"
      ]
    },
    {
      "cell_type": "code",
      "source": [
        "import os"
      ],
      "metadata": {
        "id": "YyOLde7jSc25"
      },
      "execution_count": 16,
      "outputs": []
    },
    {
      "cell_type": "code",
      "source": [
        "# download required packages\n",
        "!pip3 install --quiet cityscapesscripts\n",
        "!pip3 install --quiet gdown\n",
        "!pip3 install --quiet numpy\n",
        "!pip3 install --quiet matplotlib\n",
        "!pip3 install --quiet Pillow\n",
        "!pip3 install --quiet torchvision\n",
        "!pip3 install --quiet visdom\n",
        "!pip3 install --quiet ood_metrics"
      ],
      "metadata": {
        "id": "TODE_lyvVXCq"
      },
      "execution_count": 17,
      "outputs": []
    },
    {
      "cell_type": "code",
      "source": [
        "# download and unzip validation dataset\n",
        "!gdown 'https://drive.google.com/uc?id=12YJq48XkCxQHjN3CmLc-zM5dThSak4Ta'\n",
        "!file 'Validation_Dataset.zip'\n",
        "!ls -lh Validation_Dataset.zip\n",
        "!unzip -q 'Validation_Dataset.zip'\n",
        "!mkdir validation_dataset && cp -pR Validation_Dataset/* validation_dataset/ && rm -R Validation_Dataset/\n",
        "!unzip -l 'Validation_Dataset.zip'"
      ],
      "metadata": {
        "id": "Y_Bl3WGlWfon"
      },
      "execution_count": null,
      "outputs": []
    },
    {
      "cell_type": "code",
      "source": [
        "# download datasets for training and testing\n",
        "!csDownload leftImg8bit_trainvaltest.zip\n",
        "!csDownload gtFine_trainvaltest.zip\n",
        "\n",
        "# unzip the datasets\n",
        "!unzip -q 'leftImg8bit_trainvaltest.zip' -d 'cityscapes'\n",
        "!unzip -o -q 'gtFine_trainvaltest.zip' -d 'cityscapes'\n",
        "\n",
        "# generate trainIds from labelIds\n",
        "!CITYSCAPES_DATASET='cityscapes/' csCreateTrainIdLabelImgs"
      ],
      "metadata": {
        "id": "YbJb_dYD8N-j"
      },
      "execution_count": null,
      "outputs": []
    },
    {
      "cell_type": "markdown",
      "source": [
        "## Evaluation"
      ],
      "metadata": {
        "id": "_czbWkaraAdh"
      }
    },
    {
      "cell_type": "markdown",
      "source": [
        "### Step 2A - Compute AuPRC & FPR95TPR"
      ],
      "metadata": {
        "id": "smRtjvZQu0R4"
      }
    },
    {
      "cell_type": "code",
      "source": [
        "%cd eval"
      ],
      "metadata": {
        "id": "W9ewyGcSZ__2",
        "outputId": "db772670-052d-4f1d-aad1-4f980170a4ee",
        "colab": {
          "base_uri": "https://localhost:8080/"
        }
      },
      "execution_count": 19,
      "outputs": [
        {
          "output_type": "stream",
          "name": "stdout",
          "text": [
            "/content/eval\n"
          ]
        }
      ]
    },
    {
      "cell_type": "code",
      "source": [
        "methods_list = [\"msp\", \"maxlogit\", \"maxentropy\"]\n",
        "datasets_list = os.listdir(\"../validation_dataset\")\n",
        "for d in datasets_list:\n",
        "  print(f\"{d}\")\n",
        "  for m in methods_list:\n",
        "    print(f\"\\t- {m}\")\n",
        "    input_path = f\"../validation_dataset/{d}/images/*.*\"\n",
        "    !python evalAnomaly.py --input={input_path} --method={m}"
      ],
      "metadata": {
        "id": "5CoH7P5ukYN8",
        "outputId": "0e29ddda-241a-4c65-f9a7-728091f144a2",
        "colab": {
          "base_uri": "https://localhost:8080/"
        }
      },
      "execution_count": null,
      "outputs": [
        {
          "output_type": "stream",
          "name": "stdout",
          "text": [
            "RoadAnomaly21\n",
            "\t- msp\n",
            "\t\tAUPRC score: 29.100\n",
            "\t\tFPR@TPR95: 62.511\n",
            "\t- maxlogit\n",
            "\t\tAUPRC score: 38.320\n",
            "\t\tFPR@TPR95: 59.337\n",
            "\t- maxentropy\n",
            "\t\tAUPRC score: 31.005\n",
            "\t\tFPR@TPR95: 62.593\n",
            "FS_LostFound_full\n",
            "\t- msp\n",
            "\t\tAUPRC score: 1.748\n",
            "\t\tFPR@TPR95: 50.763\n",
            "\t- maxlogit\n",
            "\t\tAUPRC score: 3.301\n",
            "\t\tFPR@TPR95: 45.495\n",
            "\t- maxentropy\n",
            "\t\tAUPRC score: 2.582\n",
            "\t\tFPR@TPR95: 50.368\n",
            "fs_static\n",
            "\t- msp\n",
            "\t\tAUPRC score: 7.470\n",
            "\t\tFPR@TPR95: 41.823\n",
            "\t- maxlogit\n",
            "\t\tAUPRC score: 9.499\n",
            "\t\tFPR@TPR95: 40.300\n",
            "\t- maxentropy\n",
            "\t\tAUPRC score: 8.826\n",
            "\t\tFPR@TPR95: 41.523\n",
            "RoadObsticle21\n",
            "\t- msp\n",
            "\t\tAUPRC score: 2.712\n",
            "\t\tFPR@TPR95: 64.974\n",
            "\t- maxlogit\n",
            "\t\tAUPRC score: 4.627\n",
            "\t\tFPR@TPR95: 48.443\n",
            "\t- maxentropy\n",
            "\t\tAUPRC score: 3.052\n",
            "\t\tFPR@TPR95: 65.600\n",
            "RoadAnomaly\n",
            "\t- msp\n",
            "\t\tAUPRC score: 12.426\n",
            "\t\tFPR@TPR95: 82.492\n",
            "\t- maxlogit\n",
            "\t\tAUPRC score: 15.582\n",
            "\t\tFPR@TPR95: 73.248\n",
            "\t- maxentropy\n",
            "\t\tAUPRC score: 12.678\n",
            "\t\tFPR@TPR95: 82.632\n"
          ]
        }
      ]
    },
    {
      "cell_type": "markdown",
      "source": [
        "### Step 2B - Compute AuPRC & FPR95TPR with temperature scaling"
      ],
      "metadata": {
        "id": "JJodGToyvAwX"
      }
    },
    {
      "cell_type": "code",
      "source": [
        "temperature_list = [0.5, 0.75, 1.0, 1.1, 1.2, 1.5, 2.0, 3.0, 5.0, 10.0, 50.0]\n",
        "datasets_list = os.listdir(\"../validation_dataset\")\n",
        "for d in datasets_list:\n",
        "  print(f\"{d}\")\n",
        "  for t in temperature_list:\n",
        "    print(f\"\\t- {t}\")\n",
        "    input_path = f\"../validation_dataset/{d}/images/*.*\"\n",
        "    !python evalAnomaly.py --input={input_path} --method=\"msp\" --temperature={t}"
      ],
      "metadata": {
        "id": "t5oNs1EqDL6B",
        "outputId": "ea571002-28f7-4c01-9807-551deecd12a4",
        "colab": {
          "base_uri": "https://localhost:8080/"
        }
      },
      "execution_count": 20,
      "outputs": [
        {
          "output_type": "stream",
          "name": "stdout",
          "text": [
            "RoadAnomaly21\n",
            "\t- 0.5\n",
            "\t\tAUPRC score: 27.061\n",
            "\t\tFPR@TPR95: 62.731\n",
            "\t- 0.75\n",
            "\t\tAUPRC score: 28.156\n",
            "\t\tFPR@TPR95: 62.479\n",
            "\t- 1.0\n",
            "\t\tAUPRC score: 29.100\n",
            "\t\tFPR@TPR95: 62.511\n",
            "\t- 1.1\n",
            "\t\tAUPRC score: 29.410\n",
            "\t\tFPR@TPR95: 62.590\n",
            "\t- 1.2\n",
            "\t\tAUPRC score: 29.678\n",
            "\t\tFPR@TPR95: 62.724\n",
            "\t- 1.5\n",
            "\t\tAUPRC score: 30.258\n",
            "\t\tFPR@TPR95: 63.318\n",
            "\t- 2.0\n",
            "\t\tAUPRC score: 30.679\n",
            "\t\tFPR@TPR95: 64.721\n",
            "\t- 3.0\n",
            "\t\tAUPRC score: 30.674\n",
            "\t\tFPR@TPR95: 67.682\n",
            "\t- 5.0\n",
            "\t\tAUPRC score: 30.196\n",
            "\t\tFPR@TPR95: 71.594\n",
            "\t- 10.0\n",
            "\t\tAUPRC score: 29.526\n",
            "\t\tFPR@TPR95: 75.757\n",
            "\t- 50.0\n",
            "\t\tAUPRC score: 28.804\n",
            "\t\tFPR@TPR95: 80.014\n",
            "FS_LostFound_full\n",
            "\t- 0.5\n",
            "\t\tAUPRC score: 1.280\n",
            "\t\tFPR@TPR95: 66.737\n",
            "\t- 0.75\n",
            "\t\tAUPRC score: 1.493\n",
            "\t\tFPR@TPR95: 51.848\n",
            "\t- 1.0\n",
            "\t\tAUPRC score: 1.748\n",
            "\t\tFPR@TPR95: 50.763\n",
            "\t- 1.1\n",
            "\t\tAUPRC score: 1.860\n",
            "\t\tFPR@TPR95: 50.387\n",
            "\t- 1.2\n",
            "\t\tAUPRC score: 1.972\n",
            "\t\tFPR@TPR95: 50.150\n",
            "\t- 1.5\n",
            "\t\tAUPRC score: 2.286\n",
            "\t\tFPR@TPR95: 49.456\n",
            "\t- 2.0\n",
            "\t\tAUPRC score: 2.677\n",
            "\t\tFPR@TPR95: 48.324\n",
            "\t- 3.0\n",
            "\t\tAUPRC score: 3.048\n",
            "\t\tFPR@TPR95: 46.893\n",
            "\t- 5.0\n",
            "\t\tAUPRC score: 3.252\n",
            "\t\tFPR@TPR95: 45.396\n",
            "\t- 10.0\n",
            "\t\tAUPRC score: 3.344\n",
            "\t\tFPR@TPR95: 44.121\n",
            "\t- 50.0\n",
            "\t\tAUPRC score: 3.388\n",
            "\t\tFPR@TPR95: 43.361\n",
            "fs_static\n",
            "\t- 0.5\n",
            "\t\tAUPRC score: 6.601\n",
            "\t\tFPR@TPR95: 43.476\n",
            "\t- 0.75\n",
            "\t\tAUPRC score: 6.991\n",
            "\t\tFPR@TPR95: 42.493\n",
            "\t- 1.0\n",
            "\t\tAUPRC score: 7.470\n",
            "\t\tFPR@TPR95: 41.823\n",
            "\t- 1.1\n",
            "\t\tAUPRC score: 7.687\n",
            "\t\tFPR@TPR95: 41.587\n",
            "\t- 1.2\n",
            "\t\tAUPRC score: 7.910\n",
            "\t\tFPR@TPR95: 41.406\n",
            "\t- 1.5\n",
            "\t\tAUPRC score: 8.580\n",
            "\t\tFPR@TPR95: 41.096\n",
            "\t- 2.0\n",
            "\t\tAUPRC score: 9.508\n",
            "\t\tFPR@TPR95: 41.018\n",
            "\t- 3.0\n",
            "\t\tAUPRC score: 10.529\n",
            "\t\tFPR@TPR95: 42.180\n",
            "\t- 5.0\n",
            "\t\tAUPRC score: 11.175\n",
            "\t\tFPR@TPR95: 45.514\n",
            "\t- 10.0\n",
            "\t\tAUPRC score: 11.462\n",
            "\t\tFPR@TPR95: 51.164\n",
            "\t- 50.0\n",
            "\t\tAUPRC score: 11.546\n",
            "\t\tFPR@TPR95: 58.587\n",
            "RoadObsticle21\n",
            "\t- 0.5\n",
            "\t\tAUPRC score: 2.420\n",
            "\t\tFPR@TPR95: 63.225\n",
            "\t- 0.75\n",
            "\t\tAUPRC score: 2.567\n",
            "\t\tFPR@TPR95: 64.053\n",
            "\t- 1.0\n",
            "\t\tAUPRC score: 2.712\n",
            "\t\tFPR@TPR95: 64.974\n",
            "\t- 1.1\n",
            "\t\tAUPRC score: 2.766\n",
            "\t\tFPR@TPR95: 65.524\n",
            "\t- 1.2\n",
            "\t\tAUPRC score: 2.816\n",
            "\t\tFPR@TPR95: 66.033\n",
            "\t- 1.5\n",
            "\t\tAUPRC score: 2.937\n",
            "\t\tFPR@TPR95: 67.928\n",
            "\t- 2.0\n",
            "\t\tAUPRC score: 3.026\n",
            "\t\tFPR@TPR95: 71.459\n",
            "\t- 3.0\n",
            "\t\tAUPRC score: 2.998\n",
            "\t\tFPR@TPR95: 76.800\n",
            "\t- 5.0\n",
            "\t\tAUPRC score: 2.841\n",
            "\t\tFPR@TPR95: 83.111\n",
            "\t- 10.0\n",
            "\t\tAUPRC score: 2.644\n",
            "\t\tFPR@TPR95: 88.146\n",
            "\t- 50.0\n",
            "\t\tAUPRC score: 2.448\n",
            "\t\tFPR@TPR95: 92.080\n",
            "RoadAnomaly\n",
            "\t- 0.5\n",
            "\t\tAUPRC score: 12.188\n",
            "\t\tFPR@TPR95: 82.022\n",
            "\t- 0.75\n",
            "\t\tAUPRC score: 12.319\n",
            "\t\tFPR@TPR95: 82.285\n",
            "\t- 1.0\n",
            "\t\tAUPRC score: 12.426\n",
            "\t\tFPR@TPR95: 82.492\n",
            "\t- 1.1\n",
            "\t\tAUPRC score: 12.466\n",
            "\t\tFPR@TPR95: 82.621\n",
            "\t- 1.2\n",
            "\t\tAUPRC score: 12.502\n",
            "\t\tFPR@TPR95: 82.757\n",
            "\t- 1.5\n",
            "\t\tAUPRC score: 12.591\n",
            "\t\tFPR@TPR95: 83.244\n",
            "\t- 2.0\n",
            "\t\tAUPRC score: 12.676\n",
            "\t\tFPR@TPR95: 84.150\n",
            "\t- 3.0\n",
            "\t\tAUPRC score: 12.715\n",
            "\t\tFPR@TPR95: 85.776\n",
            "\t- 5.0\n",
            "\t\tAUPRC score: 12.672\n",
            "\t\tFPR@TPR95: 87.713\n",
            "\t- 10.0\n",
            "\t\tAUPRC score: 12.575\n",
            "\t\tFPR@TPR95: 89.477\n",
            "\t- 50.0\n",
            "\t\tAUPRC score: 12.451\n",
            "\t\tFPR@TPR95: 91.006\n"
          ]
        }
      ]
    },
    {
      "cell_type": "markdown",
      "source": [
        "### Step 3 - Train models with void classifier"
      ],
      "metadata": {
        "id": "6ylMHF05vI-a"
      }
    },
    {
      "cell_type": "markdown",
      "source": [
        "### Step 4 - Project Extension"
      ],
      "metadata": {
        "id": "8n2SPIAyvU5g"
      }
    }
  ]
}