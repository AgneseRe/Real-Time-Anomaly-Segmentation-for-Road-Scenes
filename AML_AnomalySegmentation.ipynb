{
  "nbformat": 4,
  "nbformat_minor": 0,
  "metadata": {
    "colab": {
      "provenance": [],
      "authorship_tag": "ABX9TyNrfuWCKOa4e9ZiFrH+sNu3",
      "include_colab_link": true
    },
    "kernelspec": {
      "name": "python3",
      "display_name": "Python 3"
    },
    "language_info": {
      "name": "python"
    }
  },
  "cells": [
    {
      "cell_type": "markdown",
      "metadata": {
        "id": "view-in-github",
        "colab_type": "text"
      },
      "source": [
        "<a href=\"https://colab.research.google.com/github/AgneseRe/Real-Time-Anomaly-Segmentation-for-Road-Scenes/blob/main/AML_AnomalySegmentation.ipynb\" target=\"_parent\"><img src=\"https://colab.research.google.com/assets/colab-badge.svg\" alt=\"Open In Colab\"/></a>"
      ]
    },
    {
      "cell_type": "code",
      "execution_count": null,
      "metadata": {
        "id": "iKs5NUFH8FWA"
      },
      "outputs": [],
      "source": [
        "# clone the github repo and move all files to the current working directory\n",
        "!git clone https://github.com/AgneseRe/Real-Time-Anomaly-Segmentation-for-Road-Scenes.git\n",
        "!mv Real-Time-Anomaly-Segmentation-for-Road-Scenes/* .\n",
        "!rm -r Real-Time-Anomaly-Segmentation-for-Road-Scenes/"
      ]
    },
    {
      "cell_type": "code",
      "source": [
        "# download required packages\n",
        "!pip3 install cityscapesscripts\n",
        "!pip3 install numpy\n",
        "!pip3 install matplotlib\n",
        "!pip3 install Pillow\n",
        "!pip3 install torchvision\n",
        "!pip3 install visdom\n",
        "!pip3 install ood_metrics\n",
        "\n",
        "# download datasets for training and testing\n",
        "!wget -O 'Validation_Dataset.zip' 'https://drive.google.com/drive/folders/1eQhmPbKSZrN1AsieY9KFchfll7XC1_SF'\n",
        "!csDownload leftImg8bit_trainvaltest.zip\n",
        "!csDownload gtFine_trainvaltest.zip\n",
        "\n",
        "# unzip the datasets\n",
        "!unzip -q 'Validation_Dataset.zip'\n",
        "!mkdir validation_dataset && cp -pR Validation_Dataset/* validation_dataset/ && rm -R Validation_Dataset/\n",
        "!unzip -q 'leftImg8bit_trainvaltest.zip' -d 'cityscapes'\n",
        "!unzip -o -q 'gtFine_trainvaltest.zip' -d 'cityscapes'\n",
        "\n",
        "# generate trainIds from labelIds\n",
        "!CITYSCAPES_DATASET='cityscapes/' csCreateTrainIdLabelImgs"
      ],
      "metadata": {
        "id": "YbJb_dYD8N-j"
      },
      "execution_count": null,
      "outputs": []
    }
  ]
}