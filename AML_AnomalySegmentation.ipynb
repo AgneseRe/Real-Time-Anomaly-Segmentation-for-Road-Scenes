{
  "nbformat": 4,
  "nbformat_minor": 0,
  "metadata": {
    "colab": {
      "provenance": [],
      "gpuType": "T4",
      "include_colab_link": true
    },
    "kernelspec": {
      "name": "python3",
      "display_name": "Python 3"
    },
    "language_info": {
      "name": "python"
    },
    "accelerator": "GPU"
  },
  "cells": [
    {
      "cell_type": "markdown",
      "metadata": {
        "id": "view-in-github",
        "colab_type": "text"
      },
      "source": [
        "<a href=\"https://colab.research.google.com/github/AgneseRe/Real-Time-Anomaly-Segmentation-for-Road-Scenes/blob/main/AML_AnomalySegmentation.ipynb\" target=\"_parent\"><img src=\"https://colab.research.google.com/assets/colab-badge.svg\" alt=\"Open In Colab\"/></a>"
      ]
    },
    {
      "cell_type": "markdown",
      "source": [
        "# **Real-time Anomaly Segmentation for Road Scenes**"
      ],
      "metadata": {
        "id": "xjyXaByVOtbd"
      }
    },
    {
      "cell_type": "code",
      "source": [
        "!rm -r sample_data/"
      ],
      "metadata": {
        "id": "SOBJKZAfEwAZ"
      },
      "execution_count": 1,
      "outputs": []
    },
    {
      "cell_type": "markdown",
      "source": [
        "Existing deep neural networks, when deployed in open-world settings, perform poorly on unknown, anomaly, out-of-distribution (OoD) objects that were not present during the training. The goal of this project is to build tiny anomaly segmentation models to segment anomaly patterns. Models must be able to fit in small devices, which represents a realistic memory constraint for an edge application."
      ],
      "metadata": {
        "id": "XpweY-zTOyvF"
      }
    },
    {
      "cell_type": "markdown",
      "source": [
        "## Preparation"
      ],
      "metadata": {
        "id": "XxuFk3f4uqwU"
      }
    },
    {
      "cell_type": "code",
      "source": [
        "# download required packages and import useful modules\n",
        "!pip3 install --quiet cityscapesscripts\n",
        "!pip3 install --quiet gdown\n",
        "!pip3 install --quiet numpy\n",
        "!pip3 install --quiet matplotlib\n",
        "!pip3 install --quiet Pillow\n",
        "!pip3 install --quiet torchvision\n",
        "!pip3 install --quiet visdom\n",
        "!pip3 install --quiet ood_metrics\n",
        "\n",
        "import os, sys, subprocess"
      ],
      "metadata": {
        "id": "Wed7tVmrP222",
        "outputId": "cad74ca7-0d56-42e7-eb03-266ea742070d",
        "colab": {
          "base_uri": "https://localhost:8080/"
        }
      },
      "execution_count": 2,
      "outputs": [
        {
          "output_type": "stream",
          "name": "stdout",
          "text": [
            "\u001b[?25l     \u001b[90m━━━━━━━━━━━━━━━━━━━━━━━━━━━━━━━━━━━━━━━━\u001b[0m \u001b[32m0.0/78.6 kB\u001b[0m \u001b[31m?\u001b[0m eta \u001b[36m-:--:--\u001b[0m\r\u001b[2K     \u001b[90m━━━━━━━━━━━━━━━━━━━━━━━━━━━━━━━━━━━━━━━━\u001b[0m \u001b[32m78.6/78.6 kB\u001b[0m \u001b[31m6.0 MB/s\u001b[0m eta \u001b[36m0:00:00\u001b[0m\n",
            "\u001b[?25h  Preparing metadata (setup.py) ... \u001b[?25l\u001b[?25hdone\n",
            "\u001b[2K   \u001b[90m━━━━━━━━━━━━━━━━━━━━━━━━━━━━━━━━━━━━━━━━\u001b[0m \u001b[32m473.6/473.6 kB\u001b[0m \u001b[31m29.6 MB/s\u001b[0m eta \u001b[36m0:00:00\u001b[0m\n",
            "\u001b[2K   \u001b[90m━━━━━━━━━━━━━━━━━━━━━━━━━━━━━━━━━━━━━━━━\u001b[0m \u001b[32m46.0/46.0 kB\u001b[0m \u001b[31m3.9 MB/s\u001b[0m eta \u001b[36m0:00:00\u001b[0m\n",
            "\u001b[2K   \u001b[90m━━━━━━━━━━━━━━━━━━━━━━━━━━━━━━━━━━━━━━━━\u001b[0m \u001b[32m86.8/86.8 kB\u001b[0m \u001b[31m9.1 MB/s\u001b[0m eta \u001b[36m0:00:00\u001b[0m\n",
            "\u001b[?25h  Building wheel for typing (setup.py) ... \u001b[?25l\u001b[?25hdone\n",
            "\u001b[2K     \u001b[90m━━━━━━━━━━━━━━━━━━━━━━━━━━━━━━━━━━━━━━━━\u001b[0m \u001b[32m1.4/1.4 MB\u001b[0m \u001b[31m51.1 MB/s\u001b[0m eta \u001b[36m0:00:00\u001b[0m\n",
            "\u001b[?25h  Preparing metadata (setup.py) ... \u001b[?25l\u001b[?25hdone\n",
            "  Building wheel for visdom (setup.py) ... \u001b[?25l\u001b[?25hdone\n"
          ]
        }
      ]
    },
    {
      "cell_type": "markdown",
      "source": [
        "The following function is implemented to download the *Cityscapes* dataset in two different ways: via Google Drive (using `gdown`) or directly from the Cityscapes official website (using `csDownload`). Although the first option is preferable as it is definitely faster, direct download from the website is provided as an alternative. `gdown` may in fact raise the error *Failed to retrieve the file url* if the file we are attempting to download is exceptionally large (*e.g.* 11G), there are numerous users simultaneously trying to download it programmatically or we download it many times in a limited time. Regardless of the method used, use the conversor (available [here](https://github.com/mcordts/cityscapesScripts/blob/master/cityscapesscripts/preparation/createTrainIdLabelImgs.py)) to generate labelTrainIds from labelIds."
      ],
      "metadata": {
        "id": "aha0ydTyO4IR"
      }
    },
    {
      "cell_type": "code",
      "source": [
        "def download_cityscapes():\n",
        "\n",
        "    if not os.path.isdir('/content/Real-Time-Anomaly-Segmentation-for-Road-Scenes/cityscapes'):\n",
        "        print(\"Attempting to download cityscapes dataset using gdown...\")\n",
        "\n",
        "        try:\n",
        "            # If check is true, and the process exits with a non-zero exit code, a CalledProcessError exception will be raised.\n",
        "            subprocess.run([\"gdown\", \"https://drive.google.com/uc?id=11gSQ9UcLCnIqmY7srG2S6EVwV3paOMEq\"], check=True)\n",
        "            print(\"Dataset downloaded successfully using gdown. Unzipping...\")\n",
        "            subprocess.run([\"unzip\", \"-q\", \"cityscapes.zip\"], check=True)\n",
        "            # Use the conversor to generate labelTrainIds from labelIds\n",
        "            print(\"Generating trainIds from labelIds...\")\n",
        "            !CITYSCAPES_DATASET='cityscapes/' csCreateTrainIdLabelImgs\n",
        "\n",
        "        except subprocess.CalledProcessError as e:\n",
        "            print(\"gdown failed. Attempting to download cityscapes dataset from the official website...\")\n",
        "            try:\n",
        "              # Cityscapes credentials: (agnesere, FCSBwcVMi-u9-Zn)\n",
        "              !csDownload leftImg8bit_trainvaltest.zip\n",
        "              !csDownload gtFine_trainvaltest.zip\n",
        "\n",
        "              print(\"Dataset downloaded successfully from the official website. Unzipping...\")\n",
        "              !unzip -q 'leftImg8bit_trainvaltest.zip' -d 'cityscapes'\n",
        "              !unzip -o -q 'gtFine_trainvaltest.zip' -d 'cityscapes'\n",
        "\n",
        "              print(\"Generating trainIds from labelIds...\")\n",
        "              !CITYSCAPES_DATASET='cityscapes/' csCreateTrainIdLabelImgs\n",
        "\n",
        "              print(\"Cityscapes dataset ready\")\n",
        "\n",
        "            except Exception as e2:\n",
        "                print(\"Failed to download the dataset using both methods.\")"
      ],
      "metadata": {
        "id": "-cQRn0hfGLlV"
      },
      "execution_count": 3,
      "outputs": []
    },
    {
      "cell_type": "markdown",
      "source": [
        "Download and unzip the validation dataset (*FS_LostFound_full*, *RoadAnomaly*, *RoadAnomaly21*, *RoadObsticle21*, *fs_static*), clone or update the GitHub repository (*Real-Time-Anomaly-Segmentation-for-Road-Scenes*) and download the *Cityscapes* dataset."
      ],
      "metadata": {
        "id": "NFHf3bXySHFf"
      }
    },
    {
      "cell_type": "code",
      "source": [
        "# download and unzip validation dataset\n",
        "if not os.path.isdir('/content/validation_dataset'):\n",
        "  !gdown 'https://drive.google.com/uc?id=12YJq48XkCxQHjN3CmLc-zM5dThSak4Ta'\n",
        "  !unzip -q 'Validation_Dataset.zip'\n",
        "  !mkdir validation_dataset && cp -pR Validation_Dataset/* validation_dataset/ && rm -R Validation_Dataset/\n",
        "  !rm 'Validation_Dataset.zip'\n",
        "\n",
        "# clone the github repo and pull command\n",
        "if not os.path.isdir('content/Real-Time-Anomaly-Segmentation-for-Road-Scenes'):\n",
        "  !git clone https://github.com/AgneseRe/Real-Time-Anomaly-Segmentation-for-Road-Scenes.git\n",
        "else: # if folder already present\n",
        "  !git pull\n",
        "\n",
        "%cd Real-Time-Anomaly-Segmentation-for-Road-Scenes"
      ],
      "metadata": {
        "id": "Y_Bl3WGlWfon",
        "outputId": "26405320-9c04-4bd0-c232-a8558f7cf4a2",
        "colab": {
          "base_uri": "https://localhost:8080/"
        }
      },
      "execution_count": 4,
      "outputs": [
        {
          "output_type": "stream",
          "name": "stdout",
          "text": [
            "Downloading...\n",
            "From (original): https://drive.google.com/uc?id=12YJq48XkCxQHjN3CmLc-zM5dThSak4Ta\n",
            "From (redirected): https://drive.google.com/uc?id=12YJq48XkCxQHjN3CmLc-zM5dThSak4Ta&confirm=t&uuid=9ea071cf-431c-4a8d-a2b6-4d372f1b02a7\n",
            "To: /content/Validation_Dataset.zip\n",
            "100% 329M/329M [00:07<00:00, 43.4MB/s]\n",
            "Cloning into 'Real-Time-Anomaly-Segmentation-for-Road-Scenes'...\n",
            "remote: Enumerating objects: 383, done.\u001b[K\n",
            "remote: Counting objects: 100% (95/95), done.\u001b[K\n",
            "remote: Compressing objects: 100% (70/70), done.\u001b[K\n",
            "remote: Total 383 (delta 55), reused 50 (delta 23), pack-reused 288 (from 1)\u001b[K\n",
            "Receiving objects: 100% (383/383), 25.49 MiB | 16.10 MiB/s, done.\n",
            "Resolving deltas: 100% (214/214), done.\n",
            "/content/Real-Time-Anomaly-Segmentation-for-Road-Scenes\n"
          ]
        }
      ]
    },
    {
      "cell_type": "code",
      "source": [
        "# download cityscapes dataset\n",
        "download_cityscapes()"
      ],
      "metadata": {
        "id": "AtojfyyxIpaw",
        "outputId": "6d247534-4bb9-44b7-9fa7-88180feadaa7",
        "colab": {
          "base_uri": "https://localhost:8080/"
        }
      },
      "execution_count": 5,
      "outputs": [
        {
          "output_type": "stream",
          "name": "stdout",
          "text": [
            "Attempting to download cityscapes dataset using gdown...\n",
            "gdown failed. Attempting to download cityscapes dataset from the official website...\n",
            "Cityscapes username or email address: agnesere\n",
            "Cityscapes password: \n",
            "Store credentials unencrypted in '/root/.local/share/cityscapesscripts/credentials.json' [y/N]: N\n",
            "Downloading cityscapes package 'leftImg8bit_trainvaltest.zip' to './leftImg8bit_trainvaltest.zip'\n",
            "Download progress:  98% 10.8G/11.0G [09:41<00:10, 19.9MB/s]\n",
            "Cityscapes username or email address: agnesere\n",
            "Cityscapes password: \n",
            "Store credentials unencrypted in '/root/.local/share/cityscapesscripts/credentials.json' [y/N]: N\n",
            "Downloading cityscapes package 'gtFine_trainvaltest.zip' to './gtFine_trainvaltest.zip'\n",
            "Download progress: 100% 241M/241M [00:38<00:00, 6.61MB/s]\n",
            "Dataset downloaded successfully from the official website. Unzipping...\n",
            "Generating trainIds from labelIds...\n",
            "Processing 5000 annotation files\n",
            "Progress: 100.0 % Cityscapes dataset ready\n"
          ]
        }
      ]
    },
    {
      "cell_type": "markdown",
      "source": [
        "## Evaluation"
      ],
      "metadata": {
        "id": "_czbWkaraAdh"
      }
    },
    {
      "cell_type": "markdown",
      "source": [
        "### Step 2A - Compute AuPRC & FPR95TPR"
      ],
      "metadata": {
        "id": "smRtjvZQu0R4"
      }
    },
    {
      "cell_type": "code",
      "source": [
        "%cd eval"
      ],
      "metadata": {
        "id": "W9ewyGcSZ__2",
        "colab": {
          "base_uri": "https://localhost:8080/"
        },
        "outputId": "0d5ca852-7b32-4879-a419-2c7613c068ce"
      },
      "execution_count": 6,
      "outputs": [
        {
          "output_type": "stream",
          "name": "stdout",
          "text": [
            "/content/Real-Time-Anomaly-Segmentation-for-Road-Scenes/eval\n"
          ]
        }
      ]
    },
    {
      "cell_type": "markdown",
      "source": [
        "Perform various anomaly inferences using the pre-trained **ErfNet** model and anomaly segmentation test dataset provided. Different techniques are used (MSP, MaxLogit and MaxEntropy)."
      ],
      "metadata": {
        "id": "MUOPyLTmNxhR"
      }
    },
    {
      "cell_type": "code",
      "source": [
        "methods_list = [\"msp\", \"maxlogit\", \"maxentropy\"]\n",
        "datasets_list = os.listdir(\"../../validation_dataset\")\n",
        "\n",
        "for dataset in datasets_list:\n",
        "  print(f\"{dataset} dataset\")\n",
        "  for method in methods_list:\n",
        "    print(f\"\\t- {method}\")\n",
        "    input_path = f\"../../validation_dataset/{dataset}/images/*.*\"\n",
        "    !python evalAnomaly.py --input={input_path} --method={method}\n",
        "  print(\"---------------------------------\")"
      ],
      "metadata": {
        "id": "5CoH7P5ukYN8",
        "outputId": "e9101f64-7985-4dc8-c64d-503955a04802",
        "colab": {
          "base_uri": "https://localhost:8080/"
        }
      },
      "execution_count": null,
      "outputs": [
        {
          "output_type": "stream",
          "name": "stdout",
          "text": [
            "RoadObsticle21 dataset\n",
            "\t- msp\n",
            "\t\tAUPRC score: 2.712\n",
            "\t\tFPR@TPR95: 64.974\n",
            "\t- maxlogit\n",
            "\t\tAUPRC score: 4.627\n",
            "\t\tFPR@TPR95: 48.443\n",
            "\t- maxentropy\n",
            "\t\tAUPRC score: 3.052\n",
            "\t\tFPR@TPR95: 65.600\n",
            "----------------------\n",
            "RoadAnomaly21 dataset\n",
            "\t- msp\n",
            "\t\tAUPRC score: 29.100\n",
            "\t\tFPR@TPR95: 62.511\n",
            "\t- maxlogit\n",
            "\t\tAUPRC score: 38.320\n",
            "\t\tFPR@TPR95: 59.337\n",
            "\t- maxentropy\n",
            "\t\tAUPRC score: 31.005\n",
            "\t\tFPR@TPR95: 62.593\n",
            "----------------------\n",
            "RoadAnomaly dataset\n",
            "\t- msp\n",
            "\t\tAUPRC score: 12.426\n",
            "\t\tFPR@TPR95: 82.492\n",
            "\t- maxlogit\n",
            "\t\tAUPRC score: 15.582\n",
            "\t\tFPR@TPR95: 73.248\n",
            "\t- maxentropy\n",
            "\t\tAUPRC score: 12.678\n",
            "\t\tFPR@TPR95: 82.632\n",
            "----------------------\n",
            "fs_static dataset\n",
            "\t- msp\n",
            "\t\tAUPRC score: 7.470\n",
            "\t\tFPR@TPR95: 41.823\n",
            "\t- maxlogit\n",
            "\t\tAUPRC score: 9.499\n",
            "\t\tFPR@TPR95: 40.300\n",
            "\t- maxentropy\n",
            "\t\tAUPRC score: 8.826\n",
            "\t\tFPR@TPR95: 41.523\n",
            "----------------------\n",
            "FS_LostFound_full dataset\n",
            "\t- msp\n",
            "\t\tAUPRC score: 1.748\n",
            "\t\tFPR@TPR95: 50.763\n",
            "\t- maxlogit\n",
            "\t\tAUPRC score: 3.301\n",
            "\t\tFPR@TPR95: 45.495\n",
            "\t- maxentropy\n",
            "\t\tAUPRC score: 2.582\n",
            "\t\tFPR@TPR95: 50.368\n",
            "----------------------\n"
          ]
        }
      ]
    },
    {
      "cell_type": "markdown",
      "source": [
        "### Step 2B - Compute AuPRC & FPR95TPR with temperature scaling"
      ],
      "metadata": {
        "id": "JJodGToyvAwX"
      }
    },
    {
      "cell_type": "code",
      "source": [
        "datasets_list = os.listdir(\"../../validation_dataset\")\n"
      ],
      "metadata": {
        "id": "WNonHsRaG9Qs"
      },
      "execution_count": null,
      "outputs": []
    },
    {
      "cell_type": "code",
      "source": [
        "temperature_list = [0.5, 0.75, 1.0, 1.1, 1.2, 1.5, 2.0, 3.0, 5.0, 10.0, 50.0]\n",
        "\n",
        "for dataset in datasets_list:\n",
        "  print(f\"{dataset} dataset\")\n",
        "  for t in temperature_list:\n",
        "    print(f\"\\t- {t}\")\n",
        "    input_path = f\"../../validation_dataset/{dataset}/images/*.*\"\n",
        "    !python evalAnomaly.py --input={input_path} --method=\"msp\" --temperature={t}\n",
        "  print(\"---------------------------------\")"
      ],
      "metadata": {
        "id": "t5oNs1EqDL6B",
        "outputId": "ea571002-28f7-4c01-9807-551deecd12a4",
        "colab": {
          "base_uri": "https://localhost:8080/"
        }
      },
      "execution_count": null,
      "outputs": [
        {
          "output_type": "stream",
          "name": "stdout",
          "text": [
            "RoadAnomaly21\n",
            "\t- 0.5\n",
            "\t\tAUPRC score: 27.061\n",
            "\t\tFPR@TPR95: 62.731\n",
            "\t- 0.75\n",
            "\t\tAUPRC score: 28.156\n",
            "\t\tFPR@TPR95: 62.479\n",
            "\t- 1.0\n",
            "\t\tAUPRC score: 29.100\n",
            "\t\tFPR@TPR95: 62.511\n",
            "\t- 1.1\n",
            "\t\tAUPRC score: 29.410\n",
            "\t\tFPR@TPR95: 62.590\n",
            "\t- 1.2\n",
            "\t\tAUPRC score: 29.678\n",
            "\t\tFPR@TPR95: 62.724\n",
            "\t- 1.5\n",
            "\t\tAUPRC score: 30.258\n",
            "\t\tFPR@TPR95: 63.318\n",
            "\t- 2.0\n",
            "\t\tAUPRC score: 30.679\n",
            "\t\tFPR@TPR95: 64.721\n",
            "\t- 3.0\n",
            "\t\tAUPRC score: 30.674\n",
            "\t\tFPR@TPR95: 67.682\n",
            "\t- 5.0\n",
            "\t\tAUPRC score: 30.196\n",
            "\t\tFPR@TPR95: 71.594\n",
            "\t- 10.0\n",
            "\t\tAUPRC score: 29.526\n",
            "\t\tFPR@TPR95: 75.757\n",
            "\t- 50.0\n",
            "\t\tAUPRC score: 28.804\n",
            "\t\tFPR@TPR95: 80.014\n",
            "FS_LostFound_full\n",
            "\t- 0.5\n",
            "\t\tAUPRC score: 1.280\n",
            "\t\tFPR@TPR95: 66.737\n",
            "\t- 0.75\n",
            "\t\tAUPRC score: 1.493\n",
            "\t\tFPR@TPR95: 51.848\n",
            "\t- 1.0\n",
            "\t\tAUPRC score: 1.748\n",
            "\t\tFPR@TPR95: 50.763\n",
            "\t- 1.1\n",
            "\t\tAUPRC score: 1.860\n",
            "\t\tFPR@TPR95: 50.387\n",
            "\t- 1.2\n",
            "\t\tAUPRC score: 1.972\n",
            "\t\tFPR@TPR95: 50.150\n",
            "\t- 1.5\n",
            "\t\tAUPRC score: 2.286\n",
            "\t\tFPR@TPR95: 49.456\n",
            "\t- 2.0\n",
            "\t\tAUPRC score: 2.677\n",
            "\t\tFPR@TPR95: 48.324\n",
            "\t- 3.0\n",
            "\t\tAUPRC score: 3.048\n",
            "\t\tFPR@TPR95: 46.893\n",
            "\t- 5.0\n",
            "\t\tAUPRC score: 3.252\n",
            "\t\tFPR@TPR95: 45.396\n",
            "\t- 10.0\n",
            "\t\tAUPRC score: 3.344\n",
            "\t\tFPR@TPR95: 44.121\n",
            "\t- 50.0\n",
            "\t\tAUPRC score: 3.388\n",
            "\t\tFPR@TPR95: 43.361\n",
            "fs_static\n",
            "\t- 0.5\n",
            "\t\tAUPRC score: 6.601\n",
            "\t\tFPR@TPR95: 43.476\n",
            "\t- 0.75\n",
            "\t\tAUPRC score: 6.991\n",
            "\t\tFPR@TPR95: 42.493\n",
            "\t- 1.0\n",
            "\t\tAUPRC score: 7.470\n",
            "\t\tFPR@TPR95: 41.823\n",
            "\t- 1.1\n",
            "\t\tAUPRC score: 7.687\n",
            "\t\tFPR@TPR95: 41.587\n",
            "\t- 1.2\n",
            "\t\tAUPRC score: 7.910\n",
            "\t\tFPR@TPR95: 41.406\n",
            "\t- 1.5\n",
            "\t\tAUPRC score: 8.580\n",
            "\t\tFPR@TPR95: 41.096\n",
            "\t- 2.0\n",
            "\t\tAUPRC score: 9.508\n",
            "\t\tFPR@TPR95: 41.018\n",
            "\t- 3.0\n",
            "\t\tAUPRC score: 10.529\n",
            "\t\tFPR@TPR95: 42.180\n",
            "\t- 5.0\n",
            "\t\tAUPRC score: 11.175\n",
            "\t\tFPR@TPR95: 45.514\n",
            "\t- 10.0\n",
            "\t\tAUPRC score: 11.462\n",
            "\t\tFPR@TPR95: 51.164\n",
            "\t- 50.0\n",
            "\t\tAUPRC score: 11.546\n",
            "\t\tFPR@TPR95: 58.587\n",
            "RoadObsticle21\n",
            "\t- 0.5\n",
            "\t\tAUPRC score: 2.420\n",
            "\t\tFPR@TPR95: 63.225\n",
            "\t- 0.75\n",
            "\t\tAUPRC score: 2.567\n",
            "\t\tFPR@TPR95: 64.053\n",
            "\t- 1.0\n",
            "\t\tAUPRC score: 2.712\n",
            "\t\tFPR@TPR95: 64.974\n",
            "\t- 1.1\n",
            "\t\tAUPRC score: 2.766\n",
            "\t\tFPR@TPR95: 65.524\n",
            "\t- 1.2\n",
            "\t\tAUPRC score: 2.816\n",
            "\t\tFPR@TPR95: 66.033\n",
            "\t- 1.5\n",
            "\t\tAUPRC score: 2.937\n",
            "\t\tFPR@TPR95: 67.928\n",
            "\t- 2.0\n",
            "\t\tAUPRC score: 3.026\n",
            "\t\tFPR@TPR95: 71.459\n",
            "\t- 3.0\n",
            "\t\tAUPRC score: 2.998\n",
            "\t\tFPR@TPR95: 76.800\n",
            "\t- 5.0\n",
            "\t\tAUPRC score: 2.841\n",
            "\t\tFPR@TPR95: 83.111\n",
            "\t- 10.0\n",
            "\t\tAUPRC score: 2.644\n",
            "\t\tFPR@TPR95: 88.146\n",
            "\t- 50.0\n",
            "\t\tAUPRC score: 2.448\n",
            "\t\tFPR@TPR95: 92.080\n",
            "RoadAnomaly\n",
            "\t- 0.5\n",
            "\t\tAUPRC score: 12.188\n",
            "\t\tFPR@TPR95: 82.022\n",
            "\t- 0.75\n",
            "\t\tAUPRC score: 12.319\n",
            "\t\tFPR@TPR95: 82.285\n",
            "\t- 1.0\n",
            "\t\tAUPRC score: 12.426\n",
            "\t\tFPR@TPR95: 82.492\n",
            "\t- 1.1\n",
            "\t\tAUPRC score: 12.466\n",
            "\t\tFPR@TPR95: 82.621\n",
            "\t- 1.2\n",
            "\t\tAUPRC score: 12.502\n",
            "\t\tFPR@TPR95: 82.757\n",
            "\t- 1.5\n",
            "\t\tAUPRC score: 12.591\n",
            "\t\tFPR@TPR95: 83.244\n",
            "\t- 2.0\n",
            "\t\tAUPRC score: 12.676\n",
            "\t\tFPR@TPR95: 84.150\n",
            "\t- 3.0\n",
            "\t\tAUPRC score: 12.715\n",
            "\t\tFPR@TPR95: 85.776\n",
            "\t- 5.0\n",
            "\t\tAUPRC score: 12.672\n",
            "\t\tFPR@TPR95: 87.713\n",
            "\t- 10.0\n",
            "\t\tAUPRC score: 12.575\n",
            "\t\tFPR@TPR95: 89.477\n",
            "\t- 50.0\n",
            "\t\tAUPRC score: 12.451\n",
            "\t\tFPR@TPR95: 91.006\n"
          ]
        }
      ]
    },
    {
      "cell_type": "markdown",
      "source": [
        "### Step 3 - Train models with void classifier"
      ],
      "metadata": {
        "id": "6ylMHF05vI-a"
      }
    },
    {
      "cell_type": "code",
      "source": [
        "models = [\"erfnet\", \"enet\", \"bisenet\"]\n"
      ],
      "metadata": {
        "id": "uvJ8DqNPGxg3"
      },
      "execution_count": 7,
      "outputs": []
    },
    {
      "cell_type": "code",
      "source": [
        "\n",
        "savedirs = [\"erfnet_training_void\", \"enet_training_void\", \"bisenet_training_void\"]\n",
        "pretrained_weights = [\"erfnet_pretrained.pth\", \"enet_pretrained.pth\", \"bisenetv1_pretrained.pth\"]\n",
        "epochs = 20\n",
        "\n",
        "# Base directory of the project\n",
        "base_dir = \"../train\"\n",
        "# Dataset directory\n",
        "data_dir = \"../cityscapes\"\n",
        "\n",
        "!cd {base_dir} && python main_v2.py --savedir \"bisenet_training_void\" --datadir {data_dir} --model \"bisenet\" --cuda --num-epochs=20 --epochs-save=1 --batch-size=6"
      ],
      "metadata": {
        "id": "lxoP9g7BF45G",
        "outputId": "a444f729-0911-42ea-b068-54627c63d367",
        "colab": {
          "base_uri": "https://localhost:8080/"
        }
      },
      "execution_count": 8,
      "outputs": [
        {
          "output_type": "stream",
          "name": "stdout",
          "text": [
            "Downloading: \"https://download.pytorch.org/models/resnet18-5c106cde.pth\" to /root/.cache/torch/hub/checkpoints/resnet18-5c106cde.pth\n",
            "100% 44.7M/44.7M [00:00<00:00, 450MB/s]\n",
            "========== TRAINING ===========\n",
            "../cityscapes/leftImg8bit/train\n",
            "../cityscapes/leftImg8bit/val\n",
            "/usr/local/lib/python3.11/dist-packages/torch/utils/data/dataloader.py:617: UserWarning: This DataLoader will create 4 worker processes in total. Our suggested max number of worker in current system is 2, which is smaller than what this DataLoader is going to create. Please be aware that excessive worker creation might get DataLoader running slow or even freeze, lower the worker number to avoid potential slowness/freeze if necessary.\n",
            "  warnings.warn(\n",
            "----- TRAINING - EPOCH 1 -----\n",
            "/usr/local/lib/python3.11/dist-packages/torch/optim/lr_scheduler.py:224: UserWarning: Detected call of `lr_scheduler.step()` before `optimizer.step()`. In PyTorch 1.1.0 and later, you should call them in the opposite order: `optimizer.step()` before `lr_scheduler.step()`.  Failure to do this will result in PyTorch skipping the first value of the learning rate schedule. See more details at https://pytorch.org/docs/stable/optim.html#how-to-adjust-learning-rate\n",
            "  warnings.warn(\n",
            "/usr/local/lib/python3.11/dist-packages/torch/optim/lr_scheduler.py:240: UserWarning: The epoch parameter in `scheduler.step()` was not necessary and is being deprecated where possible. Please use `scheduler.step()` to step the scheduler. During the deprecation, if epoch is different from None, the closed form is used instead of the new chainable form, where available. Please open an issue if you are unable to replicate your use case: https://github.com/pytorch/pytorch/issues/new/choose.\n",
            "  warnings.warn(EPOCH_DEPRECATION_WARNING, UserWarning)\n",
            "LEARNING RATE:  0.025\n",
            "loss: 9.323 (epoch: 1, step: 0) // Avg time/img: 0.7881 s\n",
            "loss: 5.831 (epoch: 1, step: 50) // Avg time/img: 0.0617 s\n",
            "loss: 5.288 (epoch: 1, step: 100) // Avg time/img: 0.0560 s\n",
            "loss: 5.13 (epoch: 1, step: 150) // Avg time/img: 0.0533 s\n",
            "loss: 5.014 (epoch: 1, step: 200) // Avg time/img: 0.0523 s\n",
            "loss: 4.947 (epoch: 1, step: 250) // Avg time/img: 0.0518 s\n",
            "loss: 4.865 (epoch: 1, step: 300) // Avg time/img: 0.0515 s\n",
            "loss: 4.82 (epoch: 1, step: 350) // Avg time/img: 0.0512 s\n",
            "loss: 4.768 (epoch: 1, step: 400) // Avg time/img: 0.0510 s\n",
            "loss: 4.739 (epoch: 1, step: 450) // Avg time/img: 0.0510 s\n",
            "----- VALIDATING - EPOCH 1 -----\n",
            "/content/Real-Time-Anomaly-Segmentation-for-Road-Scenes/train/main_v2.py:331: UserWarning: volatile was removed and now has no effect. Use `with torch.no_grad():` instead.\n",
            "  inputs = Variable(images, volatile=True)    # volatile flag makes it free backward or outputs for eval\n",
            "/content/Real-Time-Anomaly-Segmentation-for-Road-Scenes/train/main_v2.py:332: UserWarning: volatile was removed and now has no effect. Use `with torch.no_grad():` instead.\n",
            "  targets = Variable(labels, volatile=True)\n",
            "VAL loss: 3.779 (epoch: 1, step: 0) // Avg time/img: 0.0281 s\n",
            "VAL loss: 4.858 (epoch: 1, step: 50) // Avg time/img: 0.0215 s\n",
            "EPOCH IoU on VAL set:  \u001b[0m17.11\u001b[0m %\n",
            "Saving model as best\n",
            "save: ../save/bisenet_training_void/model-001.pth (epoch: 1)\n",
            "save: ../save/bisenet_training_void/model_best.pth (epoch: 1)\n",
            "----- TRAINING - EPOCH 2 -----\n",
            "LEARNING RATE:  0.023872134540537493\n",
            "loss: 4.668 (epoch: 2, step: 0) // Avg time/img: 0.0654 s\n",
            "loss: 4.387 (epoch: 2, step: 50) // Avg time/img: 0.0496 s\n",
            "loss: 4.418 (epoch: 2, step: 100) // Avg time/img: 0.0491 s\n",
            "loss: 4.383 (epoch: 2, step: 150) // Avg time/img: 0.0495 s\n",
            "loss: 4.382 (epoch: 2, step: 200) // Avg time/img: 0.0495 s\n",
            "loss: 4.343 (epoch: 2, step: 250) // Avg time/img: 0.0495 s\n",
            "loss: 4.345 (epoch: 2, step: 300) // Avg time/img: 0.0496 s\n",
            "loss: 4.34 (epoch: 2, step: 350) // Avg time/img: 0.0496 s\n",
            "loss: 4.333 (epoch: 2, step: 400) // Avg time/img: 0.0496 s\n",
            "loss: 4.304 (epoch: 2, step: 450) // Avg time/img: 0.0498 s\n",
            "----- VALIDATING - EPOCH 2 -----\n",
            "VAL loss: 4.216 (epoch: 2, step: 0) // Avg time/img: 0.0196 s\n",
            "VAL loss: 4.736 (epoch: 2, step: 50) // Avg time/img: 0.0219 s\n",
            "EPOCH IoU on VAL set:  \u001b[0m23.86\u001b[0m %\n",
            "Saving model as best\n",
            "save: ../save/bisenet_training_void/model-002.pth (epoch: 2)\n",
            "save: ../save/bisenet_training_void/model_best.pth (epoch: 2)\n",
            "----- TRAINING - EPOCH 3 -----\n",
            "LEARNING RATE:  0.022738314402074057\n",
            "loss: 3.201 (epoch: 3, step: 0) // Avg time/img: 0.0646 s\n",
            "loss: 4.116 (epoch: 3, step: 50) // Avg time/img: 0.0503 s\n",
            "loss: 4.117 (epoch: 3, step: 100) // Avg time/img: 0.0502 s\n",
            "loss: 4.085 (epoch: 3, step: 150) // Avg time/img: 0.0497 s\n",
            "loss: 4.099 (epoch: 3, step: 200) // Avg time/img: 0.0495 s\n",
            "loss: 4.124 (epoch: 3, step: 250) // Avg time/img: 0.0495 s\n",
            "loss: 4.151 (epoch: 3, step: 300) // Avg time/img: 0.0496 s\n",
            "loss: 4.153 (epoch: 3, step: 350) // Avg time/img: 0.0496 s\n",
            "loss: 4.16 (epoch: 3, step: 400) // Avg time/img: 0.0496 s\n",
            "loss: 4.156 (epoch: 3, step: 450) // Avg time/img: 0.0496 s\n",
            "----- VALIDATING - EPOCH 3 -----\n",
            "VAL loss: 4.151 (epoch: 3, step: 0) // Avg time/img: 0.0210 s\n",
            "VAL loss: 4.76 (epoch: 3, step: 50) // Avg time/img: 0.0208 s\n",
            "EPOCH IoU on VAL set:  \u001b[0m27.04\u001b[0m %\n",
            "Saving model as best\n",
            "save: ../save/bisenet_training_void/model-003.pth (epoch: 3)\n",
            "save: ../save/bisenet_training_void/model_best.pth (epoch: 3)\n",
            "----- TRAINING - EPOCH 4 -----\n",
            "LEARNING RATE:  0.02159817430757048\n",
            "loss: 4.256 (epoch: 4, step: 0) // Avg time/img: 0.0557 s\n",
            "loss: 4.091 (epoch: 4, step: 50) // Avg time/img: 0.0496 s\n",
            "loss: 4.079 (epoch: 4, step: 100) // Avg time/img: 0.0496 s\n",
            "loss: 4.064 (epoch: 4, step: 150) // Avg time/img: 0.0499 s\n",
            "loss: 4.073 (epoch: 4, step: 200) // Avg time/img: 0.0498 s\n",
            "loss: 4.088 (epoch: 4, step: 250) // Avg time/img: 0.0499 s\n",
            "loss: 4.086 (epoch: 4, step: 300) // Avg time/img: 0.0498 s\n",
            "loss: 4.089 (epoch: 4, step: 350) // Avg time/img: 0.0497 s\n",
            "loss: 4.082 (epoch: 4, step: 400) // Avg time/img: 0.0496 s\n",
            "loss: 4.078 (epoch: 4, step: 450) // Avg time/img: 0.0496 s\n",
            "----- VALIDATING - EPOCH 4 -----\n",
            "VAL loss: 3.767 (epoch: 4, step: 0) // Avg time/img: 0.0197 s\n",
            "VAL loss: 4.497 (epoch: 4, step: 50) // Avg time/img: 0.0214 s\n",
            "EPOCH IoU on VAL set:  \u001b[0m30.01\u001b[0m %\n",
            "Saving model as best\n",
            "save: ../save/bisenet_training_void/model-004.pth (epoch: 4)\n",
            "save: ../save/bisenet_training_void/model_best.pth (epoch: 4)\n",
            "----- TRAINING - EPOCH 5 -----\n",
            "LEARNING RATE:  0.02045130365127146\n",
            "loss: 5.609 (epoch: 5, step: 0) // Avg time/img: 0.0611 s\n",
            "loss: 4.082 (epoch: 5, step: 50) // Avg time/img: 0.0498 s\n",
            "loss: 4.042 (epoch: 5, step: 100) // Avg time/img: 0.0494 s\n",
            "loss: 4.025 (epoch: 5, step: 150) // Avg time/img: 0.0495 s\n",
            "loss: 4.019 (epoch: 5, step: 200) // Avg time/img: 0.0492 s\n",
            "loss: 4.025 (epoch: 5, step: 250) // Avg time/img: 0.0492 s\n",
            "loss: 3.985 (epoch: 5, step: 300) // Avg time/img: 0.0492 s\n",
            "loss: 4.003 (epoch: 5, step: 350) // Avg time/img: 0.0492 s\n",
            "loss: 3.998 (epoch: 5, step: 400) // Avg time/img: 0.0493 s\n",
            "loss: 3.982 (epoch: 5, step: 450) // Avg time/img: 0.0493 s\n",
            "----- VALIDATING - EPOCH 5 -----\n",
            "VAL loss: 3.51 (epoch: 5, step: 0) // Avg time/img: 0.0259 s\n",
            "VAL loss: 4.591 (epoch: 5, step: 50) // Avg time/img: 0.0213 s\n",
            "EPOCH IoU on VAL set:  \u001b[0m32.01\u001b[0m %\n",
            "Saving model as best\n",
            "save: ../save/bisenet_training_void/model-005.pth (epoch: 5)\n",
            "save: ../save/bisenet_training_void/model_best.pth (epoch: 5)\n",
            "----- TRAINING - EPOCH 6 -----\n",
            "LEARNING RATE:  0.019297237668089263\n",
            "loss: 4.134 (epoch: 6, step: 0) // Avg time/img: 0.0575 s\n",
            "loss: 3.864 (epoch: 6, step: 50) // Avg time/img: 0.0506 s\n",
            "loss: 3.836 (epoch: 6, step: 100) // Avg time/img: 0.0501 s\n",
            "loss: 3.864 (epoch: 6, step: 150) // Avg time/img: 0.0501 s\n",
            "loss: 3.88 (epoch: 6, step: 200) // Avg time/img: 0.0497 s\n",
            "loss: 3.889 (epoch: 6, step: 250) // Avg time/img: 0.0497 s\n",
            "loss: 3.886 (epoch: 6, step: 300) // Avg time/img: 0.0498 s\n",
            "loss: 3.901 (epoch: 6, step: 350) // Avg time/img: 0.0498 s\n",
            "loss: 3.898 (epoch: 6, step: 400) // Avg time/img: 0.0497 s\n",
            "loss: 3.91 (epoch: 6, step: 450) // Avg time/img: 0.0497 s\n",
            "----- VALIDATING - EPOCH 6 -----\n",
            "VAL loss: 2.962 (epoch: 6, step: 0) // Avg time/img: 0.0244 s\n",
            "VAL loss: 4.166 (epoch: 6, step: 50) // Avg time/img: 0.0213 s\n",
            "EPOCH IoU on VAL set:  \u001b[0m33.44\u001b[0m %\n",
            "Saving model as best\n",
            "save: ../save/bisenet_training_void/model-006.pth (epoch: 6)\n",
            "save: ../save/bisenet_training_void/model_best.pth (epoch: 6)\n",
            "----- TRAINING - EPOCH 7 -----\n",
            "LEARNING RATE:  0.0181354461734305\n",
            "loss: 3.645 (epoch: 7, step: 0) // Avg time/img: 0.0612 s\n",
            "loss: 3.871 (epoch: 7, step: 50) // Avg time/img: 0.0513 s\n",
            "loss: 3.862 (epoch: 7, step: 100) // Avg time/img: 0.0507 s\n",
            "loss: 3.891 (epoch: 7, step: 150) // Avg time/img: 0.0505 s\n",
            "loss: 3.898 (epoch: 7, step: 200) // Avg time/img: 0.0501 s\n",
            "loss: 3.903 (epoch: 7, step: 250) // Avg time/img: 0.0499 s\n",
            "loss: 3.88 (epoch: 7, step: 300) // Avg time/img: 0.0497 s\n",
            "loss: 3.866 (epoch: 7, step: 350) // Avg time/img: 0.0497 s\n",
            "loss: 3.87 (epoch: 7, step: 400) // Avg time/img: 0.0496 s\n",
            "loss: 3.867 (epoch: 7, step: 450) // Avg time/img: 0.0496 s\n",
            "----- VALIDATING - EPOCH 7 -----\n",
            "VAL loss: 3.665 (epoch: 7, step: 0) // Avg time/img: 0.0192 s\n",
            "VAL loss: 4.262 (epoch: 7, step: 50) // Avg time/img: 0.0216 s\n",
            "EPOCH IoU on VAL set:  \u001b[0m36.36\u001b[0m %\n",
            "Saving model as best\n",
            "save: ../save/bisenet_training_void/model-007.pth (epoch: 7)\n",
            "save: ../save/bisenet_training_void/model_best.pth (epoch: 7)\n",
            "----- TRAINING - EPOCH 8 -----\n",
            "LEARNING RATE:  0.016965318981453127\n",
            "loss: 4.469 (epoch: 8, step: 0) // Avg time/img: 0.0638 s\n",
            "loss: 3.885 (epoch: 8, step: 50) // Avg time/img: 0.0509 s\n",
            "loss: 3.899 (epoch: 8, step: 100) // Avg time/img: 0.0510 s\n",
            "loss: 3.863 (epoch: 8, step: 150) // Avg time/img: 0.0509 s\n",
            "loss: 3.853 (epoch: 8, step: 200) // Avg time/img: 0.0503 s\n",
            "loss: 3.834 (epoch: 8, step: 250) // Avg time/img: 0.0503 s\n",
            "loss: 3.847 (epoch: 8, step: 300) // Avg time/img: 0.0502 s\n",
            "loss: 3.836 (epoch: 8, step: 350) // Avg time/img: 0.0501 s\n",
            "loss: 3.841 (epoch: 8, step: 400) // Avg time/img: 0.0499 s\n",
            "loss: 3.84 (epoch: 8, step: 450) // Avg time/img: 0.0500 s\n",
            "----- VALIDATING - EPOCH 8 -----\n",
            "VAL loss: 3.584 (epoch: 8, step: 0) // Avg time/img: 0.0227 s\n",
            "VAL loss: 4.248 (epoch: 8, step: 50) // Avg time/img: 0.0219 s\n",
            "EPOCH IoU on VAL set:  \u001b[0m36.16\u001b[0m %\n",
            "save: ../save/bisenet_training_void/model-008.pth (epoch: 8)\n",
            "----- TRAINING - EPOCH 9 -----\n",
            "LEARNING RATE:  0.015786146687233882\n",
            "loss: 3.368 (epoch: 9, step: 0) // Avg time/img: 0.0596 s\n",
            "loss: 3.839 (epoch: 9, step: 50) // Avg time/img: 0.0503 s\n",
            "loss: 3.792 (epoch: 9, step: 100) // Avg time/img: 0.0498 s\n",
            "loss: 3.777 (epoch: 9, step: 150) // Avg time/img: 0.0500 s\n",
            "loss: 3.815 (epoch: 9, step: 200) // Avg time/img: 0.0498 s\n",
            "loss: 3.824 (epoch: 9, step: 250) // Avg time/img: 0.0498 s\n",
            "loss: 3.814 (epoch: 9, step: 300) // Avg time/img: 0.0497 s\n",
            "loss: 3.816 (epoch: 9, step: 350) // Avg time/img: 0.0496 s\n",
            "loss: 3.809 (epoch: 9, step: 400) // Avg time/img: 0.0496 s\n",
            "loss: 3.817 (epoch: 9, step: 450) // Avg time/img: 0.0496 s\n",
            "----- VALIDATING - EPOCH 9 -----\n",
            "VAL loss: 3.413 (epoch: 9, step: 0) // Avg time/img: 0.0223 s\n",
            "VAL loss: 3.893 (epoch: 9, step: 50) // Avg time/img: 0.0219 s\n",
            "EPOCH IoU on VAL set:  \u001b[0m37.91\u001b[0m %\n",
            "Saving model as best\n",
            "save: ../save/bisenet_training_void/model-009.pth (epoch: 9)\n",
            "save: ../save/bisenet_training_void/model_best.pth (epoch: 9)\n",
            "----- TRAINING - EPOCH 10 -----\n",
            "LEARNING RATE:  0.014597094822999507\n",
            "loss: 3.723 (epoch: 10, step: 0) // Avg time/img: 0.0577 s\n",
            "loss: 3.71 (epoch: 10, step: 50) // Avg time/img: 0.0499 s\n",
            "loss: 3.773 (epoch: 10, step: 100) // Avg time/img: 0.0495 s\n",
            "loss: 3.746 (epoch: 10, step: 150) // Avg time/img: 0.0489 s\n",
            "loss: 3.752 (epoch: 10, step: 200) // Avg time/img: 0.0490 s\n",
            "loss: 3.738 (epoch: 10, step: 250) // Avg time/img: 0.0491 s\n",
            "loss: 3.742 (epoch: 10, step: 300) // Avg time/img: 0.0490 s\n",
            "loss: 3.766 (epoch: 10, step: 350) // Avg time/img: 0.0492 s\n",
            "loss: 3.744 (epoch: 10, step: 400) // Avg time/img: 0.0492 s\n",
            "loss: 3.753 (epoch: 10, step: 450) // Avg time/img: 0.0492 s\n",
            "----- VALIDATING - EPOCH 10 -----\n",
            "VAL loss: 3.157 (epoch: 10, step: 0) // Avg time/img: 0.0233 s\n",
            "VAL loss: 4.096 (epoch: 10, step: 50) // Avg time/img: 0.0226 s\n",
            "EPOCH IoU on VAL set:  \u001b[0m37.58\u001b[0m %\n",
            "save: ../save/bisenet_training_void/model-010.pth (epoch: 10)\n",
            "----- TRAINING - EPOCH 11 -----\n",
            "LEARNING RATE:  0.013397168281703665\n",
            "loss: 5.162 (epoch: 11, step: 0) // Avg time/img: 0.0596 s\n",
            "loss: 3.722 (epoch: 11, step: 50) // Avg time/img: 0.0495 s\n",
            "loss: 3.711 (epoch: 11, step: 100) // Avg time/img: 0.0494 s\n",
            "loss: 3.72 (epoch: 11, step: 150) // Avg time/img: 0.0490 s\n",
            "loss: 3.726 (epoch: 11, step: 200) // Avg time/img: 0.0490 s\n",
            "loss: 3.705 (epoch: 11, step: 250) // Avg time/img: 0.0492 s\n",
            "loss: 3.707 (epoch: 11, step: 300) // Avg time/img: 0.0492 s\n",
            "loss: 3.726 (epoch: 11, step: 350) // Avg time/img: 0.0493 s\n",
            "loss: 3.734 (epoch: 11, step: 400) // Avg time/img: 0.0494 s\n",
            "loss: 3.718 (epoch: 11, step: 450) // Avg time/img: 0.0493 s\n",
            "----- VALIDATING - EPOCH 11 -----\n",
            "VAL loss: 3.014 (epoch: 11, step: 0) // Avg time/img: 0.0194 s\n",
            "VAL loss: 3.839 (epoch: 11, step: 50) // Avg time/img: 0.0219 s\n",
            "EPOCH IoU on VAL set:  \u001b[0m39.27\u001b[0m %\n",
            "Saving model as best\n",
            "save: ../save/bisenet_training_void/model-011.pth (epoch: 11)\n",
            "save: ../save/bisenet_training_void/model_best.pth (epoch: 11)\n",
            "----- TRAINING - EPOCH 12 -----\n",
            "LEARNING RATE:  0.012185160979474885\n",
            "loss: 4.764 (epoch: 12, step: 0) // Avg time/img: 0.0577 s\n",
            "loss: 3.653 (epoch: 12, step: 50) // Avg time/img: 0.0509 s\n",
            "loss: 3.704 (epoch: 12, step: 100) // Avg time/img: 0.0503 s\n",
            "loss: 3.7 (epoch: 12, step: 150) // Avg time/img: 0.0499 s\n",
            "loss: 3.698 (epoch: 12, step: 200) // Avg time/img: 0.0496 s\n",
            "loss: 3.674 (epoch: 12, step: 250) // Avg time/img: 0.0496 s\n",
            "loss: 3.685 (epoch: 12, step: 300) // Avg time/img: 0.0495 s\n",
            "loss: 3.686 (epoch: 12, step: 350) // Avg time/img: 0.0494 s\n",
            "loss: 3.689 (epoch: 12, step: 400) // Avg time/img: 0.0495 s\n",
            "loss: 3.699 (epoch: 12, step: 450) // Avg time/img: 0.0495 s\n",
            "----- VALIDATING - EPOCH 12 -----\n",
            "VAL loss: 2.985 (epoch: 12, step: 0) // Avg time/img: 0.0222 s\n",
            "VAL loss: 4.167 (epoch: 12, step: 50) // Avg time/img: 0.0219 s\n",
            "EPOCH IoU on VAL set:  \u001b[0m41.64\u001b[0m %\n",
            "Saving model as best\n",
            "save: ../save/bisenet_training_void/model-012.pth (epoch: 12)\n",
            "save: ../save/bisenet_training_void/model_best.pth (epoch: 12)\n",
            "----- TRAINING - EPOCH 13 -----\n",
            "LEARNING RATE:  0.010959582263852173\n",
            "loss: 4.297 (epoch: 13, step: 0) // Avg time/img: 0.0600 s\n",
            "loss: 3.616 (epoch: 13, step: 50) // Avg time/img: 0.0497 s\n",
            "loss: 3.714 (epoch: 13, step: 100) // Avg time/img: 0.0496 s\n",
            "loss: 3.713 (epoch: 13, step: 150) // Avg time/img: 0.0496 s\n",
            "loss: 3.712 (epoch: 13, step: 200) // Avg time/img: 0.0494 s\n",
            "loss: 3.706 (epoch: 13, step: 250) // Avg time/img: 0.0494 s\n",
            "loss: 3.688 (epoch: 13, step: 300) // Avg time/img: 0.0495 s\n",
            "loss: 3.674 (epoch: 13, step: 350) // Avg time/img: 0.0493 s\n",
            "loss: 3.664 (epoch: 13, step: 400) // Avg time/img: 0.0492 s\n",
            "loss: 3.66 (epoch: 13, step: 450) // Avg time/img: 0.0493 s\n",
            "----- VALIDATING - EPOCH 13 -----\n",
            "VAL loss: 4.134 (epoch: 13, step: 0) // Avg time/img: 0.0204 s\n",
            "VAL loss: 4.221 (epoch: 13, step: 50) // Avg time/img: 0.0218 s\n",
            "EPOCH IoU on VAL set:  \u001b[0m41.10\u001b[0m %\n",
            "save: ../save/bisenet_training_void/model-013.pth (epoch: 13)\n",
            "----- TRAINING - EPOCH 14 -----\n",
            "LEARNING RATE:  0.009718544969969087\n",
            "loss: 3.701 (epoch: 14, step: 0) // Avg time/img: 0.0632 s\n",
            "loss: 3.683 (epoch: 14, step: 50) // Avg time/img: 0.0498 s\n",
            "loss: 3.648 (epoch: 14, step: 100) // Avg time/img: 0.0499 s\n",
            "loss: 3.624 (epoch: 14, step: 150) // Avg time/img: 0.0499 s\n",
            "loss: 3.617 (epoch: 14, step: 200) // Avg time/img: 0.0498 s\n",
            "loss: 3.625 (epoch: 14, step: 250) // Avg time/img: 0.0498 s\n",
            "loss: 3.659 (epoch: 14, step: 300) // Avg time/img: 0.0497 s\n",
            "loss: 3.636 (epoch: 14, step: 350) // Avg time/img: 0.0496 s\n",
            "loss: 3.632 (epoch: 14, step: 400) // Avg time/img: 0.0494 s\n",
            "loss: 3.627 (epoch: 14, step: 450) // Avg time/img: 0.0494 s\n",
            "----- VALIDATING - EPOCH 14 -----\n",
            "VAL loss: 2.607 (epoch: 14, step: 0) // Avg time/img: 0.0205 s\n",
            "VAL loss: 3.628 (epoch: 14, step: 50) // Avg time/img: 0.0216 s\n",
            "EPOCH IoU on VAL set:  \u001b[0m43.13\u001b[0m %\n",
            "Saving model as best\n",
            "save: ../save/bisenet_training_void/model-014.pth (epoch: 14)\n",
            "save: ../save/bisenet_training_void/model_best.pth (epoch: 14)\n",
            "----- TRAINING - EPOCH 15 -----\n",
            "LEARNING RATE:  0.008459586547541247\n",
            "loss: 4.246 (epoch: 15, step: 0) // Avg time/img: 0.0597 s\n",
            "loss: 3.539 (epoch: 15, step: 50) // Avg time/img: 0.0506 s\n",
            "loss: 3.564 (epoch: 15, step: 100) // Avg time/img: 0.0503 s\n",
            "loss: 3.555 (epoch: 15, step: 150) // Avg time/img: 0.0498 s\n",
            "loss: 3.552 (epoch: 15, step: 200) // Avg time/img: 0.0494 s\n",
            "loss: 3.553 (epoch: 15, step: 250) // Avg time/img: 0.0493 s\n",
            "loss: 3.546 (epoch: 15, step: 300) // Avg time/img: 0.0492 s\n",
            "loss: 3.537 (epoch: 15, step: 350) // Avg time/img: 0.0493 s\n",
            "loss: 3.544 (epoch: 15, step: 400) // Avg time/img: 0.0493 s\n",
            "loss: 3.553 (epoch: 15, step: 450) // Avg time/img: 0.0494 s\n",
            "----- VALIDATING - EPOCH 15 -----\n",
            "VAL loss: 3.842 (epoch: 15, step: 0) // Avg time/img: 0.0286 s\n",
            "VAL loss: 3.926 (epoch: 15, step: 50) // Avg time/img: 0.0215 s\n",
            "EPOCH IoU on VAL set:  \u001b[0m46.63\u001b[0m %\n",
            "Saving model as best\n",
            "save: ../save/bisenet_training_void/model-015.pth (epoch: 15)\n",
            "save: ../save/bisenet_training_void/model_best.pth (epoch: 15)\n",
            "----- TRAINING - EPOCH 16 -----\n",
            "LEARNING RATE:  0.007179364718731468\n",
            "loss: 3.258 (epoch: 16, step: 0) // Avg time/img: 0.0642 s\n",
            "loss: 3.647 (epoch: 16, step: 50) // Avg time/img: 0.0494 s\n",
            "loss: 3.563 (epoch: 16, step: 100) // Avg time/img: 0.0500 s\n",
            "loss: 3.619 (epoch: 16, step: 150) // Avg time/img: 0.0495 s\n",
            "loss: 3.616 (epoch: 16, step: 200) // Avg time/img: 0.0492 s\n",
            "loss: 3.602 (epoch: 16, step: 250) // Avg time/img: 0.0492 s\n",
            "loss: 3.593 (epoch: 16, step: 300) // Avg time/img: 0.0491 s\n",
            "loss: 3.567 (epoch: 16, step: 350) // Avg time/img: 0.0491 s\n",
            "loss: 3.561 (epoch: 16, step: 400) // Avg time/img: 0.0491 s\n",
            "loss: 3.571 (epoch: 16, step: 450) // Avg time/img: 0.0490 s\n",
            "----- VALIDATING - EPOCH 16 -----\n",
            "VAL loss: 2.582 (epoch: 16, step: 0) // Avg time/img: 0.0214 s\n",
            "VAL loss: 3.574 (epoch: 16, step: 50) // Avg time/img: 0.0212 s\n",
            "EPOCH IoU on VAL set:  \u001b[0m45.40\u001b[0m %\n",
            "save: ../save/bisenet_training_void/model-016.pth (epoch: 16)\n",
            "----- TRAINING - EPOCH 17 -----\n",
            "LEARNING RATE:  0.005873094715440094\n",
            "loss: 3.309 (epoch: 17, step: 0) // Avg time/img: 0.0671 s\n",
            "loss: 3.526 (epoch: 17, step: 50) // Avg time/img: 0.0497 s\n",
            "loss: 3.533 (epoch: 17, step: 100) // Avg time/img: 0.0492 s\n",
            "loss: 3.512 (epoch: 17, step: 150) // Avg time/img: 0.0492 s\n",
            "loss: 3.537 (epoch: 17, step: 200) // Avg time/img: 0.0490 s\n",
            "loss: 3.51 (epoch: 17, step: 250) // Avg time/img: 0.0492 s\n",
            "loss: 3.515 (epoch: 17, step: 300) // Avg time/img: 0.0493 s\n",
            "loss: 3.515 (epoch: 17, step: 350) // Avg time/img: 0.0492 s\n",
            "loss: 3.526 (epoch: 17, step: 400) // Avg time/img: 0.0492 s\n",
            "loss: 3.528 (epoch: 17, step: 450) // Avg time/img: 0.0492 s\n",
            "----- VALIDATING - EPOCH 17 -----\n",
            "VAL loss: 2.878 (epoch: 17, step: 0) // Avg time/img: 0.0189 s\n",
            "VAL loss: 3.609 (epoch: 17, step: 50) // Avg time/img: 0.0218 s\n",
            "EPOCH IoU on VAL set:  \u001b[0m47.22\u001b[0m %\n",
            "Saving model as best\n",
            "save: ../save/bisenet_training_void/model-017.pth (epoch: 17)\n",
            "save: ../save/bisenet_training_void/model_best.pth (epoch: 17)\n",
            "----- TRAINING - EPOCH 18 -----\n",
            "LEARNING RATE:  0.004533380182841864\n",
            "loss: 3.372 (epoch: 18, step: 0) // Avg time/img: 0.0643 s\n",
            "loss: 3.369 (epoch: 18, step: 50) // Avg time/img: 0.0492 s\n",
            "loss: 3.43 (epoch: 18, step: 100) // Avg time/img: 0.0488 s\n",
            "loss: 3.435 (epoch: 18, step: 150) // Avg time/img: 0.0485 s\n",
            "loss: 3.448 (epoch: 18, step: 200) // Avg time/img: 0.0487 s\n",
            "loss: 3.437 (epoch: 18, step: 250) // Avg time/img: 0.0485 s\n",
            "loss: 3.449 (epoch: 18, step: 300) // Avg time/img: 0.0484 s\n",
            "loss: 3.459 (epoch: 18, step: 350) // Avg time/img: 0.0486 s\n",
            "loss: 3.462 (epoch: 18, step: 400) // Avg time/img: 0.0487 s\n",
            "loss: 3.468 (epoch: 18, step: 450) // Avg time/img: 0.0488 s\n",
            "----- VALIDATING - EPOCH 18 -----\n",
            "VAL loss: 2.669 (epoch: 18, step: 0) // Avg time/img: 0.0234 s\n",
            "VAL loss: 3.564 (epoch: 18, step: 50) // Avg time/img: 0.0212 s\n",
            "EPOCH IoU on VAL set:  \u001b[0m49.83\u001b[0m %\n",
            "Saving model as best\n",
            "save: ../save/bisenet_training_void/model-018.pth (epoch: 18)\n",
            "save: ../save/bisenet_training_void/model_best.pth (epoch: 18)\n",
            "----- TRAINING - EPOCH 19 -----\n",
            "LEARNING RATE:  0.003147313529485418\n",
            "loss: 2.996 (epoch: 19, step: 0) // Avg time/img: 0.0670 s\n",
            "loss: 3.444 (epoch: 19, step: 50) // Avg time/img: 0.0489 s\n",
            "loss: 3.463 (epoch: 19, step: 100) // Avg time/img: 0.0486 s\n",
            "loss: 3.428 (epoch: 19, step: 150) // Avg time/img: 0.0489 s\n",
            "loss: 3.41 (epoch: 19, step: 200) // Avg time/img: 0.0489 s\n",
            "loss: 3.446 (epoch: 19, step: 250) // Avg time/img: 0.0490 s\n",
            "loss: 3.455 (epoch: 19, step: 300) // Avg time/img: 0.0489 s\n",
            "loss: 3.473 (epoch: 19, step: 350) // Avg time/img: 0.0488 s\n",
            "loss: 3.471 (epoch: 19, step: 400) // Avg time/img: 0.0488 s\n",
            "loss: 3.465 (epoch: 19, step: 450) // Avg time/img: 0.0487 s\n",
            "----- VALIDATING - EPOCH 19 -----\n",
            "VAL loss: 2.833 (epoch: 19, step: 0) // Avg time/img: 0.0220 s\n",
            "VAL loss: 3.716 (epoch: 19, step: 50) // Avg time/img: 0.0216 s\n",
            "EPOCH IoU on VAL set:  \u001b[0m48.21\u001b[0m %\n",
            "save: ../save/bisenet_training_void/model-019.pth (epoch: 19)\n",
            "----- TRAINING - EPOCH 20 -----\n",
            "LEARNING RATE:  0.0016866035595919555\n",
            "loss: 3.176 (epoch: 20, step: 0) // Avg time/img: 0.0592 s\n",
            "loss: 3.474 (epoch: 20, step: 50) // Avg time/img: 0.0493 s\n",
            "loss: 3.462 (epoch: 20, step: 100) // Avg time/img: 0.0491 s\n",
            "loss: 3.444 (epoch: 20, step: 150) // Avg time/img: 0.0491 s\n",
            "loss: 3.468 (epoch: 20, step: 200) // Avg time/img: 0.0491 s\n",
            "loss: 3.448 (epoch: 20, step: 250) // Avg time/img: 0.0490 s\n",
            "loss: 3.443 (epoch: 20, step: 300) // Avg time/img: 0.0490 s\n",
            "loss: 3.448 (epoch: 20, step: 350) // Avg time/img: 0.0489 s\n",
            "loss: 3.439 (epoch: 20, step: 400) // Avg time/img: 0.0489 s\n",
            "loss: 3.441 (epoch: 20, step: 450) // Avg time/img: 0.0488 s\n",
            "----- VALIDATING - EPOCH 20 -----\n",
            "VAL loss: 4.042 (epoch: 20, step: 0) // Avg time/img: 0.0203 s\n",
            "VAL loss: 3.786 (epoch: 20, step: 50) // Avg time/img: 0.0214 s\n",
            "EPOCH IoU on VAL set:  \u001b[0m50.01\u001b[0m %\n",
            "Saving model as best\n",
            "save: ../save/bisenet_training_void/model-020.pth (epoch: 20)\n",
            "save: ../save/bisenet_training_void/model_best.pth (epoch: 20)\n",
            "========== TRAINING FINISHED ===========\n"
          ]
        }
      ]
    },
    {
      "cell_type": "markdown",
      "source": [
        "**Evaluation**"
      ],
      "metadata": {
        "id": "E8ATRy0qGNmA"
      }
    },
    {
      "cell_type": "code",
      "source": [
        "import torch\n",
        "\n",
        "no_execute = False\n",
        "just_once = False\n",
        "\n",
        "for model in models:\n",
        "  print(\"----------------------------\")\n",
        "  for dataset_dir in datasets_list:\n",
        "\n",
        "    if no_execute:\n",
        "      break\n",
        "\n",
        "    load_dir = f'content/Real-Time-Anomaly-Segmentation-for-Road-Scenes/save/{net}_training_void'\n",
        "    weights = f'/model_best.pth'\n",
        "    format_file = os.listdir(f'/content/validation_dataset/{dataset_dir}/images')[0].split(\".\")[1]\n",
        "    input =f'/content/validation_dataset/{dataset_dir}/images/\\*.{format_file}'\n",
        "    print(f\"\\nDataset: {dataset_dir} net: {net}\")\n",
        "\n",
        "    if torch.cuda.is_available():\n",
        "      !python  content/Real-Time-Anomaly-Segmentation-for-Road-Scenes/eval/evalAnomaly.py --input {input} --void --model {net} --loadDir {load_dir} --loadWeights {weights} | tail -n 2\n",
        "    else:\n",
        "      !python  content/Real-Time-Anomaly-Segmentation-for-Road-Scenes/eval/evalAnomaly.py --input {input} --void --model {net} --loadDir {load_dir} --loadWeights {weights} --cpu | tail -n 2\n",
        "\n",
        "    if just_once:\n",
        "      no_execute = True\n",
        "      just_once = False\n"
      ],
      "metadata": {
        "id": "hmjgpr8lGQ78"
      },
      "execution_count": null,
      "outputs": []
    },
    {
      "cell_type": "markdown",
      "source": [
        "**mIoU Void Classification**"
      ],
      "metadata": {
        "id": "5TJKUFjWIbQh"
      }
    },
    {
      "cell_type": "code",
      "source": [
        "import torch\n",
        "no_execute = False\n",
        "just_once = False\n",
        "\n",
        "for model in models:\n",
        "  print(\"----------------------------\")\n",
        "\n",
        "  if no_execute:\n",
        "      break\n",
        "  print(f\"-----------{model}-------------\")\n",
        "  loadDir = f'content/Real-Time-Anomaly-Segmentation-for-Road-Scenes/save/{model}_training_void'\n",
        "  weights = f'/model_best.pth'\n",
        "  if torch.cuda.is_available():\n",
        "    !python  content/Real-Time-Anomaly-Segmentation-for-Road-Scenes/eval/eval_iou.py --loadDir {loadDir} --loadWeights {weights} --datadir /content/cityscapes/ --model {model} | tail -n 25\n",
        "  else:\n",
        "    !python  content/Real-Time-Anomaly-Segmentation-for-Road-Scenes/eval/eval_iou.py  --loadDir {loadDir} --loadWeights {weights} --datadir /content/cityscapes/  --model {model}  --cpu | tail -n 25\n",
        "\n",
        "\n",
        "  if just_once:\n",
        "    no_execute = True\n",
        "    just_once = False"
      ],
      "metadata": {
        "id": "6tiSQNBxIl3r"
      },
      "execution_count": null,
      "outputs": []
    },
    {
      "cell_type": "markdown",
      "source": [
        "### Step 4 - Analyze the Effect of Training Loss function"
      ],
      "metadata": {
        "id": "8n2SPIAyvU5g"
      }
    },
    {
      "cell_type": "markdown",
      "source": [
        "Analyze the effect of the training model along with losses that are specifically made for anomaly detection."
      ],
      "metadata": {
        "id": "dkwRPEbyVkKW"
      }
    },
    {
      "cell_type": "markdown",
      "source": [
        "**Losses**"
      ],
      "metadata": {
        "id": "PEaQplsFKGqJ"
      }
    },
    {
      "cell_type": "markdown",
      "source": [
        "**Fine-tuning**"
      ],
      "metadata": {
        "id": "ACEmk07kKSzF"
      }
    },
    {
      "cell_type": "code",
      "source": [
        "# Fine tune ERFNET with different losses\n",
        "\"\"\"\n",
        "Training:\n",
        "1. Focal loss\n",
        "2. LogitNorm+CrossEntropy loss\n",
        "3. IsoMaxPlus+CrossEntropy loss\n",
        "4. LogitNorm+Focal loss\n",
        "5. IsoMaxPlus+Focal loss\n",
        "\"\"\"\n",
        "titles = [\"Focal\", \"LogitNorm+CrossEntropy\", \"IsoMaxPlus+CrossEntropy\", \"LogitNorm+Focal\", \"IsoMaxPlus+Focal\"]\n",
        "losses = [\"Focal\", \"CrossEntropy\", \"CrossEntropy\", \"Focal\", \"Focal\"]\n",
        "models = [\"erfnet\", \"erfnet\", \"erfnet_isomaxplus\", \"erfnet\", \"erfnet_isomaxplus\"]\n",
        "savedirs = [\"erfnet_training_focal_loss\", \"erfnet_training_logitnorm_cross_entropy_loss\", \"erfnet_training_isomaxplus_cross_entropy_loss\", \"erfnet_training_logitnorm_focal_loss\", \"erfnet_training_isomaxplus_focal_loss\"]\n",
        "logit_normalization_flags = [False, True, False, True, False]\n",
        "epochs = 20\n",
        "\n",
        "# Base directory of the project\n",
        "base_dir = \"/content/Real-Time-Anomaly-Segmentation-for-Road-Scenes/train\"\n",
        "# Dataset directory\n",
        "data_dir = \"/content/cityscapes\"\n",
        "pretrained_weights = \"erfnet_pretrained.pth\"\n",
        "\n",
        "# Loop to execute fine-tuning\n",
        "for title, loss, model, savedir, logit_normalization_flag in zip(titles, losses, models, savedirs, logit_normalization_flags):\n",
        "    print(f\"\\n\\n----- Fine-tuning with {title} loss -----\")\n",
        "    !cd {base_dir} && python -W ignore main.py --savedir {savedir} --loss {loss} --logit_normalization {logit_normalization_flag} --datadir {data_dir} --model {model} --cuda --num-epochs=20 --epochs-save=1 --FineTune --decoder --loadWeights={pretrained_weights}\n",
        "    print(f\"Model saved in /content/Real-Time-Anomaly-Segmentation-for-Road-Scenes/save/{savedir}\")\n",
        "    # zip folder\n",
        "    !zip -r save_{savedir}.zip /content/Real-Time-Anomaly-Segmentation-for-Road-Scenes/save/{savedir}"
      ],
      "metadata": {
        "id": "1eM-3aNyKYrS"
      },
      "execution_count": null,
      "outputs": []
    },
    {
      "cell_type": "markdown",
      "source": [
        "**Extension Evaluation**"
      ],
      "metadata": {
        "id": "1zIp0mbgKafh"
      }
    },
    {
      "cell_type": "code",
      "source": [
        "import torch\n",
        "\n",
        "no_execute = False\n",
        "just_once = False\n",
        "\n",
        "losses = [\"CrossEntropy\", \"Focal\", \"LogitNorm+CrossEntropy\", \"IsoMaxPlus+CrossEntropy\", \"LogitNorm+FocalLoss\", \"IsoMaxPlus+FocalLoss\"]\n",
        "models = [\"erfnet\", \"erfnet\", \"erfnet\", \"erfnet_isomaxplus\", \"erfnet\", \"erfnet_isomaxplus\"]\n",
        "load_dirs = [\"/content/Real-Time-Anomaly-Segmentation-for-Road-Scenes/trained_models/\", \"/content/Real-Time-Anomaly-Segmentation-for-Road-Scenes/save/erfnet_training_focal_loss/\", \"/content/Real-Time-Anomaly-Segmentation-for-Road-Scenes/save/erfnet_training_logitnorm_cross_entropy_loss/\", \"/content/Real-Time-Anomaly-Segmentation-for-Road-Scenes/save/erfnet_training_isomaxplus_cross_entropy_loss/\", \"/content/Real-Time-Anomaly-Segmentation-for-Road-Scenes/save/erfnet_training_logitnorm_focal_loss/\", \"/content/Real-Time-Anomaly-Segmentation-for-Road-Scenes/save/erfnet_training_isomaxplus_focal_loss/\"]\n",
        "weights = [\"erfnet_pretrained.pth\", \"model_best.pth\", \"model_best.pth\", \"model_best.pth\", \"model_best.pth\", \"model_best.pth\"]\n",
        "\n",
        "for loss, model, load_dir, weight in zip(losses, models, load_dirs, weights):\n",
        "  print(f\"------ Evaluating loss: {loss} ------\\n\")\n",
        "  for dataset_dir in ['RoadAnomaly21', 'RoadObsticle21', 'FS_LostFound_full', 'fs_static', 'RoadAnomaly']:\n",
        "    for method in [\"MSP\", \"MaxLogit\", \"MaxEntropy\", \"Mahalanobis\"]:\n",
        "\n",
        "      if no_execute:\n",
        "        break\n",
        "\n",
        "      format_file = os.listdir(f'/content/Validation_Dataset/{dataset_dir}/images')[0].split(\".\")[1]\n",
        "      input =f'/content/Validation_Dataset/{dataset_dir}/images/\\*.{format_file}'\n",
        "\n",
        "      print(f\"\\nDataset: {dataset_dir} method: {method} loss: {loss}\")\n",
        "\n",
        "      if torch.cuda.is_available():\n",
        "        !python  /content/Real-Time-Anomaly-Segmentation-for-Road-Scenes/eval/evalAnomaly.py --input {input} --method  {method} --model {model} --loadDir {load_dir} --loadWeights {weight} | tail -n 2\n",
        "      else:\n",
        "        !python  /content/Real-Time-Anomaly-Segmentation-for-Road-Scenes/eval/evalAnomaly.py --input {input} --method {method}  --model {model} --loadDir {load_dir} --loadWeights {weight} --cpu | tail -n 2\n",
        "\n",
        "      print(\"----------------------------\")\n",
        "      if just_once:\n",
        "        no_execute = True\n",
        "        just_once = False\n",
        "    print(\"----------------------------\\n\\n\")"
      ],
      "metadata": {
        "id": "eopXW5mKKeR9"
      },
      "execution_count": null,
      "outputs": []
    },
    {
      "cell_type": "markdown",
      "source": [
        "##Plot"
      ],
      "metadata": {
        "id": "O1JdbXZnKfyH"
      }
    },
    {
      "cell_type": "code",
      "source": [
        "import torch\n",
        "\n",
        "# Example image to color\n",
        "# Nice images: RoadAnomaly/images/28, RoadAnomaly/images/58\n",
        "input = '/content/Validation_Dataset/RoadAnomaly/images/58.jpg'\n",
        "\n",
        "### Baseline models ###\n",
        "for method in [\"MSP\", \"MaxLogit\", \"MaxEntropy\", \"Mahalanobis\"]:\n",
        "  print(f\"Method: {method}\")\n",
        "  save_image_path = f'/content/Real-Time-Anomaly-Segmentation-for-Road-Scenes/visualization/baseline/{method}'\n",
        "\n",
        "  if torch.cuda.is_available():\n",
        "    !python  /content/Real-Time-Anomaly-Segmentation-for-Road-Scenes/eval/evalAnomaly.py --input {input} --method  {method} --save-colored {save_image_path}  | tail -n 2\n",
        "  else:\n",
        "    !python  /content/Real-Time-Anomaly-Segmentation-for-Road-Scenes/eval/evalAnomaly.py --input {input} --method {method} --save-colored {save_image_path} --cpu | tail -n 2\n",
        "\n",
        "!python /content/Real-Time-Anomaly-Segmentation-for-Road-Scenes/eval/visualization.py --name_dir=\"/ccontent/Real-Time-Anomaly-Segmentation-for-Road-Scenes/visualization/baseline\" --name_output=\"/content/Real-Time-Anomaly-Segmentation-for-Road-Scenes/visualization/baseline_visualization.png\"\n",
        "\n",
        "### Temperature scaling ###\n",
        "for t in [0.5, 0.75, 1.1]:\n",
        "  print(f\"Method: MSP, Temperature: {t}\")\n",
        "  save_image_path = f'/content/Real-Time-Anomaly-Segmentation-for-Road-Scenes/visualization/temperature/t={t}'\n",
        "\n",
        "  if torch.cuda.is_available():\n",
        "    !python  /content/Real-Time-Anomaly-Segmentation-for-Road-Scenes/eval/evalAnomaly.py --input {input} --method 'MSP' --temperature {t} --save-colored {save_image_path} | tail -n 2\n",
        "  else:\n",
        "    !python  /content/Real-Time-Anomaly-Segmentation-for-Road-Scenes/eval/evalAnomaly.py --input {input} --method 'MSP' --cpu --temperature {t} --save-colored {save_image_path} | tail -n 2\n",
        "\n",
        "!python /content/Real-Time-Anomaly-Segmentation-for-Road-Scenes/eval/visualization.py --name_dir=\"/content/Real-Time-Anomaly-Segmentation-for-Road-Scenes/visualization/temperature\" --name_output=\"/content/Real-Time-Anomaly-Segmentation-for-Road-Scenes/visualization/temperature_visualization.png\"\n",
        "\n",
        "### Finetuned models with void ###\n",
        "for net in [\"erfnet\", \"enet\", \"bisenet\"]:\n",
        "  save_image_path = f'/content/Real-Time-Anomaly-Segmentation-for-Road-Scenes/visualization/void/{net}'\n",
        "  load_dir = f'/content/Real-Time-Anomaly-Segmentation-for-Road-Scenes/save/{net}_training_void'\n",
        "  weights = f'/model_best.pth'\n",
        "  print(f\"Finetuned network: {net}\")\n",
        "  if torch.cuda.is_available():\n",
        "    !python  /content/Real-Time-Anomaly-Segmentation-for-Road-Scenes/eval/evalAnomaly.py --input {input} --void --model {net} --loadDir {load_dir} --loadWeights {weights} --save-colored {save_image_path} | tail -n 2\n",
        "  else:\n",
        "    !python  /content/Real-Time-Anomaly-Segmentation-for-Road-Scenes/eval/evalAnomaly.py --input {input} --void --model {net} --loadDir {load_dir} --loadWeights {weights} --cpu --save-colored {save_image_path} | tail -n 2\n",
        "\n",
        "!python /content/Real-Time-Anomaly-Segmentation-for-Road-Scenes/eval/visualization.py --name_dir=\"/content/Real-Time-Anomaly-Segmentation-for-Road-Scenes/visualization/void\" --name_output=\"/content/Real-Time-Anomaly-Segmentation-for-Road-Scenes/visualization/void_visualization.png\"\n",
        "\n",
        "### Losses ###\n",
        "losses = [\"CrossEntropy\", \"Focal\", \"LogitNorm\", \"IsoMaxPlus\"]\n",
        "models = [\"erfnet\", \"erfnet\", \"erfnet\", \"erfnet_isomaxplus\"]\n",
        "load_dirs = [\"/content/Real-Time-Anomaly-Segmentation-for-Road-Scenes/trained_models/\", \"/content/Real-Time-Anomaly-Segmentation-for-Road-Scenes/save/erfnet_training_focal_loss/\", \"/content/Real-Time-Anomaly-Segmentation-for-Road-Scenes/save/erfnet_training_logitnorm_loss/\", \"/content/Real-Time-Anomaly-Segmentation-for-Road-Scenes/save/erfnet_training_isomaxplus_loss/\"]\n",
        "weights = [\"erfnet_pretrained.pth\", \"model_best.pth\", \"model_best.pth\", \"model_best.pth\"]\n",
        "for loss, model, load_dir, weight in zip(losses, models, load_dirs, weights):\n",
        "  for method in [\"MSP\", \"MaxLogit\", \"MaxEntropy\", \"Mahalanobis\"]:\n",
        "    save_image_path = f'/content/Real-Time-Anomaly-Segmentation-for-Road-Scenes/visualization/losses/{loss}/{method}'\n",
        "    print(f\"Method: {method}, loss: {loss}\")\n",
        "    if torch.cuda.is_available():\n",
        "      !python  /content/Real-Time-Anomaly-Segmentation-for-Road-Scenes/eval/evalAnomaly.py --input {input} --method  {method} --model {model} --loadDir {load_dir} --loadWeights {weight} --save-colored {save_image_path} | tail -n 2\n",
        "    else:\n",
        "      !python  /content/Real-Time-Anomaly-Segmentation-for-Road-Scenes/eval/evalAnomaly.py --input {input} --method {method}  --model {model} --loadDir {load_dir} --loadWeights {weight} --save-colored {save_image_path} --cpu | tail -n 2\n",
        "\n",
        "!python /content/Real-Time-Anomaly-Segmentation-for-Road-Scenes/eval/visualization.py --name_dir=\"/content/Real-Time-Anomaly-Segmentation-for-Road-Scenes/visualization/losses/CrossEntropy\" --name_output=\"/content/Real-Time-Anomaly-Segmentation-for-Road-Scenes/visualization/losses_CrossEntropy_visualization.png\"\n",
        "!python /content/Real-Time-Anomaly-Segmentation-for-Road-Scenes/eval/visualization.py --name_dir=\"/content/Real-Time-Anomaly-Segmentation-for-Road-Scenes/visualization/losses/Focal\" --name_output=\"/content/Real-Time-Anomaly-Segmentation-for-Road-Scenes/visualization/losses_Focal_visualization.png\"\n",
        "!python /content/Real-Time-Anomaly-Segmentation-for-Road-Scenes/eval/visualization.py --name_dir=\"/content/Real-Time-Anomaly-Segmentation-for-Road-Scenes/visualization/losses/LogitNorm\" --name_output=\"/content/Real-Time-Anomaly-Segmentation-for-Road-Scenes/visualization/losses_LogitNorm_visualization.png\"\n",
        "!python /ccontent/Real-Time-Anomaly-Segmentation-for-Road-Scenes/eval/visualization.py --name_dir=\"/content/Real-Time-Anomaly-Segmentation-for-Road-Scenes/visualization/losses/IsoMaxPlus\" --name_output=\"/content/Real-Time-Anomaly-Segmentation-for-Road-Scenes/visualization/losses_IsoMaxPlus_visualization.png\"\n",
        "\n",
        "# Zip the images\n",
        "!zip -r colored_anomalies.zip /content/Real-Time-Anomaly-Segmentation-for-Road-Scenes/visualization"
      ],
      "metadata": {
        "id": "kh4XfFbnKkuk"
      },
      "execution_count": null,
      "outputs": []
    }
  ]
}